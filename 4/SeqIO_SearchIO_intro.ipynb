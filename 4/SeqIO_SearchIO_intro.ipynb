{
 "cells": [
  {
   "cell_type": "code",
   "execution_count": 1,
   "metadata": {},
   "outputs": [
    {
     "name": "stdout",
     "output_type": "stream",
     "text": [
      "ID: sp|P04525|DPA5_BPT4\n",
      "Name: sp|P04525|DPA5_BPT4\n",
      "Description: sp|P04525|DPA5_BPT4 DNA polymerase clamp OS=Enterobacteria phage T4 OX=10665 GN=45 PE=1 SV=3\n",
      "Number of features: 0\n",
      "Seq('MKLSKDTTALLKNFATINSGIMLKSGQFIMTRAVNGTTYAEANISDVIDFDVAI...HDF', SingleLetterAlphabet())\n",
      "228\n",
      "\n",
      "\n",
      "\n",
      "MKLSKDTTALLKNFATINSGIMLKSGQFIMTRAVNGTTYAEANISDVIDFDVAIYDLNGFLGILSLVNDDAEISQSEDGNIKIADARSTIFWPAADPSTVVAPNKPIPFPVASAVTEIKAEDLQQLLRVSRGLQIDTIAITVKEGKIVINGFNKVEDSALTRVKYSLTLGDYDGENTFNFIINMANMKMQPGNYKLLLWAKGKQGAAKFEGEHANYVVALEADSTHDF\n",
      "228\n",
      "\n",
      "\n",
      "\n",
      ">sp|P04525|DPA5_BPT4 DNA polymerase clamp OS=Enterobacteria phage T4 OX=10665 GN=45 PE=1 SV=3\n",
      "MKLSKDTTALLKNFATINSGIMLKSGQFIMTRAVNGTTYAEANISDVIDFDVAIYDLNGF\n",
      "LGILSLVNDDAEISQSEDGNIKIADARSTIFWPAADPSTVVAPNKPIPFPVASAVTEIKA\n",
      "EDLQQLLRVSRGLQIDTIAITVKEGKIVINGFNKVEDSALTRVKYSLTLGDYDGENTFNF\n",
      "IINMANMKMQPGNYKLLLWAKGKQGAAKFEGEHANYVVALEADSTHDF\n",
      "\n"
     ]
    }
   ],
   "source": [
    "# The Biopython Tutorial and Cookbook is full of simple examples of working with Seq and SeqRecord objects:\n",
    "# http://biopython.org/DIST/docs/tutorial/Tutorial.html\n",
    "\n",
    "from urllib.request import urlretrieve\n",
    "from Bio import SeqIO as seqio\n",
    "\n",
    "urlretrieve(\"https://www.uniprot.org/uniprot/P04525.fasta\", filename = \"gp45.fasta\")\n",
    "\n",
    "gp45 = seqio.read(\"gp45.fasta\", \"fasta\") # parse() for files with more than one sequence\n",
    "\n",
    "print(gp45)\n",
    "print(len(gp45))\n",
    "print(\"\\n\\n\")\n",
    "\n",
    "print(gp45.seq)\n",
    "print(len(gp45.seq))\n",
    "print(\"\\n\\n\")\n",
    "\n",
    "print(gp45.format(\"fasta\"))"
   ]
  },
  {
   "cell_type": "code",
   "execution_count": 2,
   "metadata": {},
   "outputs": [
    {
     "name": "stdout",
     "output_type": "stream",
     "text": [
      "102\n",
      "[SeqRecord(seq=Seq('MKLSKDTTALLKNFATINSGIMLKSGQFIMTRAVNGTTYAEANISDVIDFDVAI...HDF', ProteinAlphabet()), id='ref|YP_002854009.1|', name='aligned hit sequence', description='gp45 sliding clamp DNA polymerase [Enterobacteria phage RB51]', dbxrefs=[])]\n"
     ]
    }
   ],
   "source": [
    "from math import sqrt\n",
    "keep_seqs = []\n",
    "\n",
    "\n",
    "# Could directly search via NCBI:\n",
    "\n",
    "# from Bio.Blast.NCBIWWW import qblast\n",
    "# result = qblast(\"blastp\", \"nr\", gp45.format(\"fasta\"), expect = 1e-24, hitlist_size = 1000)\n",
    "\n",
    "\n",
    "# Note: we will use SearchIO, which is intended to replace NCBIXML, and has the advantage of a unified interface,\n",
    "# but I will leave the NCBIXML implementation here for comparison:\n",
    "\n",
    "# from Bio.Blast import NCBIXML as xml\n",
    "# blast_records = xml.parse(result)\n",
    "# OR\n",
    "# with open(\"gp45_blast.xml\", 'r') as result:\n",
    "#     blast_records = xml.parse(result) # Note that we're not keeping all of the records in memory\n",
    "#     for record in blast_records:\n",
    "#         for alignment in record.alignments:\n",
    "#             for hsp in alignment.hsps: # high-scoring pair\n",
    "#                 if hsp.identities != len(gp45):\n",
    "#                     if hsp.align_length > sqrt(.5 * 1) * len(gp45) and \\\n",
    "#                     len(hsp.sbjct) < sqrt(1 * 1.5) * len(gp45):\n",
    "#                         keep_seqs.append(hsp.sbjct)\n",
    "\n",
    "\n",
    "from Bio import SearchIO as searchio\n",
    "result = searchio.read(\"gp45_blast.xml\", \"blast-xml\")\n",
    "for hit in result:\n",
    "    for hsp in hit:\n",
    "        if hsp.ident_num != len(gp45):\n",
    "            if hsp.hit_span > sqrt(.5 * 1) * len(gp45) and \\\n",
    "            len(hsp.hit_all) < sqrt(1 * 1.5) * len(gp45):\n",
    "                keep_seqs.append(hsp.hit_all)\n",
    "    \n",
    "\n",
    "print(len(keep_seqs))\n",
    "print(keep_seqs[0])\n",
    "# sio.write(keep_seqs, \"filtered_gp45_hits.fasta\", \"fasta\")\n",
    "\n",
    "# Parsers also exist for the output of other tools, such as the more sensitive HMM-based search tools from HH-suite\n",
    "# and HMMER:\n",
    "# https://biopython.org/DIST/docs/api/Bio.SearchIO.HHsuiteIO-module.html\n",
    "# https://biopython.org/DIST/docs/api/Bio.SearchIO.HmmerIO-module.html"
   ]
  },
  {
   "cell_type": "code",
   "execution_count": 3,
   "metadata": {},
   "outputs": [],
   "source": [
    "# QualityIO https://biopython.org/DIST/docs/api/Bio.SeqIO.QualityIO-module.html"
   ]
  }
 ],
 "metadata": {
  "kernelspec": {
   "display_name": "Python 3",
   "language": "python",
   "name": "python3"
  },
  "language_info": {
   "codemirror_mode": {
    "name": "ipython",
    "version": 3
   },
   "file_extension": ".py",
   "mimetype": "text/x-python",
   "name": "python",
   "nbconvert_exporter": "python",
   "pygments_lexer": "ipython3",
   "version": "3.6.10"
  }
 },
 "nbformat": 4,
 "nbformat_minor": 4
}
