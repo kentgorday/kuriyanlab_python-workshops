{
 "cells": [
  {
   "cell_type": "code",
   "execution_count": 1,
   "metadata": {},
   "outputs": [
    {
     "name": "stdout",
     "output_type": "stream",
     "text": [
      "ID: sp|P04525|DPA5_BPT4\n",
      "Name: sp|P04525|DPA5_BPT4\n",
      "Description: sp|P04525|DPA5_BPT4 DNA polymerase clamp OS=Enterobacteria phage T4 OX=10665 GN=45 PE=1 SV=3\n",
      "Number of features: 0\n",
      "Seq('MKLSKDTTALLKNFATINSGIMLKSGQFIMTRAVNGTTYAEANISDVIDFDVAI...HDF', SingleLetterAlphabet())\n",
      "228\n",
      "\n",
      "\n",
      "\n",
      "MKLSKDTTALLKNFATINSGIMLKSGQFIMTRAVNGTTYAEANISDVIDFDVAIYDLNGFLGILSLVNDDAEISQSEDGNIKIADARSTIFWPAADPSTVVAPNKPIPFPVASAVTEIKAEDLQQLLRVSRGLQIDTIAITVKEGKIVINGFNKVEDSALTRVKYSLTLGDYDGENTFNFIINMANMKMQPGNYKLLLWAKGKQGAAKFEGEHANYVVALEADSTHDF\n",
      "228\n",
      "\n",
      "\n",
      "\n",
      ">sp|P04525|DPA5_BPT4 DNA polymerase clamp OS=Enterobacteria phage T4 OX=10665 GN=45 PE=1 SV=3\n",
      "MKLSKDTTALLKNFATINSGIMLKSGQFIMTRAVNGTTYAEANISDVIDFDVAIYDLNGF\n",
      "LGILSLVNDDAEISQSEDGNIKIADARSTIFWPAADPSTVVAPNKPIPFPVASAVTEIKA\n",
      "EDLQQLLRVSRGLQIDTIAITVKEGKIVINGFNKVEDSALTRVKYSLTLGDYDGENTFNF\n",
      "IINMANMKMQPGNYKLLLWAKGKQGAAKFEGEHANYVVALEADSTHDF\n",
      "\n"
     ]
    }
   ],
   "source": [
    "# In this notebook, we'll introduce the SeqIO module, which works with collections of sequences as Seq and\n",
    "# SeqRecord objects, and the SearchIO module for parsing sequence search output\n",
    "\n",
    "# The Biopython Tutorial and Cookbook is full of simple examples of working with Seq and SeqRecord objects:\n",
    "# http://biopython.org/DIST/docs/tutorial/Tutorial.html\n",
    "\n",
    "from urllib.request import urlretrieve\n",
    "from Bio import SeqIO as seqio\n",
    "\n",
    "# Let's download the T4 clamp gp45 sequence from UniProt in fasta format. We know the URL, we just need to\n",
    "# save the file locally:\n",
    "urlretrieve(\"https://www.uniprot.org/uniprot/P04525.fasta\", filename = \"gp45.fasta\")\n",
    "\n",
    "# Now we'll read in this FASTA-formatted file with a single sequence:\n",
    "gp45 = seqio.read(\"gp45.fasta\", \"fasta\") # parse() for files with more than one sequence\n",
    "\n",
    "# Let's look at the object seqio.read returned (a SeqRecord):\n",
    "print(gp45) # we can see that this SeqRecord contains both the sequence (as .seq), and information from the FASTA\n",
    "print(len(gp45)) # we can call len() on it directly\n",
    "print(\"\\n\\n\")\n",
    "\n",
    "print(gp45.seq) # the Seq object contains the sequence itself, and we can work with it as if it were a string\n",
    "print(len(gp45.seq))\n",
    "print(\"\\n\\n\")\n",
    "\n",
    "print(gp45.format(\"fasta\")) # we can format the SeqRecord"
   ]
  },
  {
   "cell_type": "code",
   "execution_count": 2,
   "metadata": {},
   "outputs": [
    {
     "name": "stdout",
     "output_type": "stream",
     "text": [
      "102\n",
      "ID: ref|YP_002854009.1|\n",
      "Name: aligned hit sequence\n",
      "Description: gp45 sliding clamp DNA polymerase [Enterobacteria phage RB51]\n",
      "Number of features: 0\n",
      "Seq('MKLSKDTTALLKNFATINSGIMLKSGQFIMTRAVNGTTYAEANISDVIDFDVAI...HDF', ProteinAlphabet())\n"
     ]
    },
    {
     "data": {
      "text/plain": [
       "102"
      ]
     },
     "execution_count": 2,
     "metadata": {},
     "output_type": "execute_result"
    }
   ],
   "source": [
    "# Now let's use SearchIO to take the output of a BLAST query, filter the resulting sequences, and write them out\n",
    "\n",
    "\n",
    "from math import sqrt\n",
    "keep_seqs = []\n",
    "\n",
    "\n",
    "# Could directly search via NCBI:\n",
    "\n",
    "# from Bio.Blast.NCBIWWW import qblast\n",
    "# result = qblast(\"blastp\", \"nr\", gp45.format(\"fasta\"), expect = 1e-24, hitlist_size = 1000)\n",
    "\n",
    "\n",
    "# Note: we will use SearchIO, which is intended to replace NCBIXML, and has the advantage of a unified interface,\n",
    "# but I will leave the NCBIXML implementation here for comparison:\n",
    "\n",
    "# from Bio.Blast import NCBIXML as xml\n",
    "# blast_records = xml.parse(result)\n",
    "# OR\n",
    "# with open(\"gp45_blast.xml\", 'r') as result:\n",
    "#     blast_records = xml.parse(result) # Note that we're not keeping all of the records in memory\n",
    "#     for record in blast_records:\n",
    "#         for alignment in record.alignments:\n",
    "#             for hsp in alignment.hsps: # high-scoring pair\n",
    "#                 if hsp.identities != len(gp45):\n",
    "#                     if hsp.align_length > sqrt(.5 * 1) * len(gp45) and \\\n",
    "#                     len(hsp.sbjct) < sqrt(1 * 1.5) * len(gp45):\n",
    "#                         keep_seqs.append(hsp.sbjct)\n",
    "\n",
    "\n",
    "from Bio import SearchIO as searchio\n",
    "result = searchio.read(\"gp45_blast.xml\", \"blast-xml\")\n",
    "for hit in result:\n",
    "    for hsp in hit:\n",
    "        if hsp.ident_num != len(gp45): # if not identical to the query\n",
    "            # if likely to contain 2 clamp domains, not 1 or 3\n",
    "            if hsp.hit_span > sqrt(.5 * 1) * len(gp45) and \\\n",
    "            len(hsp.hit_all) < sqrt(1 * 1.5) * len(gp45):\n",
    "                keep_seqs.append(*hsp.hit_all)\n",
    "\n",
    "\n",
    "print(len(keep_seqs))\n",
    "print(keep_seqs[0])\n",
    "seqio.write(keep_seqs, \"filtered_gp45_hits.fasta\", \"fasta\")\n",
    "\n",
    "# Parsers also exist for the output of other tools, such as the more sensitive HMM-based search tools from HH-suite\n",
    "# and HMMER:\n",
    "# https://biopython.org/DIST/docs/api/Bio.SearchIO.HHsuiteIO-module.html\n",
    "# https://biopython.org/DIST/docs/api/Bio.SearchIO.HmmerIO-module.html"
   ]
  },
  {
   "cell_type": "code",
   "execution_count": 3,
   "metadata": {},
   "outputs": [],
   "source": [
    "# One other useful module, QualityIO, allows you to read FASTQ-formatted files and work with the quality scores:\n",
    "# https://biopython.org/DIST/docs/api/Bio.SeqIO.QualityIO-module.html"
   ]
  }
 ],
 "metadata": {
  "kernelspec": {
   "display_name": "Python 3",
   "language": "python",
   "name": "python3"
  },
  "language_info": {
   "codemirror_mode": {
    "name": "ipython",
    "version": 3
   },
   "file_extension": ".py",
   "mimetype": "text/x-python",
   "name": "python",
   "nbconvert_exporter": "python",
   "pygments_lexer": "ipython3",
   "version": "3.6.10"
  }
 },
 "nbformat": 4,
 "nbformat_minor": 4
}
