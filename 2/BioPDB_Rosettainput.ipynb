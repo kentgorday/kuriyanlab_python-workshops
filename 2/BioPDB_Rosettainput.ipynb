{
 "cells": [
  {
   "cell_type": "markdown",
   "metadata": {},
   "source": [
    "## Intro: This is a Markdown cell\n",
    "\n",
    "Markdown is a simple language to add basic formatting to plain text. Cells in a Jupyter notebook can be changed into Markdown cells using the *Cell > Cell Type > Markdown* menu. You can double click within the cell to edit/view source, and **run** the cell to produce the formatted text. Take a look at the source for this cell, which includes bold/italic text, headers, links, and code blocks.\n",
    "\n",
    "Next, we'll tackle a common problem in setting up molecular dynamics simulations from crystal or cryo structures:\n",
    "modeling missing loops where there is no clear electron density (perhaps due to flexibility or multiple conformations).\n",
    "\n",
    "We'll use next-generation KIC: https://doi.org/10.1371/journal.pone.0063090  \n",
    "https://www.rosettacommons.org/docs/latest/application_documentation/structure_prediction/loop_modeling/next-generation-KIC  \n",
    "within the [Rosetta loopmodel application](https://www.rosettacommons.org/docs/latest/application_documentation/structure_prediction/loop_modeling/loopmodel).\n",
    "\n",
    "For loopmodel, we need to add initial coordinates for the missing atoms to the pdb file, and they need to be linearly independent. Note: this is not required for the remodel application, but we would not be able to use next-generation KIC or KIC with fragments, which perform better on benchmarks.\n",
    "\n",
    "We will also need to generate a loop file. From the Rosetta documentation, it should contain:\n",
    "\n",
    "    column1  \"LOOP\":     The loop file identify tag\n",
    "    column2  \"integer\":  Loop start residue number\n",
    "    column3  \"integer\":  Loop end residue number\n",
    "    column4  \"integer\":  Cut point residue number, >=startRes, <=endRes. Default: 0 (let the loop modeling code \n",
    "                         choose the cut point)\n",
    "                         Note: Setting the cut point outside the loop can lead to a segmentation fault. \n",
    "    column5  \"float\":    Skip rate. Default: 0 (never skip modeling this loop)\n",
    "    column6  \"boolean\":  Extend loop (i.e. discard the native loop conformation and rebuild the loop from\n",
    "                         scratch, idealizing all bond lengths and angles). Default: 0 (false)\n",
    "\n",
    "And while we're at it, we might as well automatically generate the batch scripts we'll need to run loopmodel and submit jobs on our karplus cluster using [GNU parallel](https://www.gnu.org/software/parallel/) (I also have GNU parallel and Rosetta compiled on Savio)."
   ]
  },
  {
   "cell_type": "code",
   "execution_count": 1,
   "metadata": {},
   "outputs": [],
   "source": [
    "from Bio import PDB as pdb"
   ]
  }
 ],
 "metadata": {
  "kernelspec": {
   "display_name": "Python 3",
   "language": "python",
   "name": "python3"
  },
  "language_info": {
   "codemirror_mode": {
    "name": "ipython",
    "version": 3
   },
   "file_extension": ".py",
   "mimetype": "text/x-python",
   "name": "python",
   "nbconvert_exporter": "python",
   "pygments_lexer": "ipython3",
   "version": "3.6.10"
  }
 },
 "nbformat": 4,
 "nbformat_minor": 4
}
