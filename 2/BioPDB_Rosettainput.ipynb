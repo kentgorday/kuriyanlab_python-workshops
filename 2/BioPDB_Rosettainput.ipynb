{
 "cells": [
  {
   "cell_type": "markdown",
   "metadata": {},
   "source": [
    "## Intro: This is a Markdown cell\n",
    "\n",
    "Markdown is a simple language to add basic formatting to plain text. Cells in a Jupyter notebook can be changed into Markdown cells using the *Cell > Cell Type > Markdown* menu. You can double click within the cell to edit/view source, and **run** the cell to produce the formatted text. Take a look at the source for this cell, which includes bold/italic text, headers, links, and code blocks.\n",
    "\n",
    "Next, we'll tackle a common problem in setting up molecular dynamics simulations from crystal or cryo structures:\n",
    "modeling missing loops where there is no clear electron density (perhaps due to flexibility or multiple conformations).\n",
    "\n",
    "We'll use next-generation KIC: https://doi.org/10.1371/journal.pone.0063090  \n",
    "https://www.rosettacommons.org/docs/latest/application_documentation/structure_prediction/loop_modeling/next-generation-KIC  \n",
    "within the [Rosetta loopmodel application](https://www.rosettacommons.org/docs/latest/application_documentation/structure_prediction/loop_modeling/loopmodel).\n",
    "\n",
    "For loopmodel, we need to add initial coordinates for the missing atoms to the pdb file, and they need to be linearly independent. Note: this is not required for the remodel application, but we would not be able to use next-generation KIC or KIC with fragments, which perform better on benchmarks.\n",
    "\n",
    "We will also need to generate a loop file. From the Rosetta documentation, it should contain:\n",
    "\n",
    "    column1  \"LOOP\":     The loop file identify tag\n",
    "    column2  \"integer\":  Loop start residue number\n",
    "    column3  \"integer\":  Loop end residue number\n",
    "    column4  \"integer\":  Cut point residue number, >=startRes, <=endRes. Default: 0 (let the loop modeling code \n",
    "                         choose the cut point)\n",
    "                         Note: Setting the cut point outside the loop can lead to a segmentation fault. \n",
    "    column5  \"float\":    Skip rate. Default: 0 (never skip modeling this loop)\n",
    "    column6  \"boolean\":  Extend loop (i.e. discard the native loop conformation and rebuild the loop from\n",
    "                         scratch, idealizing all bond lengths and angles). Default: 0 (false)\n",
    "\n",
    "And while we're at it, we might as well automatically generate the batch scripts we'll need to run loopmodel and submit jobs on our karplus cluster using [GNU parallel](https://www.gnu.org/software/parallel/) (I also have GNU parallel and Rosetta compiled on Savio)."
   ]
  },
  {
   "cell_type": "code",
   "execution_count": 1,
   "metadata": {},
   "outputs": [
    {
     "name": "stdout",
     "output_type": "stream",
     "text": [
      "ATOM   2005  N   LYS C 192       0.000   0.000   0.000  1.00  0.00           N\n",
      "\n",
      "ATOM   2005  N   LYS C 192     -73.707  13.359 -64.837  1.00  0.00           N\n",
      "\n"
     ]
    }
   ],
   "source": [
    "# Let's start with a more manual method. We'll want to generate random numbers for the fake atom positions, so\n",
    "# we'll import a uniform random number generator:\n",
    "from random import uniform\n",
    "# Note: we don't care about the numbers being actually random, we just need to change them all from (0,0,0), so we\n",
    "# won't bother seeding the number generator.\n",
    "\n",
    "# I've manually created an edited PDB file which has all of the missing atoms. The 'dummy' atoms have coordinates\n",
    "# (0,0,0) and b-factors of 0.\n",
    "with open(\"6vfx_dummy.pdb\", 'r') as f:\n",
    "    lines = f.readlines()\n",
    "\n",
    "# Let's look at an example dummy atom:\n",
    "print(lines[995])\n",
    "\n",
    "newlines = []\n",
    "\n",
    "for line in lines:\n",
    "    # Here we'll identify the lines corresponding to dummy atoms based on their b-factors of 0:\n",
    "    if line[0:4] == \"ATOM\" and line[60:66] == \"  0.00\":\n",
    "        # We need a random number for x, y, and z:\n",
    "        num = tuple(uniform(-96.0, 96.0) for i in range(3))\n",
    "        # And we'll replace the coordinates in the line with these properly-formatted numbers:\n",
    "        line = line[:30] + \"%8.3f\" * 3 % num + line[54:]\n",
    "        # Try to figure out how the above is equivalent to\n",
    "        # line = line[:30] + \"%8.3f\" % num[0] + \"%8.3f\" % num[1] + \"%8.3f\" % num[2] + line[54:]\n",
    "    newlines.append(line)\n",
    "\n",
    "# Let's look at the same dummy atom as before:\n",
    "print(newlines[995])\n",
    "\n",
    "# Now we'll write out our edited PDB:\n",
    "with open(\"6vfx_dummy2.pdb\", 'w') as f:\n",
    "    f.writelines(newlines)"
   ]
  },
  {
   "cell_type": "code",
   "execution_count": 8,
   "metadata": {
    "scrolled": true
   },
   "outputs": [
    {
     "name": "stderr",
     "output_type": "stream",
     "text": [
      "WARNING: The default download format has changed from PDB to PDBx/mmCif\n"
     ]
    },
    {
     "name": "stdout",
     "output_type": "stream",
     "text": [
      "Structure exists: '/home/kent/kuriyanlab_python-workshops/2/vf/6vfx.cif' \n",
      "[<Model id=0>]\n"
     ]
    },
    {
     "name": "stderr",
     "output_type": "stream",
     "text": [
      "/opt/anaconda/lib/python3.7/site-packages/Bio/PDB/StructureBuilder.py:91: PDBConstructionWarning: WARNING: Chain C is discontinuous at line 73193.\n",
      "  PDBConstructionWarning)\n",
      "/opt/anaconda/lib/python3.7/site-packages/Bio/PDB/StructureBuilder.py:91: PDBConstructionWarning: WARNING: Chain B is discontinuous at line 73237.\n",
      "  PDBConstructionWarning)\n",
      "/opt/anaconda/lib/python3.7/site-packages/Bio/PDB/StructureBuilder.py:91: PDBConstructionWarning: WARNING: Chain E is discontinuous at line 73281.\n",
      "  PDBConstructionWarning)\n",
      "/opt/anaconda/lib/python3.7/site-packages/Bio/PDB/StructureBuilder.py:91: PDBConstructionWarning: WARNING: Chain F is discontinuous at line 73325.\n",
      "  PDBConstructionWarning)\n",
      "/opt/anaconda/lib/python3.7/site-packages/Bio/PDB/StructureBuilder.py:91: PDBConstructionWarning: WARNING: Chain D is discontinuous at line 73364.\n",
      "  PDBConstructionWarning)\n",
      "/opt/anaconda/lib/python3.7/site-packages/Bio/PDB/StructureBuilder.py:91: PDBConstructionWarning: WARNING: Chain A is discontinuous at line 73408.\n",
      "  PDBConstructionWarning)\n"
     ]
    }
   ],
   "source": [
    "# The above method required a lot of manual effort. Let's see if we can automate adding the dummy residues using\n",
    "# Bio.PDB:\n",
    "from Bio import PDB as pdb\n",
    "\n",
    "# First we'll retrieve the full mmCIF file from the PDB as before:\n",
    "pdbl = pdb.PDBList()\n",
    "filename = pdbl.retrieve_pdb_file('6vfx')\n",
    "mmcifp = pdb.MMCIFParser()\n",
    "structure_6vfx = mmcifp.get_structure('6vfx', filename)\n",
    "\n",
    "# We'll get a bunch of errors about the 6 ClpX chains being discontinuous...\n",
    "\n",
    "# We'll verify that we only have a single model in this structure. This example does not extend to multiple models.\n",
    "print(list(structure_6vfx.get_models()))"
   ]
  },
  {
   "cell_type": "code",
   "execution_count": 3,
   "metadata": {
    "scrolled": true
   },
   "outputs": [
    {
     "name": "stdout",
     "output_type": "stream",
     "text": [
      "[SeqRecord(seq=Seq('MSNENRTCSFCGKSKSHVKHLIEGENAFICDECVSNCIEILHEDGNDGTPSESA...FES', ProteinAlphabet()), id='6VFX:A', name='6VFX:A', description='UNP:A0A0Y4ZJG4 A0A0Y4ZJG4_NEIME', dbxrefs=['UNP:A0A0Y4ZJG4', 'UNP:A0A0Y4ZJG4_NEIME']), SeqRecord(seq=Seq('MSNENRTCSFCGKSKSHVKHLIEGENAFICDECVSNCIEILHEDGNDGTPSESA...FES', ProteinAlphabet()), id='6VFX:B', name='6VFX:B', description='UNP:A0A0Y4ZJG4 A0A0Y4ZJG4_NEIME', dbxrefs=['UNP:A0A0Y4ZJG4', 'UNP:A0A0Y4ZJG4_NEIME']), SeqRecord(seq=Seq('MSNENRTCSFCGKSKSHVKHLIEGENAFICDECVSNCIEILHEDGNDGTPSESA...FES', ProteinAlphabet()), id='6VFX:C', name='6VFX:C', description='UNP:A0A0Y4ZJG4 A0A0Y4ZJG4_NEIME', dbxrefs=['UNP:A0A0Y4ZJG4', 'UNP:A0A0Y4ZJG4_NEIME']), SeqRecord(seq=Seq('MSNENRTCSFCGKSKSHVKHLIEGENAFICDECVSNCIEILHEDGNDGTPSESA...FES', ProteinAlphabet()), id='6VFX:D', name='6VFX:D', description='UNP:A0A0Y4ZJG4 A0A0Y4ZJG4_NEIME', dbxrefs=['UNP:A0A0Y4ZJG4', 'UNP:A0A0Y4ZJG4_NEIME']), SeqRecord(seq=Seq('MSNENRTCSFCGKSKSHVKHLIEGENAFICDECVSNCIEILHEDGNDGTPSESA...FES', ProteinAlphabet()), id='6VFX:E', name='6VFX:E', description='UNP:A0A0Y4ZJG4 A0A0Y4ZJG4_NEIME', dbxrefs=['UNP:A0A0Y4ZJG4', 'UNP:A0A0Y4ZJG4_NEIME']), SeqRecord(seq=Seq('MSNENRTCSFCGKSKSHVKHLIEGENAFICDECVSNCIEILHEDGNDGTPSESA...FES', ProteinAlphabet()), id='6VFX:F', name='6VFX:F', description='UNP:A0A0Y4ZJG4 A0A0Y4ZJG4_NEIME', dbxrefs=['UNP:A0A0Y4ZJG4', 'UNP:A0A0Y4ZJG4_NEIME']), SeqRecord(seq=Seq('XXXXXXX', ProteinAlphabet()), id='6VFX:G', name='6VFX:G', description='PDB:6VFX 6VFX', dbxrefs=['PDB:6VFX', 'PDB:6VFX']), SeqRecord(seq=Seq('MSFDNYLVPTVIEQSGRGERAFDIYSRLLKERIVFLVGPVTDESANLVVAQLLF...LRL', ProteinAlphabet()), id='6VFX:H', name='6VFX:H', description='UNP:A0A0Y5K536 A0A0Y5K536_NEIME', dbxrefs=['UNP:A0A0Y5K536', 'UNP:A0A0Y5K536_NEIME']), SeqRecord(seq=Seq('MSFDNYLVPTVIEQSGRGERAFDIYSRLLKERIVFLVGPVTDESANLVVAQLLF...LRL', ProteinAlphabet()), id='6VFX:I', name='6VFX:I', description='UNP:A0A0Y5K536 A0A0Y5K536_NEIME', dbxrefs=['UNP:A0A0Y5K536', 'UNP:A0A0Y5K536_NEIME']), SeqRecord(seq=Seq('MSFDNYLVPTVIEQSGRGERAFDIYSRLLKERIVFLVGPVTDESANLVVAQLLF...LRL', ProteinAlphabet()), id='6VFX:J', name='6VFX:J', description='UNP:A0A0Y5K536 A0A0Y5K536_NEIME', dbxrefs=['UNP:A0A0Y5K536', 'UNP:A0A0Y5K536_NEIME']), SeqRecord(seq=Seq('MSFDNYLVPTVIEQSGRGERAFDIYSRLLKERIVFLVGPVTDESANLVVAQLLF...LRL', ProteinAlphabet()), id='6VFX:K', name='6VFX:K', description='UNP:A0A0Y5K536 A0A0Y5K536_NEIME', dbxrefs=['UNP:A0A0Y5K536', 'UNP:A0A0Y5K536_NEIME']), SeqRecord(seq=Seq('MSFDNYLVPTVIEQSGRGERAFDIYSRLLKERIVFLVGPVTDESANLVVAQLLF...LRL', ProteinAlphabet()), id='6VFX:L', name='6VFX:L', description='UNP:A0A0Y5K536 A0A0Y5K536_NEIME', dbxrefs=['UNP:A0A0Y5K536', 'UNP:A0A0Y5K536_NEIME']), SeqRecord(seq=Seq('MSFDNYLVPTVIEQSGRGERAFDIYSRLLKERIVFLVGPVTDESANLVVAQLLF...LRL', ProteinAlphabet()), id='6VFX:M', name='6VFX:M', description='UNP:A0A0Y5K536 A0A0Y5K536_NEIME', dbxrefs=['UNP:A0A0Y5K536', 'UNP:A0A0Y5K536_NEIME']), SeqRecord(seq=Seq('MSFDNYLVPTVIEQSGRGERAFDIYSRLLKERIVFLVGPVTDESANLVVAQLLF...LRL', ProteinAlphabet()), id='6VFX:N', name='6VFX:N', description='UNP:A0A0Y5K536 A0A0Y5K536_NEIME', dbxrefs=['UNP:A0A0Y5K536', 'UNP:A0A0Y5K536_NEIME']), SeqRecord(seq=Seq('MSFDNYLVPTVIEQSGRGERAFDIYSRLLKERIVFLVGPVTDESANLVVAQLLF...LRL', ProteinAlphabet()), id='6VFX:O', name='6VFX:O', description='UNP:A0A0Y5K536 A0A0Y5K536_NEIME', dbxrefs=['UNP:A0A0Y5K536', 'UNP:A0A0Y5K536_NEIME']), SeqRecord(seq=Seq('MSFDNYLVPTVIEQSGRGERAFDIYSRLLKERIVFLVGPVTDESANLVVAQLLF...LRL', ProteinAlphabet()), id='6VFX:P', name='6VFX:P', description='UNP:A0A0Y5K536 A0A0Y5K536_NEIME', dbxrefs=['UNP:A0A0Y5K536', 'UNP:A0A0Y5K536_NEIME']), SeqRecord(seq=Seq('MSFDNYLVPTVIEQSGRGERAFDIYSRLLKERIVFLVGPVTDESANLVVAQLLF...LRL', ProteinAlphabet()), id='6VFX:Q', name='6VFX:Q', description='UNP:A0A0Y5K536 A0A0Y5K536_NEIME', dbxrefs=['UNP:A0A0Y5K536', 'UNP:A0A0Y5K536_NEIME']), SeqRecord(seq=Seq('MSFDNYLVPTVIEQSGRGERAFDIYSRLLKERIVFLVGPVTDESANLVVAQLLF...LRL', ProteinAlphabet()), id='6VFX:R', name='6VFX:R', description='UNP:A0A0Y5K536 A0A0Y5K536_NEIME', dbxrefs=['UNP:A0A0Y5K536', 'UNP:A0A0Y5K536_NEIME']), SeqRecord(seq=Seq('MSFDNYLVPTVIEQSGRGERAFDIYSRLLKERIVFLVGPVTDESANLVVAQLLF...LRL', ProteinAlphabet()), id='6VFX:S', name='6VFX:S', description='UNP:A0A0Y5K536 A0A0Y5K536_NEIME', dbxrefs=['UNP:A0A0Y5K536', 'UNP:A0A0Y5K536_NEIME']), SeqRecord(seq=Seq('MSFDNYLVPTVIEQSGRGERAFDIYSRLLKERIVFLVGPVTDESANLVVAQLLF...LRL', ProteinAlphabet()), id='6VFX:T', name='6VFX:T', description='UNP:A0A0Y5K536 A0A0Y5K536_NEIME', dbxrefs=['UNP:A0A0Y5K536', 'UNP:A0A0Y5K536_NEIME']), SeqRecord(seq=Seq('MSFDNYLVPTVIEQSGRGERAFDIYSRLLKERIVFLVGPVTDESANLVVAQLLF...LRL', ProteinAlphabet()), id='6VFX:U', name='6VFX:U', description='UNP:A0A0Y5K536 A0A0Y5K536_NEIME', dbxrefs=['UNP:A0A0Y5K536', 'UNP:A0A0Y5K536_NEIME'])]\n"
     ]
    }
   ],
   "source": [
    "# The Bio.PDB module itself does not have any tools for retrieving the SEQRES sequence from the header of\n",
    "# PDB/mmCIF files (which should contain the sequence of regions that were not modeled as well). Instead, we'll use\n",
    "# Bio.SeqIO.PdbIO, which is confusingly similar to Bio.PDB.PDBIO...\n",
    "\n",
    "from Bio.SeqIO import PdbIO as pdbio\n",
    "\n",
    "# We'll open the same mmCIF file as before and create a list of SeqRecords corresponding to individual chains:\n",
    "with open(filename, 'r') as f:\n",
    "    chainseqs = list(pdbio.CifSeqresIterator(f))\n",
    "    \n",
    "print(chainseqs)"
   ]
  },
  {
   "cell_type": "code",
   "execution_count": 21,
   "metadata": {},
   "outputs": [
    {
     "name": "stdout",
     "output_type": "stream",
     "text": [
      "[335, 339, 343, 322, 341, 342, 7, 191, 191, 191, 191, 191, 191, 191, 191, 190, 192, 191, 193, 186, 191]\n"
     ]
    }
   ],
   "source": [
    "# Now we want to iterate through the chains corresponding to ClpX (C,B,E,F,D,A), copying them to a new structure\n",
    "\n",
    "# Create a new structure, and add a new model with id 0 to it\n",
    "structure_6vfx_edited = pdb.Structure.Structure('6vfx')\n",
    "structure_6vfx_edited.add(pdb.Model.Model(0))\n",
    "\n",
    "# We'll make a list of chain lengths\n",
    "chainlengths = [len(list(chain.get_residues())) for chain in structure_6vfx.get_chains()]\n",
    "print(chainlengths)\n",
    "\n",
    "# And an empty list to keep track of the loops we will ask Rosetta to build\n",
    "loops = []\n",
    "\n",
    "for chainnum, chain in enumerate(structure_6vfx.get_chains()):\n",
    "    chainid = chain.get_id()\n",
    "    if chainid in \"CBEFDA\":\n",
    "        # Residues have no get_id() method, and Residue.id is a tuple. From the source code:\n",
    "        # (field - hetero flag; \"W\" for waters; \"H\" for hetero residues; otherwise blank,\n",
    "        #  resseq - int; sequence identifier, icode - string; insertion code)\n",
    "        resolvedlist = [residue.id[1] for residue in chain.get_residues()]\n",
    "        structure_6vfx_edited[0].add(pdb.Chain.Chain(chainid))\n",
    "        for resnum, residue in enumerate(chain.get_residues()):\n",
    "            if resnum != chainlengths[chainnum] - 1: # if not the last resolved residue\n",
    "                structure_6vfx_edited[0][chainid].add(residue)\n",
    "                if (residue.id[1] + 1) not in resolvedlist:\n",
    "                    loopstart = residue.id[1]\n",
    "                    buildid = loopstart + 1\n",
    "                    while buildid not in resolvedlist:\n",
    "                        # TODO: figure out next residue to build from sequence\n",
    "                        # find first example of that residue in the full structure and copy it\n",
    "                        # loop through the atoms and randomize the xyz, set b-factor to 0\n",
    "                        # add residue to chain\n",
    "                        buildid += 1\n",
    "                    loops.append((loopstart, buildid))\n",
    "    elif chainid == \"G\":\n",
    "        structure_6vfx_edited[0].add(pdb.Chain.Chain(\"G\"))\n",
    "        for residue in chain.get_residues():\n",
    "            tempresidue = residue\n",
    "            tempresidue.resname = \"ALA\"\n",
    "            structure_6vfx_edited[0][\"G\"].add(tempresidue)"
   ]
  }
 ],
 "metadata": {
  "kernelspec": {
   "display_name": "Python 3",
   "language": "python",
   "name": "python3"
  },
  "language_info": {
   "codemirror_mode": {
    "name": "ipython",
    "version": 3
   },
   "file_extension": ".py",
   "mimetype": "text/x-python",
   "name": "python",
   "nbconvert_exporter": "python",
   "pygments_lexer": "ipython3",
   "version": "3.7.3"
  }
 },
 "nbformat": 4,
 "nbformat_minor": 4
}
