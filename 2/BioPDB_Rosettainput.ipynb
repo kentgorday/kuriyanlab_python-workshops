{
 "cells": [
  {
   "cell_type": "markdown",
   "metadata": {},
   "source": [
    "## Intro: This is a Markdown cell\n",
    "\n",
    "Markdown is a simple language to add basic formatting to plain text. Cells in a Jupyter notebook can be changed into Markdown cells using the *Cell > Cell Type > Markdown* menu. You can double click within the cell to edit/view source, and **run** the cell to produce the formatted text. Take a look at the source for this cell, which includes bold/italic text, headers, links, and code blocks.\n",
    "\n",
    "Next, we'll tackle a common problem in setting up molecular dynamics simulations from crystal or cryo structures:\n",
    "modeling missing loops where there is no clear electron density (perhaps due to flexibility or multiple conformations).\n",
    "\n",
    "We'll use next-generation KIC: https://doi.org/10.1371/journal.pone.0063090  \n",
    "https://www.rosettacommons.org/docs/latest/application_documentation/structure_prediction/loop_modeling/next-generation-KIC  \n",
    "within the [Rosetta loopmodel application](https://www.rosettacommons.org/docs/latest/application_documentation/structure_prediction/loop_modeling/loopmodel).\n",
    "\n",
    "For loopmodel, we need to add initial coordinates for the missing atoms to the pdb file, and they need to be linearly independent. Note: this is not required for the remodel application, but we would not be able to use next-generation KIC or KIC with fragments, which perform better on benchmarks.\n",
    "\n",
    "We will also need to generate a loop file. From the Rosetta documentation, it should contain:\n",
    "\n",
    "    column1  \"LOOP\":     The loop file identify tag\n",
    "    column2  \"integer\":  Loop start residue number\n",
    "    column3  \"integer\":  Loop end residue number\n",
    "    column4  \"integer\":  Cut point residue number, >=startRes, <=endRes. Default: 0 (let the loop modeling code \n",
    "                         choose the cut point)\n",
    "                         Note: Setting the cut point outside the loop can lead to a segmentation fault. \n",
    "    column5  \"float\":    Skip rate. Default: 0 (never skip modeling this loop)\n",
    "    column6  \"boolean\":  Extend loop (i.e. discard the native loop conformation and rebuild the loop from\n",
    "                         scratch, idealizing all bond lengths and angles). Default: 0 (false)\n",
    "\n",
    "And while we're at it, we might as well automatically generate the batch scripts we'll need to run loopmodel and submit jobs on our karplus cluster using [GNU parallel](https://www.gnu.org/software/parallel/) (I also have GNU parallel and Rosetta compiled on Savio)."
   ]
  },
  {
   "cell_type": "code",
   "execution_count": 1,
   "metadata": {},
   "outputs": [
    {
     "name": "stdout",
     "output_type": "stream",
     "text": [
      "ATOM   2005  N   LYS C 192       0.000   0.000   0.000  1.00  0.00           N\n",
      "\n",
      "ATOM   2005  N   LYS C 192     -48.006  76.027  58.835  1.00  0.00           N\n",
      "\n"
     ]
    }
   ],
   "source": [
    "# Let's start with a more manual method. We'll want to generate random numbers for the fake atom positions, so\n",
    "# we'll import a uniform random number generator:\n",
    "from random import uniform\n",
    "# Note: we don't care about the numbers being actually random, we just need to change them all from (0,0,0), so we\n",
    "# won't bother seeding the number generator.\n",
    "\n",
    "# I've manually created an edited PDB file which has all of the missing atoms. The 'dummy' atoms have coordinates\n",
    "# (0,0,0) and b-factors of 0.\n",
    "with open(\"6vfx_dummy.pdb\", 'r') as f:\n",
    "    lines = f.readlines()\n",
    "\n",
    "# Let's look at an example dummy atom:\n",
    "print(lines[995])\n",
    "\n",
    "newlines = []\n",
    "\n",
    "for line in lines:\n",
    "    # Here we'll identify the lines corresponding to dummy atoms based on their b-factors of 0:\n",
    "    if line[0:4] == \"ATOM\" and line[60:66] == \"  0.00\":\n",
    "        # We need a random number for x, y, and z:\n",
    "        num = tuple(uniform(-96.0, 96.0) for i in range(3))\n",
    "        # And we'll replace the coordinates in the line with these properly-formatted numbers:\n",
    "        line = line[:30] + \"%8.3f\" * 3 % num + line[54:]\n",
    "        # Try to figure out how the above is equivalent to\n",
    "        # line = line[:30] + \"%8.3f\" % num[0] + \"%8.3f\" % num[1] + \"%8.3f\" % num[2] + line[54:]\n",
    "    newlines.append(line)\n",
    "\n",
    "# Let's look at the same dummy atom as before:\n",
    "print(newlines[995])\n",
    "\n",
    "# Now we'll write out our edited PDB:\n",
    "with open(\"6vfx_dummy2.pdb\", 'w') as f:\n",
    "    f.writelines(newlines)"
   ]
  },
  {
   "cell_type": "code",
   "execution_count": 2,
   "metadata": {
    "scrolled": true
   },
   "outputs": [
    {
     "name": "stdout",
     "output_type": "stream",
     "text": [
      "Structure exists: '/home/kent/kuriyanlab_python-workshops/2/vf/6vfx.cif' \n"
     ]
    },
    {
     "name": "stderr",
     "output_type": "stream",
     "text": [
      "WARNING: The default download format has changed from PDB to PDBx/mmCif\n"
     ]
    },
    {
     "name": "stdout",
     "output_type": "stream",
     "text": [
      "[<Model id=0>]\n"
     ]
    },
    {
     "name": "stderr",
     "output_type": "stream",
     "text": [
      "/opt/anaconda/envs/demo/lib/python3.6/site-packages/Bio/PDB/StructureBuilder.py:92: PDBConstructionWarning: WARNING: Chain C is discontinuous at line 73193.\n",
      "  PDBConstructionWarning,\n",
      "/opt/anaconda/envs/demo/lib/python3.6/site-packages/Bio/PDB/StructureBuilder.py:92: PDBConstructionWarning: WARNING: Chain B is discontinuous at line 73237.\n",
      "  PDBConstructionWarning,\n",
      "/opt/anaconda/envs/demo/lib/python3.6/site-packages/Bio/PDB/StructureBuilder.py:92: PDBConstructionWarning: WARNING: Chain E is discontinuous at line 73281.\n",
      "  PDBConstructionWarning,\n",
      "/opt/anaconda/envs/demo/lib/python3.6/site-packages/Bio/PDB/StructureBuilder.py:92: PDBConstructionWarning: WARNING: Chain F is discontinuous at line 73325.\n",
      "  PDBConstructionWarning,\n",
      "/opt/anaconda/envs/demo/lib/python3.6/site-packages/Bio/PDB/StructureBuilder.py:92: PDBConstructionWarning: WARNING: Chain D is discontinuous at line 73364.\n",
      "  PDBConstructionWarning,\n",
      "/opt/anaconda/envs/demo/lib/python3.6/site-packages/Bio/PDB/StructureBuilder.py:92: PDBConstructionWarning: WARNING: Chain A is discontinuous at line 73408.\n",
      "  PDBConstructionWarning,\n"
     ]
    }
   ],
   "source": [
    "# The above method required a lot of manual effort. Let's see if we can automate adding the dummy residues using\n",
    "# Bio.PDB:\n",
    "from Bio import PDB as pdb\n",
    "\n",
    "# First we'll retrieve the full mmCIF file from the PDB as before:\n",
    "pdbl = pdb.PDBList()\n",
    "filename = pdbl.retrieve_pdb_file('6vfx')\n",
    "mmcifp = pdb.MMCIFParser()\n",
    "structure_6vfx = mmcifp.get_structure('6vfx', filename)\n",
    "\n",
    "# We'll get a bunch of errors about the 6 ClpX chains being discontinuous...\n",
    "\n",
    "# We'll verify that we only have a single model in this structure. This example does not extend to multiple models.\n",
    "print(list(structure_6vfx.get_models()))"
   ]
  },
  {
   "cell_type": "code",
   "execution_count": 3,
   "metadata": {
    "scrolled": true
   },
   "outputs": [
    {
     "name": "stdout",
     "output_type": "stream",
     "text": [
      "[SeqRecord(seq=Seq('MSNENRTCSFCGKSKSHVKHLIEGENAFICDECVSNCIEILHEDGNDGTPSESA...FES', ProteinAlphabet()), id='6VFX:A', name='6VFX:A', description='UNP:A0A0Y4ZJG4 A0A0Y4ZJG4_NEIME', dbxrefs=['UNP:A0A0Y4ZJG4', 'UNP:A0A0Y4ZJG4_NEIME']), SeqRecord(seq=Seq('MSNENRTCSFCGKSKSHVKHLIEGENAFICDECVSNCIEILHEDGNDGTPSESA...FES', ProteinAlphabet()), id='6VFX:B', name='6VFX:B', description='UNP:A0A0Y4ZJG4 A0A0Y4ZJG4_NEIME', dbxrefs=['UNP:A0A0Y4ZJG4', 'UNP:A0A0Y4ZJG4_NEIME']), SeqRecord(seq=Seq('MSNENRTCSFCGKSKSHVKHLIEGENAFICDECVSNCIEILHEDGNDGTPSESA...FES', ProteinAlphabet()), id='6VFX:C', name='6VFX:C', description='UNP:A0A0Y4ZJG4 A0A0Y4ZJG4_NEIME', dbxrefs=['UNP:A0A0Y4ZJG4', 'UNP:A0A0Y4ZJG4_NEIME']), SeqRecord(seq=Seq('MSNENRTCSFCGKSKSHVKHLIEGENAFICDECVSNCIEILHEDGNDGTPSESA...FES', ProteinAlphabet()), id='6VFX:D', name='6VFX:D', description='UNP:A0A0Y4ZJG4 A0A0Y4ZJG4_NEIME', dbxrefs=['UNP:A0A0Y4ZJG4', 'UNP:A0A0Y4ZJG4_NEIME']), SeqRecord(seq=Seq('MSNENRTCSFCGKSKSHVKHLIEGENAFICDECVSNCIEILHEDGNDGTPSESA...FES', ProteinAlphabet()), id='6VFX:E', name='6VFX:E', description='UNP:A0A0Y4ZJG4 A0A0Y4ZJG4_NEIME', dbxrefs=['UNP:A0A0Y4ZJG4', 'UNP:A0A0Y4ZJG4_NEIME']), SeqRecord(seq=Seq('MSNENRTCSFCGKSKSHVKHLIEGENAFICDECVSNCIEILHEDGNDGTPSESA...FES', ProteinAlphabet()), id='6VFX:F', name='6VFX:F', description='UNP:A0A0Y4ZJG4 A0A0Y4ZJG4_NEIME', dbxrefs=['UNP:A0A0Y4ZJG4', 'UNP:A0A0Y4ZJG4_NEIME']), SeqRecord(seq=Seq('XXXXXXX', ProteinAlphabet()), id='6VFX:G', name='6VFX:G', description='PDB:6VFX 6VFX', dbxrefs=['PDB:6VFX', 'PDB:6VFX']), SeqRecord(seq=Seq('MSFDNYLVPTVIEQSGRGERAFDIYSRLLKERIVFLVGPVTDESANLVVAQLLF...LRL', ProteinAlphabet()), id='6VFX:H', name='6VFX:H', description='UNP:A0A0Y5K536 A0A0Y5K536_NEIME', dbxrefs=['UNP:A0A0Y5K536', 'UNP:A0A0Y5K536_NEIME']), SeqRecord(seq=Seq('MSFDNYLVPTVIEQSGRGERAFDIYSRLLKERIVFLVGPVTDESANLVVAQLLF...LRL', ProteinAlphabet()), id='6VFX:I', name='6VFX:I', description='UNP:A0A0Y5K536 A0A0Y5K536_NEIME', dbxrefs=['UNP:A0A0Y5K536', 'UNP:A0A0Y5K536_NEIME']), SeqRecord(seq=Seq('MSFDNYLVPTVIEQSGRGERAFDIYSRLLKERIVFLVGPVTDESANLVVAQLLF...LRL', ProteinAlphabet()), id='6VFX:J', name='6VFX:J', description='UNP:A0A0Y5K536 A0A0Y5K536_NEIME', dbxrefs=['UNP:A0A0Y5K536', 'UNP:A0A0Y5K536_NEIME']), SeqRecord(seq=Seq('MSFDNYLVPTVIEQSGRGERAFDIYSRLLKERIVFLVGPVTDESANLVVAQLLF...LRL', ProteinAlphabet()), id='6VFX:K', name='6VFX:K', description='UNP:A0A0Y5K536 A0A0Y5K536_NEIME', dbxrefs=['UNP:A0A0Y5K536', 'UNP:A0A0Y5K536_NEIME']), SeqRecord(seq=Seq('MSFDNYLVPTVIEQSGRGERAFDIYSRLLKERIVFLVGPVTDESANLVVAQLLF...LRL', ProteinAlphabet()), id='6VFX:L', name='6VFX:L', description='UNP:A0A0Y5K536 A0A0Y5K536_NEIME', dbxrefs=['UNP:A0A0Y5K536', 'UNP:A0A0Y5K536_NEIME']), SeqRecord(seq=Seq('MSFDNYLVPTVIEQSGRGERAFDIYSRLLKERIVFLVGPVTDESANLVVAQLLF...LRL', ProteinAlphabet()), id='6VFX:M', name='6VFX:M', description='UNP:A0A0Y5K536 A0A0Y5K536_NEIME', dbxrefs=['UNP:A0A0Y5K536', 'UNP:A0A0Y5K536_NEIME']), SeqRecord(seq=Seq('MSFDNYLVPTVIEQSGRGERAFDIYSRLLKERIVFLVGPVTDESANLVVAQLLF...LRL', ProteinAlphabet()), id='6VFX:N', name='6VFX:N', description='UNP:A0A0Y5K536 A0A0Y5K536_NEIME', dbxrefs=['UNP:A0A0Y5K536', 'UNP:A0A0Y5K536_NEIME']), SeqRecord(seq=Seq('MSFDNYLVPTVIEQSGRGERAFDIYSRLLKERIVFLVGPVTDESANLVVAQLLF...LRL', ProteinAlphabet()), id='6VFX:O', name='6VFX:O', description='UNP:A0A0Y5K536 A0A0Y5K536_NEIME', dbxrefs=['UNP:A0A0Y5K536', 'UNP:A0A0Y5K536_NEIME']), SeqRecord(seq=Seq('MSFDNYLVPTVIEQSGRGERAFDIYSRLLKERIVFLVGPVTDESANLVVAQLLF...LRL', ProteinAlphabet()), id='6VFX:P', name='6VFX:P', description='UNP:A0A0Y5K536 A0A0Y5K536_NEIME', dbxrefs=['UNP:A0A0Y5K536', 'UNP:A0A0Y5K536_NEIME']), SeqRecord(seq=Seq('MSFDNYLVPTVIEQSGRGERAFDIYSRLLKERIVFLVGPVTDESANLVVAQLLF...LRL', ProteinAlphabet()), id='6VFX:Q', name='6VFX:Q', description='UNP:A0A0Y5K536 A0A0Y5K536_NEIME', dbxrefs=['UNP:A0A0Y5K536', 'UNP:A0A0Y5K536_NEIME']), SeqRecord(seq=Seq('MSFDNYLVPTVIEQSGRGERAFDIYSRLLKERIVFLVGPVTDESANLVVAQLLF...LRL', ProteinAlphabet()), id='6VFX:R', name='6VFX:R', description='UNP:A0A0Y5K536 A0A0Y5K536_NEIME', dbxrefs=['UNP:A0A0Y5K536', 'UNP:A0A0Y5K536_NEIME']), SeqRecord(seq=Seq('MSFDNYLVPTVIEQSGRGERAFDIYSRLLKERIVFLVGPVTDESANLVVAQLLF...LRL', ProteinAlphabet()), id='6VFX:S', name='6VFX:S', description='UNP:A0A0Y5K536 A0A0Y5K536_NEIME', dbxrefs=['UNP:A0A0Y5K536', 'UNP:A0A0Y5K536_NEIME']), SeqRecord(seq=Seq('MSFDNYLVPTVIEQSGRGERAFDIYSRLLKERIVFLVGPVTDESANLVVAQLLF...LRL', ProteinAlphabet()), id='6VFX:T', name='6VFX:T', description='UNP:A0A0Y5K536 A0A0Y5K536_NEIME', dbxrefs=['UNP:A0A0Y5K536', 'UNP:A0A0Y5K536_NEIME']), SeqRecord(seq=Seq('MSFDNYLVPTVIEQSGRGERAFDIYSRLLKERIVFLVGPVTDESANLVVAQLLF...LRL', ProteinAlphabet()), id='6VFX:U', name='6VFX:U', description='UNP:A0A0Y5K536 A0A0Y5K536_NEIME', dbxrefs=['UNP:A0A0Y5K536', 'UNP:A0A0Y5K536_NEIME'])]\n",
      "[414, 414, 414, 414, 414, 414, 7, 204, 204, 204, 204, 204, 204, 204, 204, 204, 204, 204, 204, 204, 204]\n"
     ]
    }
   ],
   "source": [
    "# The Bio.PDB module itself does not have any tools for retrieving the SEQRES sequence from the header of\n",
    "# PDB/mmCIF files (which should contain the sequence of regions that were not modeled as well). Instead, we'll use\n",
    "# Bio.SeqIO.PdbIO, which is confusingly similar to Bio.PDB.PDBIO...\n",
    "\n",
    "from Bio.SeqIO import PdbIO as pdbio\n",
    "\n",
    "# We'll open the same mmCIF file as before and create a list of SeqRecords corresponding to individual chains:\n",
    "with open(filename, 'r') as f:\n",
    "    chainseqs = list(pdbio.CifSeqresIterator(f))\n",
    "    \n",
    "# Let's take a look at the list of sequences, and their lengths\n",
    "print(chainseqs)\n",
    "print([len(chain.seq) for chain in chainseqs])"
   ]
  },
  {
   "cell_type": "code",
   "execution_count": 4,
   "metadata": {},
   "outputs": [
    {
     "name": "stdout",
     "output_type": "stream",
     "text": [
      "[335, 339, 343, 322, 341, 342, 7]\n",
      "building\n",
      "building\n",
      "building\n",
      "building\n",
      "building\n",
      "building\n",
      "building\n",
      "building\n",
      "building\n",
      "building\n",
      "building\n",
      "building\n",
      "building\n",
      "building\n",
      "[(129, 137), (165, 172), (212, 217), (515, 524), (564, 570), (834, 841), (918, 922), (1184, 1199), (1220, 1228), (1268, 1277), (1537, 1544), (1573, 1579), (1924, 1931), (1971, 1976)]\n"
     ]
    }
   ],
   "source": [
    "# We will need to convert from 1- to 3-letter amino acid codes, so we'll import a function from biopython to do so:\n",
    "from Bio.SeqUtils import seq3\n",
    "\n",
    "# Create a new structure, and add a new model with id 0 to it\n",
    "structure_6vfx_edited = pdb.Structure.Structure('6vfx')\n",
    "structure_6vfx_edited.add(pdb.Model.Model(0))\n",
    "\n",
    "# We'll make a list of resolved chain lengths\n",
    "chainlengths = [len(list(chain.get_residues())) for chain in structure_6vfx.get_chains()]\n",
    "print(chainlengths[:7])\n",
    "\n",
    "# And an empty list to keep track of the loops we will ask Rosetta to build\n",
    "loops = []\n",
    "\n",
    "# Now we want to iterate through the chains corresponding to ClpX (C,B,E,F,D,A), copying them to a new structure\n",
    "for chainnum, chain in enumerate(structure_6vfx.get_chains()):\n",
    "    chainid = chain.get_id()\n",
    "    if chainid in \"CBEFDA\":\n",
    "        # Residue.id is a tuple. From the source code:\n",
    "        # (field - hetero flag; \"W\" for waters; \"H\" for hetero residues; otherwise blank,\n",
    "        #  resseq - int; sequence identifier, icode - string; insertion code)\n",
    "        resolvedlist = [residue.get_id()[1] for residue in chain.get_residues()]\n",
    "        structure_6vfx_edited[0].add(pdb.Chain.Chain(chainid))\n",
    "        for resnum, residue in enumerate(chain.get_residues()):\n",
    "            structure_6vfx_edited[0][chainid].add(residue)\n",
    "            if resnum < chainlengths[chainnum] - 3: # if not the last resolved residue\n",
    "                if (residue.get_id()[1] + 1) not in resolvedlist: # if the next residue is not resolved\n",
    "                    # count the number of residues already in the chain, as Rosetta numbers from 1\n",
    "                    loopstart = len(list(structure_6vfx_edited.get_residues()))\n",
    "                    buildid = residue.get_id()[1]\n",
    "                    built = 0\n",
    "                    print(\"building\")\n",
    "                    while buildid + 1 not in resolvedlist:\n",
    "                        # Figure out next residue to build from sequence:\n",
    "                        buildaa3 = seq3(chainseqs[chainnum].seq[buildid]).upper()\n",
    "                        # find first example of that residue in the full structure and copy it\n",
    "                        for candidateresnum, candidateresidue in enumerate(structure_6vfx.get_residues()):\n",
    "                            if candidateresidue.get_resname() == buildaa3:\n",
    "                                # make sure not to copy termini\n",
    "                                if candidateresnum != 0 and candidateresnum < chainlengths[chainnum] - 3:\n",
    "                                    # Now we will manually copy this residue and its atoms:\n",
    "                                    tempresidue = pdb.Residue.Residue((' ', buildid + 1, ' '), buildaa3, ' ')\n",
    "                                    for atom in candidateresidue.get_atoms():\n",
    "                                        # randomize the coordinates, set b-factor to 0:\n",
    "                                        tempatom = pdb.Atom.Atom(atom.get_name(), tuple(uniform(-96.0, 96.0) for i in range(3)), 0, 1, ' ', atom.get_fullname(), 0, atom.element)\n",
    "                                        tempresidue.add(tempatom)\n",
    "                                    continue # break out of for loop\n",
    "                        # add residue to chain\n",
    "                        structure_6vfx_edited[0][chainid].add(tempresidue)\n",
    "                        buildid += 1\n",
    "                        built += 1\n",
    "                    # Add the start and end numbers based on Rosetta numbering\n",
    "                    loops.append((loopstart, loopstart + built + 1))\n",
    "    elif chainid == \"G\": # We'll also model the substrate, chain G, as a poly-alanine\n",
    "        structure_6vfx_edited[0].add(pdb.Chain.Chain(\"G\"))\n",
    "        for residue in chain.get_residues():\n",
    "            tempresidue = pdb.Residue.Residue(residue.get_id(), \"ALA\", ' ')\n",
    "            for atom in residue.get_atoms():\n",
    "                tempatom = pdb.Atom.Atom(atom.get_name(), atom.get_coord(), atom.get_bfactor(), 1, ' ', atom.get_fullname(), 0, atom.element)\n",
    "                tempresidue.add(tempatom)\n",
    "            structure_6vfx_edited[0][\"G\"].add(tempresidue)\n",
    "\n",
    "print(loops)"
   ]
  },
  {
   "cell_type": "code",
   "execution_count": 5,
   "metadata": {},
   "outputs": [],
   "source": [
    "# Now we need to write our loops to the . Looking at the documentation, we want:\n",
    "# LOOP start end (halfway between start and end) (0: never skip this loop) (1: discard initial loop conformation)\n",
    "with open(\"loops.txt\", 'w') as f:\n",
    "    for loop in loops:\n",
    "        f.write(\"LOOP \" + str(loop[0]) + \" \" + str(loop[1]) + \" \" + str((loop[0] + loop[1]) // 2) + \" 0 1\\n\")"
   ]
  },
  {
   "cell_type": "code",
   "execution_count": 6,
   "metadata": {},
   "outputs": [],
   "source": [
    "# And write our edited structure to a PDB file:\n",
    "pdbio = pdb.PDBIO()\n",
    "pdbio.set_structure(structure_6vfx_edited)\n",
    "pdbio.save(\"6vfx_edited.pdb\")"
   ]
  },
  {
   "cell_type": "code",
   "execution_count": 7,
   "metadata": {},
   "outputs": [],
   "source": [
    "# I have defined my own parameters for ATP more carefully than the default parameters, and I've called them A3P\n",
    "# to avoid collision\n",
    "# We'll quickly create a PDB file where we replace ATP with A3P:\n",
    "with open(\"6vfx_edited.pdb\", 'r') as f:\n",
    "    lines = f.readlines()\n",
    "\n",
    "with open(\"6vfx_edited2.pdb\", 'w') as f:\n",
    "    for line in lines:\n",
    "        f.write(line.replace(\"ATP\", \"A3P\"))"
   ]
  },
  {
   "cell_type": "code",
   "execution_count": 8,
   "metadata": {},
   "outputs": [
    {
     "data": {
      "text/plain": [
       "\"\\n#!/bin/bash\\n#PBS -N rosetta_6vfx_1\\n#PBS -q shortq\\n#PBS -l nodes=1:ppn=16\\n#PBS -m ae\\n#PBS -M kent.gorday@berkeley.edu\\n#PBS -o rosetta_6vfx_1.o\\n#PBS -S /bin/bash\\n\\nsource /home/kentgorday/.bashrc\\n\\ncd /home/kentgorday/rosetta_6vfx\\n\\nparallel --tmpdir /export/silo/kent/scratch 'mkdir -p out/{} ; cd out/{} && /home/kentgorday/code/rosetta/main/source/bin/loopmodel.linuxgccrelease -database /home/kentgorday/code/rosetta/main/database -in:file:s ../../6vfx_edited2.pdb -in:file:fullatom -in:file:extra_res_fa /home/kentgorday/rosetta_ligands/A3P.fa.params /home/kentgorday/rosetta_ligands/ADP.fa.params -in:file:extra_res_cen /home/kentgorday/rosetta_ligands/A3P.cen.params /home/kentgorday/rosetta_ligands/ADP.cen.params -loops:loop_file ../../loop.txt -loops:remodel perturb_kic -loops:refine refine_kic -loops:taboo_sampling -loops:kic_rama2b -loops:ramp_fa_rep -loops:ramp_rama -ex1 -ex2 -overwrite -allow_omega_move true -loops:refine_outer_cycles 6 -nstruct 128 -run:constant_seed -run:jran {}' ::: {16..31}\\n\""
      ]
     },
     "execution_count": 8,
     "metadata": {},
     "output_type": "execute_result"
    }
   ],
   "source": [
    "# Let's also create batch scripts using GNU parallel to run 16 processes with different random seeds on each node\n",
    "# Here is an example batch script corresponding to the second job (processes 16-31)\n",
    "\n",
    "\"\"\"\n",
    "#!/bin/bash\n",
    "#PBS -N rosetta_6vfx_1\n",
    "#PBS -q shortq\n",
    "#PBS -l nodes=1:ppn=16\n",
    "#PBS -m ae\n",
    "#PBS -M kent.gorday@berkeley.edu\n",
    "#PBS -o rosetta_6vfx_1.o\n",
    "#PBS -S /bin/bash\n",
    "\n",
    "source /home/kentgorday/.bashrc\n",
    "\n",
    "cd /home/kentgorday/rosetta_6vfx\n",
    "\n",
    "parallel --tmpdir /export/silo/kent/scratch 'mkdir -p out/{} ; cd out/{} && /home/kentgorday/code/rosetta/main/source/bin/loopmodel.linuxgccrelease -database /home/kentgorday/code/rosetta/main/database -in:file:s ../../6vfx_edited2.pdb -in:file:fullatom -in:file:extra_res_fa /home/kentgorday/rosetta_ligands/A3P.fa.params /home/kentgorday/rosetta_ligands/ADP.fa.params -in:file:extra_res_cen /home/kentgorday/rosetta_ligands/A3P.cen.params /home/kentgorday/rosetta_ligands/ADP.cen.params -loops:loop_file ../../loop.txt -loops:remodel perturb_kic -loops:refine refine_kic -loops:taboo_sampling -loops:kic_rama2b -loops:ramp_fa_rep -loops:ramp_rama -ex1 -ex2 -overwrite -allow_omega_move true -loops:refine_outer_cycles 6 -nstruct 128 -run:constant_seed -run:jran {}' ::: {16..31}\n",
    "\"\"\""
   ]
  },
  {
   "cell_type": "code",
   "execution_count": 9,
   "metadata": {},
   "outputs": [],
   "source": [
    "constant1 = \"\"\"#!/bin/bash\n",
    "#PBS -N rosetta_6vfx_\"\"\"\n",
    "# insert job # here\n",
    "# Here we'll just assume 16 processors per node, but you could of course make this a variable as well\n",
    "constant2 = \"\"\"\n",
    "#PBS -q shortq\n",
    "#PBS -l nodes=1:ppn=16\n",
    "#PBS -m ae\n",
    "#PBS -M kent.gorday@berkeley.edu\n",
    "#PBS -o rosetta_6vfx_\"\"\"\n",
    "# insert job # here\n",
    "constant3 = \"\"\".o\n",
    "#PBS -S /bin/bash\n",
    "\n",
    "source /home/kentgorday/.bashrc\n",
    "\n",
    "cd /home/kentgorday/rosetta_6vfx\n",
    "\n",
    "parallel --tmpdir /export/silo/kent/scratch 'mkdir -p out/{} ; cd out/{} && /home/kentgorday/code/rosetta/main/source/bin/loopmodel.linuxgccrelease -database /home/kentgorday/code/rosetta/main/database -in:file:s ../../6vfx_edited2.pdb -in:file:fullatom -in:file:extra_res_fa /home/kentgorday/rosetta_ligands/A3P.fa.params /home/kentgorday/rosetta_ligands/ADP.fa.params -in:file:extra_res_cen /home/kentgorday/rosetta_ligands/A3P.cen.params /home/kentgorday/rosetta_ligands/ADP.cen.params -loops:loop_file ../../loops.txt -loops:remodel perturb_kic -loops:refine refine_kic -loops:taboo_sampling -loops:kic_rama2b -loops:ramp_fa_rep -loops:ramp_rama -ex1 -ex2 -overwrite -allow_omega_move true -loops:refine_outer_cycles 6 -nstruct 128 -run:constant_seed -run:jran {}' ::: {\"\"\"\n",
    "# insert start processes # for this job\n",
    "constant4 = \"..\"\n",
    "# insert end process # for this job\n",
    "constant5 = \"}\"\n",
    "\n",
    "numnodes = 2\n",
    "\n",
    "for i in range(numnodes):\n",
    "    with open(\"rosetta_6vfx_\" + str(i) + \".pbs\", 'w') as f:\n",
    "        # putting it all together:\n",
    "        f.write(constant1 + str(i) + constant2 + str(i) + constant3 + str(i * 16) + constant4 +\n",
    "                str((i + 1) * 16 - 1) + constant5)"
   ]
  }
 ],
 "metadata": {
  "kernelspec": {
   "display_name": "Python 3",
   "language": "python",
   "name": "python3"
  },
  "language_info": {
   "codemirror_mode": {
    "name": "ipython",
    "version": 3
   },
   "file_extension": ".py",
   "mimetype": "text/x-python",
   "name": "python",
   "nbconvert_exporter": "python",
   "pygments_lexer": "ipython3",
   "version": "3.6.10"
  }
 },
 "nbformat": 4,
 "nbformat_minor": 4
}
