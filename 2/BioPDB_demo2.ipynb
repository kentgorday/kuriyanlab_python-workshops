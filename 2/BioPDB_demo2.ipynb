{
 "cells": [
  {
   "cell_type": "code",
   "execution_count": 1,
   "metadata": {},
   "outputs": [
    {
     "name": "stderr",
     "output_type": "stream",
     "text": [
      "WARNING: The default download format has changed from PDB to PDBx/mmCif\n",
      "WARNING: The default download format has changed from PDB to PDBx/mmCif\n"
     ]
    },
    {
     "name": "stdout",
     "output_type": "stream",
     "text": [
      "Structure exists: '/home/kent/kuriyanlab_python-workshops/2/cz/1czd.cif' \n",
      "Structure exists: '/home/kent/kuriyanlab_python-workshops/2/u6/3u60.cif' \n"
     ]
    },
    {
     "name": "stderr",
     "output_type": "stream",
     "text": [
      "/opt/anaconda/envs/demo/lib/python3.6/site-packages/Bio/PDB/StructureBuilder.py:92: PDBConstructionWarning: WARNING: Chain B is discontinuous at line 17571.\n",
      "  PDBConstructionWarning,\n",
      "/opt/anaconda/envs/demo/lib/python3.6/site-packages/Bio/PDB/StructureBuilder.py:92: PDBConstructionWarning: WARNING: Chain C is discontinuous at line 17603.\n",
      "  PDBConstructionWarning,\n",
      "/opt/anaconda/envs/demo/lib/python3.6/site-packages/Bio/PDB/StructureBuilder.py:92: PDBConstructionWarning: WARNING: Chain D is discontinuous at line 17635.\n",
      "  PDBConstructionWarning,\n",
      "/opt/anaconda/envs/demo/lib/python3.6/site-packages/Bio/PDB/StructureBuilder.py:92: PDBConstructionWarning: WARNING: Chain E is discontinuous at line 17667.\n",
      "  PDBConstructionWarning,\n"
     ]
    }
   ],
   "source": [
    "from Bio import PDB as pdb\n",
    "%matplotlib inline\n",
    "from matplotlib import pyplot as plt\n",
    "# We'll be using itertools, which contains tools for creating iterators:\n",
    "import itertools as it\n",
    "\n",
    "# We'll again retrieve and load the closed clamp structure, 1czd, but also a structure of the open clamp on\n",
    "# clamp loader, 3u60:\n",
    "pdbl = pdb.PDBList()\n",
    "filename_1czd = pdbl.retrieve_pdb_file('1czd')\n",
    "filename_3u60 = pdbl.retrieve_pdb_file('3u60')\n",
    "mmcifp = pdb.MMCIFParser()\n",
    "structure_closed = mmcifp.get_structure('1czd', filename_1czd)\n",
    "structure_open = mmcifp.get_structure('3u60', filename_3u60)"
   ]
  },
  {
   "cell_type": "markdown",
   "metadata": {},
   "source": [
    "Small-angle X-ray scattering (SAXS) intensity measures the Fourier transform of the pair distribution function between electrons in a protein or macromolecule of interest. We will play around with predicting this pair distribution function from static structures (an approximation) for two different clamp states: open as in clamp-loader-bound structures, and closed. We will make three approximations: disregarding hydrogens, which are not in these structures and contribute little to the scattering, localizing electrons at atomic coordinates, and counting electrons based on element only."
   ]
  },
  {
   "cell_type": "code",
   "execution_count": 2,
   "metadata": {},
   "outputs": [
    {
     "name": "stdout",
     "output_type": "stream",
     "text": [
      "Chain B raw score: 104.0\n",
      "  Score per length: 0.32398753894080995\n",
      "Chain C raw score: 104.0\n",
      "  Score per length: 0.32298136645962733\n",
      "Chain D raw score: 104.0\n",
      "  Score per length: 0.32398753894080995\n",
      "Chain E raw score: 84.0\n",
      "  Score per length: 0.2736156351791531\n",
      "Chain A raw score: 78.0\n",
      "  Score per length: 0.41935483870967744\n",
      "Chain G raw score: 228.0\n",
      "  Score per length: 1.0\n",
      "Chain H raw score: 228.0\n",
      "  Score per length: 1.0\n",
      "Chain F raw score: 228.0\n",
      "  Score per length: 1.0\n",
      "Pairwise sequence aligner with parameters\n",
      "  match_score: 1.000000\n",
      "  mismatch_score: 0.000000\n",
      "  target_internal_open_gap_score: 0.000000\n",
      "  target_internal_extend_gap_score: 0.000000\n",
      "  target_left_open_gap_score: 0.000000\n",
      "  target_left_extend_gap_score: 0.000000\n",
      "  target_right_open_gap_score: 0.000000\n",
      "  target_right_extend_gap_score: 0.000000\n",
      "  query_internal_open_gap_score: 0.000000\n",
      "  query_internal_extend_gap_score: 0.000000\n",
      "  query_left_open_gap_score: 0.000000\n",
      "  query_left_extend_gap_score: 0.000000\n",
      "  query_right_open_gap_score: 0.000000\n",
      "  query_right_extend_gap_score: 0.000000\n",
      "  mode: local\n",
      "\n"
     ]
    }
   ],
   "source": [
    "# First, let's make sure we can select just the clamp chains in the open structure, which also contains the clamp\n",
    "# loader, DNA, and ligands. We happen to know that the chains F, G, and H correspond to the clamp chains in this\n",
    "# structure, but let's verify this by checking how well the sequence of chain A from the closed structure aligns\n",
    "# to each chain in the open structure\n",
    "\n",
    "from Bio import Align as align\n",
    "aligner = align.PairwiseAligner()\n",
    "aligner.mode = \"local\"\n",
    "builder = pdb.PPBuilder()\n",
    "# Note: in the Rosetta notebook in this workshop, there is an example of reading the sequence from the PDB header\n",
    "# instead of from the coordinates\n",
    "\n",
    "# Build the polypeptide sequence from the coordinates of chain A in the closed structure:\n",
    "referencepp = builder.build_peptides(structure_closed[0]['A'])\n",
    "\n",
    "for chain in structure_open.get_chains():\n",
    "    # Note: we have to set aa_only to false to prevent the builder from stopping at selenomethionines\n",
    "    chainpp = builder.build_peptides(chain, aa_only = False) # we could also call build_peptides with the structure\n",
    "    if len(chainpp) > 0: # if a polypeptide was actually built (aka not a DNA/ligand chain letter)\n",
    "        # Align and score this chain against chain A of the closed structure:\n",
    "        chainscore = aligner.score(chainpp[0].get_sequence(), referencepp[0].get_sequence())\n",
    "        # We could also print the alignment itself:\n",
    "        # print(aligner.align(chainpp[0].get_sequence(), referencepp[0].get_sequence())[0])\n",
    "        print(\"Chain \" + chain.get_id() + \" raw score: \" + str(chainscore))\n",
    "        print(\"  Score per length: \" + str(chainscore / len(list(chain.get_residues()))))\n",
    "        \n",
    "# Here we were using the default parameters, which are not very useful for real alignments:\n",
    "print(aligner)"
   ]
  },
  {
   "cell_type": "code",
   "execution_count": 3,
   "metadata": {},
   "outputs": [
    {
     "name": "stdout",
     "output_type": "stream",
     "text": [
      "Chain B raw score: 6.0\n",
      "  Score per length: 0.018691588785046728\n",
      "Chain C raw score: 6.0\n",
      "  Score per length: 0.018633540372670808\n",
      "Chain D raw score: 6.0\n",
      "  Score per length: 0.018691588785046728\n",
      "Chain E raw score: 3.0\n",
      "  Score per length: 0.009771986970684038\n",
      "Chain A raw score: 4.0\n",
      "  Score per length: 0.021505376344086023\n",
      "Chain G raw score: 228.0\n",
      "  Score per length: 1.0\n",
      "Chain H raw score: 228.0\n",
      "  Score per length: 1.0\n",
      "Chain F raw score: 228.0\n",
      "  Score per length: 1.0\n"
     ]
    }
   ],
   "source": [
    "# Let's set reasonable match and mismatch penalties (we could also use a substitution matrix) and see what happens:\n",
    "aligner.match_score = 1.0\n",
    "aligner.mismatch_score = -2.0\n",
    "aligner.gap_score = -2.5\n",
    "\n",
    "for chain in structure_open.get_chains():\n",
    "    chainpp = builder.build_peptides(chain, aa_only = False) # we could also call build_peptides with the structure\n",
    "    if len(chainpp) > 0: # if a polypeptide was actually built (aka not a DNA/ligand chain letter)\n",
    "        chainscore = aligner.score(chainpp[0].get_sequence(), referencepp[0].get_sequence())\n",
    "        print(\"Chain \" + chain.get_id() + \" raw score: \" + str(chainscore))\n",
    "        print(\"  Score per length: \" + str(chainscore / len(list(chain.get_residues()))))"
   ]
  },
  {
   "cell_type": "code",
   "execution_count": 4,
   "metadata": {},
   "outputs": [
    {
     "name": "stdout",
     "output_type": "stream",
     "text": [
      "97.1033\n",
      "13778625\n"
     ]
    }
   ],
   "source": [
    "maxdist_closed = 0\n",
    "numpairs_closed = 0\n",
    "\n",
    "# We will use itertools.combinations to create an iterator over all unique pairs (r = 2) of atoms,\n",
    "# without storing all of the pairs in memory at once:\n",
    "for pair in it.combinations(structure_closed.get_atoms(), 2):\n",
    "    if pair[0] - pair[1] > maxdist_closed:\n",
    "        maxdist_closed = pair[0] - pair[1]\n",
    "    numpairs_closed += 1\n",
    "    \n",
    "print(maxdist_closed)\n",
    "print(numpairs_closed)\n",
    "# There are over 13 million pairs of atoms in this structure"
   ]
  },
  {
   "cell_type": "code",
   "execution_count": 5,
   "metadata": {},
   "outputs": [
    {
     "name": "stdout",
     "output_type": "stream",
     "text": [
      "103.357834\n",
      "13778625\n"
     ]
    }
   ],
   "source": [
    "# Let's do the same for the open conformation\n",
    "maxdist_open = 0\n",
    "numpairs_open = 0\n",
    "\n",
    "# We will again use itertools, now to chain together the separate get_atoms() iterators into a single iterator,\n",
    "# one after another:\n",
    "open_atomiterator = it.chain(structure_open[0]['F'].get_atoms(),\n",
    "                             structure_open[0]['G'].get_atoms(),\n",
    "                             structure_open[0]['H'].get_atoms())\n",
    "\n",
    "for pair in it.combinations(open_atomiterator, 2):\n",
    "    if pair[0] - pair[1] > maxdist_open:\n",
    "        maxdist_open = pair[0] - pair[1]\n",
    "    numpairs_open += 1\n",
    "    \n",
    "print(maxdist_open)\n",
    "print(numpairs_open)\n",
    "# We got the same number of atom pairs and a larger maximum distance, which is reassuring"
   ]
  },
  {
   "cell_type": "code",
   "execution_count": 6,
   "metadata": {},
   "outputs": [
    {
     "name": "stdout",
     "output_type": "stream",
     "text": [
      "7\n"
     ]
    }
   ],
   "source": [
    "import numpy as np\n",
    "\n",
    "# This is our first time using a dictionary, a data structure that allow us to rapidly retrieve values based on\n",
    "#               key: value    pairs\n",
    "atomicnumber = {'H': 1,\n",
    "                'C': 6,\n",
    "                'N': 7,\n",
    "                'O': 8,\n",
    "                'S': 16,\n",
    "                'SE': 16} # treat Se as S for this purpose\n",
    "\n",
    "# Here we've created a dictionary that will tell us the atomic number of an element if we feed it the symbol as key\n",
    "\n",
    "print(atomicnumber['N'])\n",
    "\n",
    "# We'll manually histogram the atomic-number-weighted distances\n",
    "end = max([maxdist_closed, maxdist_open]) + 1e-6 # add a tiny bit to the end to ensure the max is less than it\n",
    "nbins = 3000\n",
    "binedges = np.linspace(0, end, nbins + 1)\n",
    "pairdist_closed = np.zeros(nbins, dtype = int) # empty arrays to hold the weighted histogram counts\n",
    "pairdist_open = np.zeros(nbins, dtype = int)\n",
    "\n",
    "for pair in it.combinations(structure_closed.get_atoms(), 2):\n",
    "    dist = pair[0] - pair[1]\n",
    "    distbin = int(nbins * dist / end)\n",
    "    # Weight by product of atomic numbers for the pair:\n",
    "    pairdist_closed[distbin] += atomicnumber[pair[0].element] * atomicnumber[pair[1].element]\n",
    "\n",
    "# We have to recreate the iterator from before, which has been exhausted\n",
    "open_atomiterator = it.chain(structure_open[0]['F'].get_atoms(),\n",
    "                             structure_open[0]['G'].get_atoms(),\n",
    "                             structure_open[0]['H'].get_atoms())\n",
    "    \n",
    "for pair in it.combinations(open_atomiterator, 2):\n",
    "    dist = pair[0] - pair[1]\n",
    "    distbin = int(nbins * dist / end)\n",
    "    pairdist_open[distbin] += atomicnumber[pair[0].element] * atomicnumber[pair[1].element]"
   ]
  },
  {
   "cell_type": "code",
   "execution_count": 7,
   "metadata": {},
   "outputs": [
    {
     "data": {
      "text/plain": [
       "Text(0.5, 1.0, 'Electronic pair distribution function for T4 clamp')"
      ]
     },
     "execution_count": 7,
     "metadata": {},
     "output_type": "execute_result"
    },
    {
     "data": {
      "image/png": "[encoded data removed]",
      "text/plain": [
       "<Figure size 432x288 with 1 Axes>"
      ]
     },
     "metadata": {
      "needs_background": "light"
     },
     "output_type": "display_data"
    }
   ],
   "source": [
    "binwidth = binedges[1] - binedges[0]\n",
    "\n",
    "plt.bar(binedges[:-1], pairdist_closed / np.sum(pairdist_closed), binwidth, align = 'edge', alpha = 0.4)\n",
    "plt.bar(binedges[:-1], pairdist_open / np.sum(pairdist_open), binwidth, align = 'edge', alpha = 0.4)\n",
    "plt.legend([\"closed\", \"open as in 3u60\"])\n",
    "plt.xlabel(\"pairwise distance (Å)\")\n",
    "plt.ylabel(\"probability mass\")\n",
    "plt.title(\"Electronic pair distribution function for T4 clamp\")"
   ]
  },
  {
   "cell_type": "code",
   "execution_count": 8,
   "metadata": {},
   "outputs": [
    {
     "name": "stdout",
     "output_type": "stream",
     "text": [
      "5min 23s ± 0 ns per loop (mean ± std. dev. of 1 run, 1 loop each)\n"
     ]
    },
    {
     "data": {
      "image/png": "[encoded data removed]",
      "text/plain": [
       "<Figure size 432x288 with 1 Axes>"
      ]
     },
     "metadata": {
      "needs_background": "light"
     },
     "output_type": "display_data"
    }
   ],
   "source": [
    "%%timeit -n 1 -r 1\n",
    "# For fun, let's use the magic IPython function timeit to see how long this block takes to run\n",
    "\n",
    "# Now let's try to get an approximate intensity curve for each structure\n",
    "# Note: if this cell is running slowly, interrupt it (Kernal -> Interrupt) and run the alternative below\n",
    "\n",
    "q_values = np.linspace(1e-6, 0.75, 10000) # avoid dividing by 0...\n",
    "intensities_closed = np.zeros(len(q_values))\n",
    "intensities_open = np.zeros(len(q_values))\n",
    "\n",
    "closed_sum = np.sum(pairdist_closed)\n",
    "open_sum = np.sum(pairdist_open)\n",
    "\n",
    "# Using the Debye scattering equation to transform p(r) to I(q):\n",
    "for i in range(len(q_values)):\n",
    "    for j in range(len(pairdist_closed)):\n",
    "        rj = binwidth * j + binwidth / 2\n",
    "        intensities_closed[i] += 4 * np.pi * binwidth * np.sin(q_values[i] * rj) * pairdist_closed[j] / \\\n",
    "                              (closed_sum * q_values[i] * rj)\n",
    "        intensities_open[i] += 4 * np.pi * binwidth * np.sin(q_values[i] * rj) * pairdist_open[j] / \\\n",
    "                              (open_sum * q_values[i] * rj)\n",
    "        \n",
    "plt.plot(q_values, intensities_closed)\n",
    "plt.plot(q_values, intensities_open)\n",
    "plt.yscale(\"log\")\n",
    "plt.xlabel(\"scattering vector (1/Å)\")\n",
    "plt.ylabel(\"intensity\")\n",
    "plt.legend([\"closed\", \"open as in 3u60\"])\n",
    "# We have a reasonable-looking plot, but this method was quite slow..."
   ]
  },
  {
   "cell_type": "code",
   "execution_count": 9,
   "metadata": {},
   "outputs": [
    {
     "name": "stdout",
     "output_type": "stream",
     "text": [
      "1.24 s ± 0 ns per loop (mean ± std. dev. of 1 run, 1 loop each)\n"
     ]
    },
    {
     "data": {
      "image/png": "[encoded data removed]",
      "text/plain": [
       "<Figure size 432x288 with 1 Axes>"
      ]
     },
     "metadata": {
      "needs_background": "light"
     },
     "output_type": "display_data"
    }
   ],
   "source": [
    "%%timeit -n 1 -r 1\n",
    "\n",
    "# We recognize that the double for loop could be recreated using NumPy functions operating over the outer product\n",
    "# (https://en.wikipedia.org/wiki/Outer_product) of the real- and reciprocal-space values we're iterating over\n",
    "\n",
    "closed_sum = np.sum(pairdist_closed)\n",
    "open_sum = np.sum(pairdist_open)\n",
    "\n",
    "q_values = np.linspace(1e-6, 0.75, 10000) # avoid dividing by 0...\n",
    "r_values = binedges[:-1] + binwidth / 2\n",
    "# This expression is identical to the double for loop above:\n",
    "intensities_closed = 4 * np.pi * binwidth * np.sum(pairdist_closed * np.sin(np.outer(q_values, r_values)) / \\\n",
    "                                                   np.outer(q_values, r_values), axis = 1) / closed_sum\n",
    "intensities_open = 4 * np.pi * binwidth * np.sum(pairdist_open * np.sin(np.outer(q_values, r_values)) / \\\n",
    "                                                 np.outer(q_values, r_values), axis = 1) / open_sum\n",
    "\n",
    "plt.plot(q_values, intensities_closed)\n",
    "plt.plot(q_values, intensities_open)\n",
    "plt.yscale(\"log\")\n",
    "plt.xlabel(\"scattering vector (1/Å)\")\n",
    "plt.ylabel(\"intensity\")\n",
    "plt.legend([\"closed\", \"open as in 3u60\"])\n",
    "\n",
    "# Taking advantage of these optimized NumPy functions and the inherent parallism in our problem saved a lot of time"
   ]
  }
 ],
 "metadata": {
  "kernelspec": {
   "display_name": "Python 3",
   "language": "python",
   "name": "python3"
  },
  "language_info": {
   "codemirror_mode": {
    "name": "ipython",
    "version": 3
   },
   "file_extension": ".py",
   "mimetype": "text/x-python",
   "name": "python",
   "nbconvert_exporter": "python",
   "pygments_lexer": "ipython3",
   "version": "3.6.10"
  }
 },
 "nbformat": 4,
 "nbformat_minor": 4
}
