{
 "cells": [
  {
   "cell_type": "code",
   "execution_count": 1,
   "metadata": {},
   "outputs": [
    {
     "name": "stderr",
     "output_type": "stream",
     "text": [
      "WARNING: The default download format has changed from PDB to PDBx/mmCif\n",
      "WARNING: The default download format has changed from PDB to PDBx/mmCif\n"
     ]
    },
    {
     "name": "stdout",
     "output_type": "stream",
     "text": [
      "Structure exists: '/home/kent/kuriyanlab_python-workshops/2/cz/1czd.cif' \n",
      "Structure exists: '/home/kent/kuriyanlab_python-workshops/2/u6/3u60.cif' \n"
     ]
    },
    {
     "name": "stderr",
     "output_type": "stream",
     "text": [
      "/opt/anaconda/envs/demo/lib/python3.6/site-packages/Bio/PDB/StructureBuilder.py:92: PDBConstructionWarning: WARNING: Chain B is discontinuous at line 17571.\n",
      "  PDBConstructionWarning,\n",
      "/opt/anaconda/envs/demo/lib/python3.6/site-packages/Bio/PDB/StructureBuilder.py:92: PDBConstructionWarning: WARNING: Chain C is discontinuous at line 17603.\n",
      "  PDBConstructionWarning,\n",
      "/opt/anaconda/envs/demo/lib/python3.6/site-packages/Bio/PDB/StructureBuilder.py:92: PDBConstructionWarning: WARNING: Chain D is discontinuous at line 17635.\n",
      "  PDBConstructionWarning,\n",
      "/opt/anaconda/envs/demo/lib/python3.6/site-packages/Bio/PDB/StructureBuilder.py:92: PDBConstructionWarning: WARNING: Chain E is discontinuous at line 17667.\n",
      "  PDBConstructionWarning,\n"
     ]
    }
   ],
   "source": [
    "from Bio import PDB as pdb\n",
    "%matplotlib inline\n",
    "from matplotlib import pyplot as plt\n",
    "# We'll be using itertools, which contains tools for creating iterators:\n",
    "import itertools as it\n",
    "\n",
    "# We'll again retrieve and load the closed clamp structure, 1czd, but also a structure of the open clamp on\n",
    "# clamp loader, 3u60:\n",
    "pdbl = pdb.PDBList()\n",
    "filename_1czd = pdbl.retrieve_pdb_file('1czd')\n",
    "filename_3u60 = pdbl.retrieve_pdb_file('3u60')\n",
    "mmcifp = pdb.MMCIFParser()\n",
    "structure_closed = mmcifp.get_structure('1czd', filename_1czd)\n",
    "structure_open = mmcifp.get_structure('3u60', filename_3u60)"
   ]
  },
  {
   "cell_type": "markdown",
   "metadata": {},
   "source": [
    "Small-angle X-ray scattering (SAXS) intensity measures the Fourier transform of the pair distribution function between electrons in a protein or macromolecule of interest. We will play around with predicting this pair distribution function from static structures (an approximation) for two different clamp states: open as in clamp-loader-bound structures, and closed. We will make three approximations: disregarding hydrogens, which are not in these structures and contribute little to the scattering, localizing electrons at atomic coordinates, and counting electrons based on element only."
   ]
  },
  {
   "cell_type": "code",
   "execution_count": 2,
   "metadata": {},
   "outputs": [],
   "source": [
    "# First, let's make sure we can select just the clamp chains in the open structure, which also contains the clamp\n",
    "# loader, DNA, and ligands. We happen to know that the "
   ]
  },
  {
   "cell_type": "code",
   "execution_count": 3,
   "metadata": {},
   "outputs": [
    {
     "name": "stdout",
     "output_type": "stream",
     "text": [
      "97.1033\n",
      "13778625\n"
     ]
    }
   ],
   "source": [
    "maxdist_closed = 0\n",
    "numpairs_closed = 0\n",
    "\n",
    "for pair in it.combinations(structure_closed.get_atoms(), 2):\n",
    "    if pair[0] - pair[1] > maxdist_closed:\n",
    "        maxdist_closed = pair[0] - pair[1]\n",
    "    numpairs_closed += 1\n",
    "    \n",
    "print(maxdist_closed)\n",
    "print(numpairs_closed)"
   ]
  },
  {
   "cell_type": "code",
   "execution_count": 4,
   "metadata": {},
   "outputs": [
    {
     "name": "stdout",
     "output_type": "stream",
     "text": [
      "103.357834\n",
      "13778625\n"
     ]
    }
   ],
   "source": [
    "maxdist_open = 0\n",
    "numpairs_open = 0\n",
    "\n",
    "open_atomiterator = it.chain(structure_open[0]['F'].get_atoms(),\n",
    "                             structure_open[0]['G'].get_atoms(),\n",
    "                             structure_open[0]['H'].get_atoms())\n",
    "\n",
    "for pair in it.combinations(open_atomiterator, 2):\n",
    "    if pair[0] - pair[1] > maxdist_open:\n",
    "        maxdist_open = pair[0] - pair[1]\n",
    "    numpairs_open += 1\n",
    "    \n",
    "print(maxdist_open)\n",
    "print(numpairs_open)"
   ]
  },
  {
   "cell_type": "code",
   "execution_count": 5,
   "metadata": {},
   "outputs": [],
   "source": [
    "import numpy as np\n",
    "\n",
    "atomicnumber = {'H': 1,\n",
    "                 'C': 6,\n",
    "                 'N': 7,\n",
    "                 'O': 8,\n",
    "                 'S': 16,\n",
    "                 'SE': 16} # treat Se as S for this purpose\n",
    "\n",
    "end = max([maxdist_closed, maxdist_open]) + 1e-6 # add a tiny bit to the end to ensure the max is less than it\n",
    "nbins = 2000\n",
    "binedges = np.linspace(0, end, nbins + 1)\n",
    "pairdist_closed = np.zeros(nbins, dtype = int)\n",
    "pairdist_open = np.zeros(nbins, dtype = int)\n",
    "\n",
    "for pair in it.combinations(structure_closed.get_atoms(), 2):\n",
    "    dist = pair[0] - pair[1]\n",
    "    distbin = int(nbins * dist / end)\n",
    "    pairdist_closed[distbin] += atomicnumber[pair[0].element] * atomicnumber[pair[1].element]\n",
    "\n",
    "# We have to recreate the iterator from before, which has been exhausted\n",
    "open_atomiterator = it.chain(structure_open[0]['F'].get_atoms(),\n",
    "                             structure_open[0]['G'].get_atoms(),\n",
    "                             structure_open[0]['H'].get_atoms())\n",
    "    \n",
    "for pair in it.combinations(open_atomiterator, 2):\n",
    "    dist = pair[0] - pair[1]\n",
    "    distbin = int(nbins * dist / end)\n",
    "    pairdist_open[distbin] += atomicnumber[pair[0].element] * atomicnumber[pair[1].element]"
   ]
  },
  {
   "cell_type": "code",
   "execution_count": 6,
   "metadata": {},
   "outputs": [
    {
     "data": {
      "text/plain": [
       "Text(0.5, 1.0, 'Electronic pair distribution function for T4 clamp')"
      ]
     },
     "execution_count": 6,
     "metadata": {},
     "output_type": "execute_result"
    },
    {
     "data": {
      "image/png": "[encoded data removed]",
      "text/plain": [
       "<Figure size 432x288 with 1 Axes>"
      ]
     },
     "metadata": {
      "needs_background": "light"
     },
     "output_type": "display_data"
    }
   ],
   "source": [
    "plt.bar(binedges[:-1], pairdist_closed / np.sum(pairdist_closed), binedges[1] - binedges[0],\n",
    "        align = 'edge', alpha = 0.4)\n",
    "plt.bar(binedges[:-1], pairdist_open / np.sum(pairdist_open), binedges[1] - binedges[0],\n",
    "        align = 'edge', alpha = 0.4)\n",
    "plt.legend([\"closed\", \"open as in 3u60\"])\n",
    "plt.xlabel(\"pairwise distance (Å)\")\n",
    "plt.ylabel(\"probability mass\")\n",
    "plt.title(\"Electronic pair distribution function for T4 clamp\")"
   ]
  }
 ],
 "metadata": {
  "kernelspec": {
   "display_name": "Python 3",
   "language": "python",
   "name": "python3"
  },
  "language_info": {
   "codemirror_mode": {
    "name": "ipython",
    "version": 3
   },
   "file_extension": ".py",
   "mimetype": "text/x-python",
   "name": "python",
   "nbconvert_exporter": "python",
   "pygments_lexer": "ipython3",
   "version": "3.6.10"
  }
 },
 "nbformat": 4,
 "nbformat_minor": 4
}
