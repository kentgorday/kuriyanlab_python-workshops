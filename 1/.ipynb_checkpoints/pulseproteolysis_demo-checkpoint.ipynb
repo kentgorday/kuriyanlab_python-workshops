{
 "cells": [
  {
   "cell_type": "code",
   "execution_count": 1,
   "metadata": {},
   "outputs": [
    {
     "name": "stdout",
     "output_type": "stream",
     "text": [
      "7\n",
      "2\n",
      "0\n",
      "3\n",
      "6\n",
      "['banana', 'apple', 'kiwi', 'banana', 'pear', 'apple', 'orange']\n",
      "['banana', 'apple', 'kiwi', 'banana', 'pear', 'apple', 'orange', 'grape']\n",
      "['apple', 'apple', 'banana', 'banana', 'grape', 'kiwi', 'orange', 'pear']\n",
      "pear\n"
     ]
    }
   ],
   "source": [
    "# Let's quickly review some basic python\n",
    "# Lists are the most flexible container objects in python\n",
    "# For example, we can add and remove from anywhere in the list, reorder it, and modify the elements directly\n",
    "# Lists can also contain different data types in different elements, or even lists of different length\n",
    "\n",
    "# If you aren't familiar with list behavior in python, play around with this example list of strings,\n",
    "# from the python tutorial:\n",
    "fruits = ['orange', 'apple', 'pear', 'banana', 'kiwi', 'apple', 'banana']\n",
    "print(len(fruits)) # length of list\n",
    "print(fruits.count('apple'))\n",
    "print(fruits.count('tangerine'))\n",
    "print(fruits.index('banana'))\n",
    "print(fruits.index('banana', 4))  # Find next banana starting a position 4\n",
    "fruits.reverse()\n",
    "print(fruits)\n",
    "fruits.append('grape')\n",
    "print(fruits)\n",
    "fruits.sort()\n",
    "print(fruits)\n",
    "print(fruits.pop())"
   ]
  },
  {
   "cell_type": "code",
   "execution_count": 2,
   "metadata": {},
   "outputs": [
    {
     "name": "stdout",
     "output_type": "stream",
     "text": [
      "[0, 1, 4, 9, 16, 25, 36, 49, 64, 81]\n",
      "[0, 1, 4, 9, 16, 25, 36, 49, 64, 81]\n"
     ]
    }
   ],
   "source": [
    "# Among the most convenient advantages of python is list comprehension\n",
    "\n",
    "# We could create a list of the first 10 squares using a boring for loop:\n",
    "squares = [] # an empty list\n",
    "for x in range(10): # range(n) will generate n integers from 0 to n-1\n",
    "    squares.append(x**2)\n",
    "print(squares)\n",
    "\n",
    "# But we could also create the same list in a single line using list comprehension:\n",
    "print([x**2 for x in range(10)])"
   ]
  },
  {
   "cell_type": "code",
   "execution_count": 3,
   "metadata": {},
   "outputs": [
    {
     "name": "stdout",
     "output_type": "stream",
     "text": [
      "Help on built-in function open in module io:\n",
      "\n",
      "open(file, mode='r', buffering=-1, encoding=None, errors=None, newline=None, closefd=True, opener=None)\n",
      "    Open file and return a stream.  Raise IOError upon failure.\n",
      "    \n",
      "    file is either a text or byte string giving the name (and the path\n",
      "    if the file isn't in the current working directory) of the file to\n",
      "    be opened or an integer file descriptor of the file to be\n",
      "    wrapped. (If a file descriptor is given, it is closed when the\n",
      "    returned I/O object is closed, unless closefd is set to False.)\n",
      "    \n",
      "    mode is an optional string that specifies the mode in which the file\n",
      "    is opened. It defaults to 'r' which means open for reading in text\n",
      "    mode.  Other common values are 'w' for writing (truncating the file if\n",
      "    it already exists), 'x' for creating and writing to a new file, and\n",
      "    'a' for appending (which on some Unix systems, means that all writes\n",
      "    append to the end of the file regardless of the current seek position).\n",
      "    In text mode, if encoding is not specified the encoding used is platform\n",
      "    dependent: locale.getpreferredencoding(False) is called to get the\n",
      "    current locale encoding. (For reading and writing raw bytes use binary\n",
      "    mode and leave encoding unspecified.) The available modes are:\n",
      "    \n",
      "    ========= ===============================================================\n",
      "    Character Meaning\n",
      "    --------- ---------------------------------------------------------------\n",
      "    'r'       open for reading (default)\n",
      "    'w'       open for writing, truncating the file first\n",
      "    'x'       create a new file and open it for writing\n",
      "    'a'       open for writing, appending to the end of the file if it exists\n",
      "    'b'       binary mode\n",
      "    't'       text mode (default)\n",
      "    '+'       open a disk file for updating (reading and writing)\n",
      "    'U'       universal newline mode (deprecated)\n",
      "    ========= ===============================================================\n",
      "    \n",
      "    The default mode is 'rt' (open for reading text). For binary random\n",
      "    access, the mode 'w+b' opens and truncates the file to 0 bytes, while\n",
      "    'r+b' opens the file without truncation. The 'x' mode implies 'w' and\n",
      "    raises an `FileExistsError` if the file already exists.\n",
      "    \n",
      "    Python distinguishes between files opened in binary and text modes,\n",
      "    even when the underlying operating system doesn't. Files opened in\n",
      "    binary mode (appending 'b' to the mode argument) return contents as\n",
      "    bytes objects without any decoding. In text mode (the default, or when\n",
      "    't' is appended to the mode argument), the contents of the file are\n",
      "    returned as strings, the bytes having been first decoded using a\n",
      "    platform-dependent encoding or using the specified encoding if given.\n",
      "    \n",
      "    'U' mode is deprecated and will raise an exception in future versions\n",
      "    of Python.  It has no effect in Python 3.  Use newline to control\n",
      "    universal newlines mode.\n",
      "    \n",
      "    buffering is an optional integer used to set the buffering policy.\n",
      "    Pass 0 to switch buffering off (only allowed in binary mode), 1 to select\n",
      "    line buffering (only usable in text mode), and an integer > 1 to indicate\n",
      "    the size of a fixed-size chunk buffer.  When no buffering argument is\n",
      "    given, the default buffering policy works as follows:\n",
      "    \n",
      "    * Binary files are buffered in fixed-size chunks; the size of the buffer\n",
      "      is chosen using a heuristic trying to determine the underlying device's\n",
      "      \"block size\" and falling back on `io.DEFAULT_BUFFER_SIZE`.\n",
      "      On many systems, the buffer will typically be 4096 or 8192 bytes long.\n",
      "    \n",
      "    * \"Interactive\" text files (files for which isatty() returns True)\n",
      "      use line buffering.  Other text files use the policy described above\n",
      "      for binary files.\n",
      "    \n",
      "    encoding is the name of the encoding used to decode or encode the\n",
      "    file. This should only be used in text mode. The default encoding is\n",
      "    platform dependent, but any encoding supported by Python can be\n",
      "    passed.  See the codecs module for the list of supported encodings.\n",
      "    \n",
      "    errors is an optional string that specifies how encoding errors are to\n",
      "    be handled---this argument should not be used in binary mode. Pass\n",
      "    'strict' to raise a ValueError exception if there is an encoding error\n",
      "    (the default of None has the same effect), or pass 'ignore' to ignore\n",
      "    errors. (Note that ignoring encoding errors can lead to data loss.)\n",
      "    See the documentation for codecs.register or run 'help(codecs.Codec)'\n",
      "    for a list of the permitted encoding error strings.\n",
      "    \n",
      "    newline controls how universal newlines works (it only applies to text\n",
      "    mode). It can be None, '', '\\n', '\\r', and '\\r\\n'.  It works as\n",
      "    follows:\n",
      "    \n",
      "    * On input, if newline is None, universal newlines mode is\n",
      "      enabled. Lines in the input can end in '\\n', '\\r', or '\\r\\n', and\n",
      "      these are translated into '\\n' before being returned to the\n",
      "      caller. If it is '', universal newline mode is enabled, but line\n",
      "      endings are returned to the caller untranslated. If it has any of\n",
      "      the other legal values, input lines are only terminated by the given\n",
      "      string, and the line ending is returned to the caller untranslated.\n",
      "    \n",
      "    * On output, if newline is None, any '\\n' characters written are\n",
      "      translated to the system default line separator, os.linesep. If\n",
      "      newline is '' or '\\n', no translation takes place. If newline is any\n",
      "      of the other legal values, any '\\n' characters written are translated\n",
      "      to the given string.\n",
      "    \n",
      "    If closefd is False, the underlying file descriptor will be kept open\n",
      "    when the file is closed. This does not work when a file name is given\n",
      "    and must be True in that case.\n",
      "    \n",
      "    A custom opener can be used by passing a callable as *opener*. The\n",
      "    underlying file descriptor for the file object is then obtained by\n",
      "    calling *opener* with (*file*, *flags*). *opener* must return an open\n",
      "    file descriptor (passing os.open as *opener* results in functionality\n",
      "    similar to passing None).\n",
      "    \n",
      "    open() returns a file object whose type depends on the mode, and\n",
      "    through which the standard file operations such as reading and writing\n",
      "    are performed. When open() is used to open a file in a text mode ('w',\n",
      "    'r', 'wt', 'rt', etc.), it returns a TextIOWrapper. When used to open\n",
      "    a file in a binary mode, the returned class varies: in read binary\n",
      "    mode, it returns a BufferedReader; in write binary and append binary\n",
      "    modes, it returns a BufferedWriter, and in read/write mode, it returns\n",
      "    a BufferedRandom.\n",
      "    \n",
      "    It is also possible to use a string or bytearray as a file for both\n",
      "    reading and writing. For strings StringIO can be used like a file\n",
      "    opened in a text mode, and for bytes a BytesIO can be used like a file\n",
      "    opened in a binary mode.\n",
      "\n"
     ]
    }
   ],
   "source": [
    "# We'll use the open() function to read the lines from some data files\n",
    "# First let's read the documentation to figure out what arguments we need to pass to open()\n",
    "# Note: single- and double-clicking on the left side of a jupyter notebook output will change how it is shown\n",
    "help(open)"
   ]
  },
  {
   "cell_type": "code",
   "execution_count": 4,
   "metadata": {},
   "outputs": [
    {
     "name": "stdout",
     "output_type": "stream",
     "text": [
      "['sample,n\\n', '1,1.3358\\n', '2,1.3412\\n', '3,1.3469\\n', '4,1.3525\\n', '5,1.3566\\n', '6,1.3616\\n', '7,1.3642\\n', '8,1.3672\\n', '9,1.3692\\n', '10,1.373\\n', '11,1.378\\n', '12,1.384\\n', '13,1.3889\\n', '14,1.395\\n', '15,1.4006\\n', '16,1.4068\\n']\n"
     ]
    }
   ],
   "source": [
    "# Now let's use readlines() to read each line of our file as a string, storing the whole file within a list:\n",
    "f = open(\"2020-03-12_H173_n.csv\")\n",
    "indices = f.readlines() # returns a list of strings, where each line is one element\n",
    "f.close()\n",
    "print(indices)\n",
    "\n",
    "# The above worked, but for the future let's use this safer and more convenient method of opening files:\n",
    "with open(\"2020-03-12_H173_n.csv\", 'r') as f: # open() uses 'r' for reading mode by default, but we'll be explicit\n",
    "    indices = f.readlines()\n",
    "# The file is closed automatically after the indented block is complete"
   ]
  },
  {
   "cell_type": "code",
   "execution_count": 5,
   "metadata": {},
   "outputs": [
    {
     "name": "stdout",
     "output_type": "stream",
     "text": [
      "['sample,n', '1,1.3358', '2,1.3412', '3,1.3469', '4,1.3525', '5,1.3566', '6,1.3616', '7,1.3642', '8,1.3672', '9,1.3692', '10,1.373', '11,1.378', '12,1.384', '13,1.3889', '14,1.395', '15,1.4006', '16,1.4068']\n"
     ]
    }
   ],
   "source": [
    "# We can see that readlines() left the newline character (\\n) on the end of each line\n",
    "# We could write a simple for loop to go through our list and remove it,\n",
    "# but instead we'll use our list comprehension powers, and the rstrip() method of the string class,\n",
    "# which can also handle \\r characters. It returns the same string with trailing character removed\n",
    "indices = [line.rstrip() for line in indices]\n",
    "print(indices)"
   ]
  },
  {
   "cell_type": "code",
   "execution_count": 6,
   "metadata": {},
   "outputs": [
    {
     "name": "stdout",
     "output_type": "stream",
     "text": [
      "[['sample', 'n'], ['1', '1.3358'], ['2', '1.3412'], ['3', '1.3469'], ['4', '1.3525'], ['5', '1.3566'], ['6', '1.3616'], ['7', '1.3642'], ['8', '1.3672'], ['9', '1.3692'], ['10', '1.373'], ['11', '1.378'], ['12', '1.384'], ['13', '1.3889'], ['14', '1.395'], ['15', '1.4006'], ['16', '1.4068']]\n"
     ]
    }
   ],
   "source": [
    "# Now, we want to separate the two fields of this CSV file\n",
    "# The split() method of the string class will let us split our strings into lists of strings at every comma:\n",
    "indices = [line.split(',') for line in indices]\n",
    "print(indices)\n",
    "# Now we have a list of lists of strings"
   ]
  },
  {
   "cell_type": "code",
   "execution_count": 7,
   "metadata": {},
   "outputs": [
    {
     "name": "stdout",
     "output_type": "stream",
     "text": [
      "['sample', 'n']\n",
      "['sample', '1', '2', '3', '4', '5', '6', '7', '8', '9', '10', '11', '12', '13', '14', '15', '16']\n"
     ]
    }
   ],
   "source": [
    "# Taking a look, we can see that the first list/line (element 0 of indices) is just a header that we don't need:\n",
    "print(indices[0])\n",
    "# And the first column (element 0 of each list within indices) is just a sample number that we also don't need:\n",
    "print([line[0] for line in indices])"
   ]
  },
  {
   "cell_type": "code",
   "execution_count": 8,
   "metadata": {},
   "outputs": [
    {
     "name": "stdout",
     "output_type": "stream",
     "text": [
      "[1.3358, 1.3412, 1.3469, 1.3525, 1.3566, 1.3616, 1.3642, 1.3672, 1.3692, 1.373, 1.378, 1.384, 1.3889, 1.395, 1.4006, 1.4068]\n"
     ]
    }
   ],
   "source": [
    "# Let's simplify our lives by turning our list of lists of strings into what we actually want:\n",
    "# just the floats in the second column, without a header:\n",
    "indices = [float(line[1]) for line in indices[1:]] # convert the 2nd element of each sublist into a float,\n",
    "# starting with the second sublist\n",
    "print(indices)"
   ]
  },
  {
   "cell_type": "code",
   "execution_count": 9,
   "metadata": {},
   "outputs": [
    {
     "name": "stdout",
     "output_type": "stream",
     "text": [
      "[1.3358, 1.3412, 1.3469, 1.3525, 1.3566, 1.3616, 1.3642, 1.3672, 1.3692, 1.373, 1.378, 1.384, 1.3889, 1.395, 1.4006, 1.4068]\n"
     ]
    }
   ],
   "source": [
    "# With great list comprehension power comes great list comprehension responsibility\n",
    "# Note that we could have accomplished all of this in two lines, but no one else would ever have a chance\n",
    "# of understanding our code:\n",
    "with open(\"2020-03-12_H173_n.csv\", 'r') as f:\n",
    "    indices = [float(line.rstrip().split(',')[1]) for line in f.readlines()[1:]]\n",
    "print(indices)"
   ]
  },
  {
   "cell_type": "code",
   "execution_count": 10,
   "metadata": {},
   "outputs": [
    {
     "name": "stdout",
     "output_type": "stream",
     "text": [
      "[[1 2 3]\n",
      " [4 5 6]]\n",
      "[['1' '2' 'If we try to mix a string in an array with integers...']\n",
      " ['4' '5' '6']]\n"
     ]
    }
   ],
   "source": [
    "# For common file formats like CSV, XLS, etc. we can save a lot of time by using the parsers in libraries like\n",
    "# NumPy (used widely for high-level math) or Pandas (which creates R-like dataframes convenient for data analysis)\n",
    "\n",
    "# Let's import NumPy so we can use its file-reading functions. We'll give it a simple abbreviation\n",
    "# because we're lazy. Behold, a contender for most common line of code:\n",
    "import numpy as np\n",
    "\n",
    "# The central feature of NumPy is the NumPy array. Arrays are more restrictive than lists, but also more efficient\n",
    "# Essentially all NumPy functions return arrays, and will convert arguments from lists to arrays\n",
    "# As long as all of our elements are of the same type, we can largely ignore the differences\n",
    "# Let's make a list of lists, then convert it into a 2-dimensional array to convince ourselves:\n",
    "listoflists = [[1,2,3],[4,5,6]]\n",
    "print(np.array(listoflists))\n",
    "\n",
    "listoflists = [[1,2,\"If we try to mix a string in an array with integers...\"],[4,5,6]]\n",
    "print(np.array(listoflists)) # NumPy will outsmart us and convert the entire array to a string array\n",
    "\n",
    "# We can also force NumPy arrays to have a desired data type. The below would throw a ValueError:\n",
    "# print(np.array(listoflists, dtype = int))"
   ]
  },
  {
   "cell_type": "code",
   "execution_count": 11,
   "metadata": {},
   "outputs": [
    {
     "name": "stdout",
     "output_type": "stream",
     "text": [
      "[1.3358 1.3412 1.3469 1.3525 1.3566 1.3616 1.3642 1.3672 1.3692 1.373\n",
      " 1.378  1.384  1.3889 1.395  1.4006 1.4068]\n",
      "[1.3358, 1.3412, 1.3469, 1.3525, 1.3566, 1.3616, 1.3642, 1.3672, 1.3692, 1.373, 1.378, 1.384, 1.3889, 1.395, 1.4006, 1.4068]\n"
     ]
    }
   ],
   "source": [
    "# Let's use NumPy's loadtxt, with comma delimiter, and tell it to skip 1 row plus only use the 2nd column:\n",
    "indices = np.loadtxt(\"2020-03-12_H173_n.csv\", delimiter = ',', skiprows = 1, usecols = 1)\n",
    "print(indices)\n",
    "\n",
    "# We could also convert this back to a list, if we want:\n",
    "print(indices.tolist())\n",
    "# list(indices) produces the same result for our 1D array, but only works in the first dimension,\n",
    "# eg list(np.array(listoflists)) returns a list of NumPy arrays...\n",
    "\n",
    "# There are a lot of other cool features of NumPy arrays, but we won't cover them here"
   ]
  },
  {
   "cell_type": "code",
   "execution_count": 12,
   "metadata": {},
   "outputs": [
    {
     "name": "stdout",
     "output_type": "stream",
     "text": [
      "[0.     0.0054 0.0111 0.0167 0.0208 0.0258 0.0284 0.0314 0.0334 0.0372\n",
      " 0.0422 0.0482 0.0531 0.0592 0.0648 0.071 ]\n",
      "[0.00000e+00 2.91600e-05 1.23210e-04 2.78890e-04 4.32640e-04 6.65640e-04\n",
      " 8.06560e-04 9.85960e-04 1.11556e-03 1.38384e-03 1.78084e-03 2.32324e-03\n",
      " 2.81961e-03 3.50464e-03 4.19904e-03 5.04100e-03]\n",
      "[0.         0.63626082 1.30994564 1.97408405 2.46187018 3.0586195\n",
      " 3.36979207 3.72960405 3.96994917 4.42767781 5.03218244 5.7611144\n",
      " 6.35942014 7.10824456 7.7997925  8.57025884]\n",
      "[0.0, 0.6353639999999823, 1.3060259999999868, 1.9649219999999925, 2.4473279999999917, 3.035627999999979, 3.3415439999999976, 3.694523999999985, 3.929843999999985, 4.376951999999988, 4.965251999999976, 5.671211999999976, 6.247745999999991, 6.96547199999999, 7.624367999999996, 8.353859999999994, 0.0, 0.0008675974799999516, 0.003665867129999926, 0.008297814169999937, 0.012872337919999912, 0.01980478691999973, 0.023997579679999968, 0.02933526787999976, 0.033191256679999746, 0.041173391519999776, 0.052985332519999484, 0.06912335971999943, 0.08389185632999976, 0.1042735539199997, 0.12493403711999988, 0.1499848729999998, 0.0, 2.9219019839997557e-05, 0.0002537776083599923, 0.0008642388342799902, 0.0016698381107199832, 0.003186716886719935, 0.004250493770239992, 0.005744778760639929, 0.006913910674239921, 0.009552415034879923, 0.013945102690879797, 0.02077903997407974, 0.02778228275795988, 0.038499003105279844, 0.05049046628351993, 0.06641396515999987]\n"
     ]
    }
   ],
   "source": [
    "# indices contains the measured refractive index for a bunch of urea solutions of increasing concentration\n",
    "# indices[0] is known to have no urea, so we'll use the Maclaurin series expansion from  \n",
    "# https://doi.org/10.1016/0076-6879(86)31045-0\n",
    "# [urea] = 117.66Δn + 29.753 Δn**2 + 185.56Δn**3\n",
    "\n",
    "# We'll use some math functions from numpy: np.square() and np.power(), and the subtraction operator:\n",
    "print(indices - indices[0]) # subtract the scalar indices[0] from every element of the array indices\n",
    "print(np.square(indices - indices[0])) # square every element of the array produced by the line above\n",
    "ureaconcentration = 117.66 * (indices - indices[0]) + \\\n",
    "                    29.753 * np.square(indices - indices[0]) + \\\n",
    "                    185.56 * np.power((indices - indices[0]), 3)\n",
    "print(ureaconcentration)\n",
    "\n",
    "# We could easily do this with python lists as well, but it is more tedious\n",
    "# The only operation here that python will interpret element-wise as we intend is the addition of the 3 terms:\n",
    "indiceslist = indices.tolist()\n",
    "ureaconcentrationlist = [117.66 * (index - indiceslist[0]) for index in  indiceslist] + \\\n",
    "                        [29.753 * (index - indiceslist[0]) ** 2 for index in  indiceslist] + \\\n",
    "                        [185.56 * (index - indiceslist[0]) ** 3 for index in  indiceslist]\n",
    "print(ureaconcentrationlist)"
   ]
  },
  {
   "cell_type": "code",
   "execution_count": 13,
   "metadata": {},
   "outputs": [
    {
     "name": "stdout",
     "output_type": "stream",
     "text": [
      "(13,)\n",
      "(16,)\n",
      "[0.63626082 1.30994564 1.97408405 2.46187018 3.0586195  3.36979207\n",
      " 3.72960405 3.96994917 4.42767781 5.03218244 5.7611144  6.35942014\n",
      " 7.10824456]\n"
     ]
    }
   ],
   "source": [
    "# We also have relative intensity values for our protein band from an SDS-PAGE gel:\n",
    "intensities = np.loadtxt(\"2020-03-12_H173_2-14.csv\", delimiter = ',', skiprows = 1, usecols = 1)\n",
    "\n",
    "# We were only able to quantify bands 2-14 of the 16 bands, resulting in a smaller list:\n",
    "print(intensities.shape) # Note: len(intensities) is equivalent for 1D arrays\n",
    "print(ureaconcentration.shape)\n",
    "\n",
    "# To match the pairs, we can index from the 2nd value of ureaconcentration to the 14th value:\n",
    "print(ureaconcentration[1:14])\n",
    "# We also could have explicitly excluded the last two values with ureaconcentration[1:-2]\n",
    "# or even provided a list of the elements we wanted (unique to arrays, does not work with lists):\n",
    "# ureaconcentration[list(range(1,14))]"
   ]
  },
  {
   "cell_type": "code",
   "execution_count": 14,
   "metadata": {},
   "outputs": [
    {
     "data": {
      "text/plain": [
       "<matplotlib.collections.PathCollection at 0x7f9c740c1358>"
      ]
     },
     "execution_count": 14,
     "metadata": {},
     "output_type": "execute_result"
    },
    {
     "data": {
      "image/png": "[encoded data removed]",
      "text/plain": [
       "<Figure size 432x288 with 1 Axes>"
      ]
     },
     "metadata": {
      "needs_background": "light"
     },
     "output_type": "display_data"
    }
   ],
   "source": [
    "# This line is literally invoking a \"magic function\" of IPython and we won't try to understand:\n",
    "%matplotlib inline\n",
    "# Let's import just the pyplot set of functions from the matplotlib module, and call it plt:\n",
    "from matplotlib import pyplot as plt\n",
    "\n",
    "# Now let's simply plot band intensity versus urea concentration:\n",
    "plt.scatter(ureaconcentration[1:14], intensities)\n",
    "# You can choose to not use the magic function above or plt.show() and all plots after the first\n",
    "# (which you will have to rerun) will appear static as expected with the other two methods..."
   ]
  },
  {
   "cell_type": "code",
   "execution_count": 15,
   "metadata": {},
   "outputs": [
    {
     "data": {
      "text/plain": [
       "Text(0.5, 1.0, 'Pulse proteolysis of H-Ras 1-173')"
      ]
     },
     "execution_count": 15,
     "metadata": {},
     "output_type": "execute_result"
    },
    {
     "data": {
      "image/png": "[encoded data removed]",
      "text/plain": [
       "<Figure size 432x288 with 1 Axes>"
      ]
     },
     "metadata": {
      "needs_background": "light"
     },
     "output_type": "display_data"
    }
   ],
   "source": [
    "# Looks like we have a cooperative folding transition that we should later be able to fit\n",
    "# Let's just add some labels to our plot\n",
    "\n",
    "plt.scatter(ureaconcentration[1:14], intensities)\n",
    "plt.xlabel(\"urea concentration (M)\")\n",
    "plt.ylabel(\"uncleaved band intensity (relative)\")\n",
    "plt.title(\"Pulse proteolysis of H-Ras 1-173\")\n",
    "# We could now use plt.savefig(\"filename.extension\") to save this. I like to save my plots as pdfs"
   ]
  },
  {
   "cell_type": "code",
   "execution_count": 16,
   "metadata": {},
   "outputs": [
    {
     "data": {
      "text/plain": [
       "<matplotlib.legend.Legend at 0x7f9c5858b160>"
      ]
     },
     "execution_count": 16,
     "metadata": {},
     "output_type": "execute_result"
    },
    {
     "data": {
      "image/png": "[encoded data removed]",
      "text/plain": [
       "<Figure size 432x288 with 1 Axes>"
      ]
     },
     "metadata": {
      "needs_background": "light"
     },
     "output_type": "display_data"
    }
   ],
   "source": [
    "# Let's define a function describing this cooperative transition:\n",
    "def func(x, b, c, dg): # arguments: urea concentration, nuisance scale parameter, nuisance offset, and deltaG\n",
    "    m = 1.579 # proportionality constant between urea concentration and change in free energy of folding (deltaG)\n",
    "    return b * (1 - np.exp(-m * x / 0.5924849497 + dg)) / (1 + np.exp(-m * x / 0.5924849497 + dg)) - c\n",
    "\n",
    "# Here, we've fixed m to a previously-estimated value for now\n",
    "\n",
    "# Let's get a feel for reasonable parameters. Let's create an array with 10000 points spaced evenly from 0 to 8:\n",
    "x = np.linspace(0, 8, 10000)\n",
    "# Take the function of every point in x, with parameters that give us a curve vaguely like what we see in the data:\n",
    "y = func(x, -20, -40, 10)\n",
    "# And plot it:\n",
    "plt.plot(x,y)\n",
    "# Now let's plot another curve with 5 kcal/mol different deltaG\n",
    "y = func(x, -20, -40, 15)\n",
    "plt.plot(x,y)\n",
    "# And let's add a legend using a list of names so we know what's going on:\n",
    "plt.legend([\"10 kcal/mol\", \"15 kcal/mol\"])"
   ]
  },
  {
   "cell_type": "code",
   "execution_count": 17,
   "metadata": {},
   "outputs": [
    {
     "name": "stdout",
     "output_type": "stream",
     "text": [
      "[-22.24719873 -39.10989123  11.63823523]\n",
      "[[ 0.23489257 -0.07064772 -0.00432551]\n",
      " [-0.07064772  0.27997745  0.03643714]\n",
      " [-0.00432551  0.03643714  0.01257624]]\n"
     ]
    }
   ],
   "source": [
    "# Let's import only the nonlinear least squares curve fitting function from the scipy module\n",
    "from scipy.optimize import curve_fit\n",
    "\n",
    "# We will feed curve_fit() our func, the x (urea) values, the y (intensity) values, and some reasonable guesses,\n",
    "# then it will return two arrays: one with the optimized parameters, and one with their estimated covariance\n",
    "popt, pcov = curve_fit(func, ureaconcentration[1:14], intensities, p0 = [-20, -40, 10])\n",
    "print(popt) # b, c, and dg parameters in the order they appear as arguments\n",
    "print(pcov)"
   ]
  },
  {
   "cell_type": "code",
   "execution_count": 18,
   "metadata": {},
   "outputs": [
    {
     "name": "stdout",
     "output_type": "stream",
     "text": [
      "[0.48465717 0.52912896 0.11214384]\n"
     ]
    },
    {
     "data": {
      "text/plain": [
       "<matplotlib.legend.Legend at 0x7f9c2bf8b4e0>"
      ]
     },
     "execution_count": 18,
     "metadata": {},
     "output_type": "execute_result"
    },
    {
     "data": {
      "image/png": "[encoded data removed]",
      "text/plain": [
       "<Figure size 432x288 with 1 Axes>"
      ]
     },
     "metadata": {
      "needs_background": "light"
     },
     "output_type": "display_data"
    }
   ],
   "source": [
    "# Let's look at how well-determined our parameters seem to be first. We'll take the square root of the\n",
    "# diagonal entries (self-covariance, aka variance of the parameter estimates) to get a standard deviation:\n",
    "print(np.sqrt(np.diag(pcov)))\n",
    "# The deltaG seems fairly well-determined, but let's take a look at the fit itself. We'll again create x-values:\n",
    "x = np.linspace(0, 8, 10000)\n",
    "# and calculate our function of those x-values with optimized parameters:\n",
    "y = func(x, popt[0], popt[1], popt[2]) # Note: could also use func(x, *popt), which will unpack the list\n",
    "# and plot\n",
    "plt.scatter(ureaconcentration[1:14], intensities)\n",
    "plt.plot(x, y)\n",
    "plt.xlabel(\"urea concentration (M)\")\n",
    "plt.ylabel(\"uncleaved band intensity (relative)\")\n",
    "plt.title(\"Pulse proteolysis of H-Ras 1-173, ΔG fit\")\n",
    "# Here I will use C-style string formatting to trim the numbers down to just 2 digits after the decimal\n",
    "# There are also other ways to format floats within strings in python\n",
    "# Also, here I am reporting ± 2 standard deviations, or roughly a 95% confidence interval\n",
    "plt.legend([\"data\", \"fit: ΔG = %.2f±%.2f kcal/mol\" % (popt[2], 2 * np.sqrt(np.diag(pcov))[2])])"
   ]
  },
  {
   "cell_type": "code",
   "execution_count": 19,
   "metadata": {},
   "outputs": [
    {
     "name": "stdout",
     "output_type": "stream",
     "text": [
      "[-22.6778593  -39.05270907   1.41805335  10.47944917]\n",
      "[[ 0.38240107 -0.09662704  0.05039844  0.35695233]\n",
      " [-0.09662704  0.28735704 -0.00843385 -0.02457757]\n",
      " [ 0.05039844 -0.00843385  0.01687999  0.12105772]\n",
      " [ 0.35695233 -0.02457757  0.12105772  0.87917907]]\n"
     ]
    },
    {
     "data": {
      "text/plain": [
       "<matplotlib.legend.Legend at 0x7f9c2bf04550>"
      ]
     },
     "execution_count": 19,
     "metadata": {},
     "output_type": "execute_result"
    },
    {
     "data": {
      "image/png": "[encoded data removed]",
      "text/plain": [
       "<Figure size 432x288 with 1 Axes>"
      ]
     },
     "metadata": {
      "needs_background": "light"
     },
     "output_type": "display_data"
    }
   ],
   "source": [
    "# Usually, you do not fit the m-value (urea proportionality constant or equivalently slope at the midpoint)\n",
    "# and deltaG together from pulse proteolysis data, because there are few points in the transition region.\n",
    "# Let's just play around with how bad an idea this is on our data:\n",
    "\n",
    "# We'll redefine func() to take m as an argument:\n",
    "def func(x, b, c, m, dg):\n",
    "    return b * (1 - np.exp(-m * x / 0.5924849497 + dg)) / (1 + np.exp(-m * x / 0.5924849497 + dg)) - c\n",
    "\n",
    "popt, pcov = curve_fit(func, ureaconcentration[1:14], intensities, p0 = [-20, -40, 1.6, 10])\n",
    "print(popt)\n",
    "print(pcov)\n",
    "y = func(x, *popt)\n",
    "plt.scatter(ureaconcentration[1:14], intensities)\n",
    "plt.plot(x, y)\n",
    "plt.xlabel(\"urea concentration (M)\")\n",
    "plt.ylabel(\"uncleaved band intensity (relative)\")\n",
    "plt.title(\"Pulse proteolysis of H-Ras 1-173, ΔG and m-value fit\")\n",
    "plt.legend([\"data\", \"fit:\\nΔG = %.2f±%.2f kcal/mol,\\nm = %.2f±%.2f kcal/mol/M\" % (popt[3], 2 * np.sqrt(np.diag(pcov))[3], popt[2], 2 * np.sqrt(np.diag(pcov))[2])])\n",
    "\n",
    "# We see that the diagonal terms corresponding to the covariance between m-value and deltaG are large,\n",
    "# but it is hard for us to really grasp in this format"
   ]
  },
  {
   "cell_type": "code",
   "execution_count": 20,
   "metadata": {},
   "outputs": [
    {
     "data": {
      "text/plain": [
       "Text(0.5, 1.0, 'Our estimates of the ΔG and m-value from this data\\nare heavily correlated and poorly-determined')"
      ]
     },
     "execution_count": 20,
     "metadata": {},
     "output_type": "execute_result"
    },
    {
     "data": {
      "image/png": "[encoded data removed]",
      "text/plain": [
       "<Figure size 432x288 with 1 Axes>"
      ]
     },
     "metadata": {
      "needs_background": "light"
     },
     "output_type": "display_data"
    }
   ],
   "source": [
    "# Let's take this covariance matrix at its face and histogram up a bunch of samples from a bivariate normal\n",
    "# distribution to understand the approximate joint distribution of our parameter estimates\n",
    "# NumPy makes the sampling easy:\n",
    "draws = np.random.multivariate_normal(popt[-2:], pcov[-2:, -2:], 100000)\n",
    "# And matplotlib lets us directly draw a 2D histogram:\n",
    "plt.hist2d(draws[:,0], draws[:,1], bins = 400, cmap = 'binary')\n",
    "plt.xlabel(\"m-value (kcal/mol/M)\")\n",
    "plt.ylabel(\"ΔG (kcal/mol)\")\n",
    "plt.title(\"Our estimates of the ΔG and m-value from this data\\nare heavily correlated and poorly-determined\")\n",
    "\n",
    "# Hopefully it is now obvious why we should stick to fitting just the deltaG (or equivalently Cm) at fixed m-value"
   ]
  },
  {
   "cell_type": "code",
   "execution_count": 21,
   "metadata": {},
   "outputs": [
    {
     "name": "stderr",
     "output_type": "stream",
     "text": [
      "100%|██████████| 100256/100256 [02:51<00:00, 584.50it/s]\n"
     ]
    },
    {
     "data": {
      "text/plain": [
       "State([[-22.97773068 -39.12264508   1.33856968   9.86153341   2.34011865]\n",
       " [-22.22128715 -38.42773858   1.25124356   9.33952841   3.93047763]\n",
       " [-23.55266968 -38.74561881   1.73657311  13.02960535   5.17023196]\n",
       " [-22.77617522 -39.92177864   1.57049257  11.58525767   7.31107096]\n",
       " [-23.29231753 -39.20705058   1.69467123  12.53899177   5.54931194]\n",
       " [-22.94064804 -39.32771354   1.31596435   9.79151925   1.6883687 ]\n",
       " [-22.19052995 -38.668661     1.51358808  11.44319797   1.95756014]\n",
       " [-21.9044422  -37.86870306   1.64594606  12.33940276   3.56338086]\n",
       " [-22.72133033 -39.28880202   1.47473766  10.96771421   1.71236984]\n",
       " [-22.50097132 -39.53509781   1.53654671  11.40421431   1.9036401 ]\n",
       " [-22.48703554 -38.29183365   1.4705369   10.86142064   3.86225822]\n",
       " [-22.71450642 -39.63264251   1.08396458   7.96454374   4.05875179]\n",
       " [-23.06527373 -38.55414169   1.56301337  11.63523888   2.31250161]\n",
       " [-22.04084451 -39.39648784   1.49280174  11.20767992   2.93029117]\n",
       " [-22.87066689 -38.63911059   1.55333736  11.68877147   5.5293147 ]\n",
       " [-22.24479517 -39.51339914   1.52996685  11.2290938    1.19566707]\n",
       " [-23.10791692 -39.47957975   1.54303881  11.0970227    5.54887179]\n",
       " [-22.21714365 -39.84481177   1.70835427  12.6338505    8.68270557]\n",
       " [-22.08852238 -38.98978764   1.7408075   12.60584474   4.01021762]\n",
       " [-22.71890349 -39.07425835   1.22709297   9.32762236   2.42563043]\n",
       " [-21.58592065 -39.95026975   1.52398722  11.05132818   3.44660866]\n",
       " [-22.14077723 -39.95125886   1.31600296   9.71503635   2.78661937]\n",
       " [-23.01016887 -40.48916173   1.30927189   9.39689435   3.42060857]\n",
       " [-23.06246623 -38.60370722   1.37423658  10.14012059   1.77939499]\n",
       " [-22.22214694 -38.63572791   1.41070599  10.54117043   1.87618378]\n",
       " [-22.95818582 -38.00269842   1.61654074  12.12476213   2.99028368]\n",
       " [-22.5995257  -38.87825494   1.46154068  10.84179043   0.96140499]\n",
       " [-22.90704972 -38.78569417   1.41558675  10.63725417   3.09967853]\n",
       " [-22.91791257 -39.49523884   1.33109906   9.77259959   1.16276883]\n",
       " [-22.57755343 -39.15108682   1.36174705  10.18303948   1.81869148]\n",
       " [-23.39127631 -39.16162982   1.4456188   10.49066624   7.06157856]\n",
       " [-21.82588846 -40.08075043   1.54583874  11.30767147   2.7547448 ]], log_prob=[-21.56611272 -25.44529907 -28.96110497 -27.26321674 -27.21405061\n",
       " -22.03924349 -24.74567063 -25.50327186 -22.12603597 -23.08806116\n",
       " -24.09811983 -27.5560685  -23.2470794  -24.72241121 -25.96607879\n",
       " -21.69868081 -26.74218355 -28.23440608 -25.8981568  -27.0349044\n",
       " -24.3164646  -24.12526528 -25.84038266 -21.68534556 -22.12014436\n",
       " -24.92611135 -21.28253174 -23.31520395 -21.81870396 -22.27140604\n",
       " -26.91467208 -23.5464465 ], blobs=None, random_state=('MT19937', array([1516418770,  694830402, 2928301782,  402536295, 1945231284,\n",
       "       3992411741,   46053756, 2882312712,  661843735, 2493777959,\n",
       "       1689591279, 3845452056, 3005785836, 2958560186,  613519239,\n",
       "       2440969722, 3756374148, 3344299787, 3677673283, 1841376754,\n",
       "       2883504154,  781589539, 4133876882, 2186098369, 3388404824,\n",
       "       4178025088, 3476295881, 3724468008, 2963769247, 4064290292,\n",
       "       1372382983, 1545950029, 3670915263, 3084848777, 4054963840,\n",
       "       4128699258,  622360540, 2288295841, 2934089097, 3940708647,\n",
       "        673459910, 1855835541, 1249048068, 1899623404, 2064687056,\n",
       "        144171565, 2224142946,  427832770, 3346662692, 3133001092,\n",
       "       2975612840, 2752290045, 1269268502, 1545721632, 1389630506,\n",
       "       2328870392,  963137359, 1272152155, 3850182173,  955563016,\n",
       "       1846287447, 2714246275, 1506069410, 3296255217, 3592731103,\n",
       "        263212159,  755428767, 3825095420, 1790030681,   43218470,\n",
       "       4017213866, 4278773109,  289758217, 2635982731, 4179236037,\n",
       "        432447497, 1287251795,  348395118, 1797489944, 3292564325,\n",
       "       1489402641, 1000284320, 3165562795, 4113288915,  601951298,\n",
       "        135341790, 3944141815, 2284286960, 3008640777,  964721784,\n",
       "       1538648250,  583481893,  317176463, 4136311407, 3496845916,\n",
       "       3636557213, 2151456438, 1919165366,  481381715, 2264048308,\n",
       "       3461281524, 4009023920, 3173168316,  970524649, 2604081481,\n",
       "       1767608619, 2377288646, 1339839040, 1452594811, 2349216168,\n",
       "       3225773491,  874785050,  799763625, 2948537336,  916940916,\n",
       "       1254546888, 4184105480, 1418078699, 3540718015, 1942285966,\n",
       "       3588631313, 2503182557, 3933294557, 3346744064, 2483887068,\n",
       "       2840393908, 4038587809, 3142531022, 1036158453,  240581424,\n",
       "       1949050421, 2420762821, 3690840045,  813406241, 2046006998,\n",
       "       2452650969, 3402077838, 1666184013,  845274157,  783834166,\n",
       "        223123816, 1780081958, 1474373294, 2766346741,  846531695,\n",
       "        258354151, 1927481657,  671827131,  623036855,  889161051,\n",
       "       4069699616, 3296741396, 2434615628, 1272003072, 2186138878,\n",
       "       1888071365, 3737406280, 1770398506, 1485324684, 1894959373,\n",
       "       1272389886, 1296540228, 2801905731, 1043105608, 1876315144,\n",
       "       2388741944, 1952684967, 2865237165, 2300493709, 1730301362,\n",
       "        246827844, 3540238697,  531932641, 3035976673,  102346916,\n",
       "       2497262860,  504964060,  785136638, 3742488106,  916196379,\n",
       "        585865962, 3645271484, 1242293615, 3658167029,  558295487,\n",
       "       1366190818, 2583508527, 3768907067, 1436393594, 2315050349,\n",
       "       2153294407, 2438065473, 3012792672, 1716745828,  834688908,\n",
       "       1433969485,  547509183, 2574325202, 2516796675,  995191393,\n",
       "       3296683531, 2149181979,  401910057, 4282075791,  778757489,\n",
       "        935219946,  624629536,  709081031,  888289628, 2155611638,\n",
       "       2955969963, 4238873158,  416428224, 2843255434, 1347804083,\n",
       "       3375200327,  119080066,  489503242, 1770926340, 3622634085,\n",
       "       2847194662, 1776046158,  170113916, 2162781368, 2399597913,\n",
       "         74128265,  322081253, 3051730115, 3959987220, 3783425532,\n",
       "       3848979310, 1548499916,   68629554,  530757586, 3364977958,\n",
       "       2934215846, 3953037560, 3863149209, 3173598570, 1863276720,\n",
       "       1239022642,  261213809, 3621058267, 2213704859,  344061377,\n",
       "        120337279, 1442317332, 2666411139, 2968458025,  189253608,\n",
       "       1016595638, 1979648824,  820646594, 4229888917, 1382573210,\n",
       "       2236687117, 3001843613, 3291050334, 2979418563, 2259814863,\n",
       "       3658360390,  369500670, 1655526506, 3061578896,  494628243,\n",
       "       1968170483, 1731395133, 3428140278, 1678168028,  621051411,\n",
       "        416688418, 3244074997, 4038308864,  910624495, 3399897092,\n",
       "       1447384974, 1696314125,  166298823,  368683245, 2801445358,\n",
       "        772456282, 4081346476, 3950056231, 4000209097, 2156208032,\n",
       "       3182408406, 2055137860, 4282451745, 4059695564,  455339802,\n",
       "       3243988765, 3799624815, 3799603381, 3782086005, 1493074229,\n",
       "       2195449688, 1217637258, 1071740205, 2511855410,   71499247,\n",
       "        905254946, 2134209732,  458402266, 2958064887, 3606825995,\n",
       "       2688293155, 1953489316, 1351750500, 3903311788, 3681723052,\n",
       "       3672563373, 2755766202, 1089052754, 1752520607, 3646359289,\n",
       "       3776621254,  432756628, 3478592337, 4152289227, 2522492744,\n",
       "       3729680679,  727292179, 3052384972, 2150426525, 1190135502,\n",
       "       2029856259, 2133678485, 1488761398, 1119868907, 2020756986,\n",
       "       3731735252, 1613286246,  700133527, 2846000747, 2651159162,\n",
       "       3572038539,  772102098,   21335958, 3205195603, 1082994951,\n",
       "       1377608332, 1222820516, 3275563269, 4165065225, 2705133938,\n",
       "       3631792044,  409312969,  426831007, 1377997917, 2310271435,\n",
       "       2007488200,  579658294,  613069811, 1302076060, 1332573528,\n",
       "       1082278005, 3808470228, 3879459111,   72834662,  244145357,\n",
       "       3892368517,  499966477, 1712210258, 1936794592,   86234212,\n",
       "       3008178351, 3470164499, 1384838039,  332237641, 3356258963,\n",
       "       3263300634,  586935365, 1181379977, 1883376594, 2250852622,\n",
       "       3788054389, 2413745090, 3435578006, 2195865946, 2438384274,\n",
       "        758908569, 2060307254, 4004184203, 3063429687,  593875033,\n",
       "       2563325728,  837107102, 2993896543,   60192095, 2557757639,\n",
       "       2764216951, 1387597986, 1526679983, 3608037465,   37982614,\n",
       "          2668816,  817572551, 3986444907, 2542208717,  127371056,\n",
       "       2927937454, 2101998593, 2370737709, 3942264010, 3370798178,\n",
       "       1472196931, 3630206279, 1317280670,  105110674, 3707387253,\n",
       "       2970751488, 2482006818,  485372180, 1287120882, 1744439899,\n",
       "        750911200,  909062228,  596381625,  898374669, 1293163072,\n",
       "       3506159436, 1226873649,  478111927, 3898087164,  656736724,\n",
       "       4153342501, 3392681703, 1062441488, 4035676239, 1525930384,\n",
       "       3961563556, 3913974097, 1765369017, 2269261120, 2627794471,\n",
       "       3545596175, 1289207752, 1712897220, 3002098723,  170602126,\n",
       "       1583184473, 1612722150, 2076803863, 3422830432,  825611208,\n",
       "       1330208433,  534201208, 3819590868,  768123717, 4264054993,\n",
       "       2184282344, 3439263958, 4242454075,   62958149, 1896445436,\n",
       "       3519359317, 3940133171, 1188029790,  873265020, 1171564399,\n",
       "        552498163,  983914737, 2213613685, 3247851532, 3622396335,\n",
       "       1357133351, 3401350185, 2845118454, 3204424908, 3427780054,\n",
       "       3491297702,  284119805, 2354062210, 2186272172, 2446401077,\n",
       "       2026258174, 3853539474,  836399896, 1348162623, 2332812724,\n",
       "       1550023682,  624300676, 1333832025, 1506956518, 3619985676,\n",
       "        742421477, 2742337413,  527055417,  199904647, 1864556382,\n",
       "       1072936093, 2030785682,  740050343, 2423688306, 3580883272,\n",
       "       3202652735, 1361341016,  697673333,  680481681,   46939043,\n",
       "       2001934180, 2149582091, 1691662930, 1674021663, 3089283802,\n",
       "       2825883312, 3854467012, 2361385335, 4132021054, 2658862807,\n",
       "       3109584916, 1383296462, 2435178453, 2092040952, 1044155585,\n",
       "       4038243677, 2202167958,  844157228, 1843131827, 2844979687,\n",
       "        918167171,  104823856, 1686356040,  142657686, 1840921310,\n",
       "       4292036642,  935758336, 1759798922, 1057888917, 4182483730,\n",
       "        423660470,  419503701, 2996527248, 1924645375, 2066687569,\n",
       "       1289307095, 2936411322, 1894165492,  881209315, 3792236859,\n",
       "        595426877,   56800558,  146521379, 1753380022, 1968801131,\n",
       "       3921132684, 2268486056,  960058246,  330671672, 3729732924,\n",
       "       1495887934, 3957434386, 1255654027, 1672842065, 1302430824,\n",
       "       3924280975, 2953457839, 3643210765, 1944739513,  179070682,\n",
       "       1307609601,  853754256, 1051333169,  709950679, 3549975299,\n",
       "       3280930299, 3800374078, 3305258012, 3605387431, 3598262607,\n",
       "       4039699963, 1930303054, 2464505693, 1358880043, 1122616005,\n",
       "       4151465576, 3308967405, 2339586229, 2048595018, 2731048689,\n",
       "       3004721116, 1050925274, 1266660771, 4251414153, 3850056538,\n",
       "       1476506065,  641916867, 1642195695,  462797067, 3745275542,\n",
       "       4200981262,  862433946,  556061426,  163052652,  348866008,\n",
       "       2063406204, 3291128768, 3816975385, 1611403780,  777670448,\n",
       "       2864388358, 3759972111, 4062280963, 1288482935, 1367143121,\n",
       "       2199620634, 2189573021,  712181003, 4207346917, 3950586940,\n",
       "       1894726687, 3728166049, 3372388697,  886865874, 2813908808,\n",
       "       3981792875, 3140097156,  623577114, 1952935981, 4123392932,\n",
       "       2925481296, 3780107237,  535822753,  495612334], dtype=uint32), 486, 0, 0.0))"
      ]
     },
     "execution_count": 21,
     "metadata": {},
     "output_type": "execute_result"
    }
   ],
   "source": [
    "# Let's be a bit more rigorous using Bayesian inference\n",
    "# We'll import the affine-invariant Markov Chain Monte Carlo (MCMC) sampler from the module emcee (\"the hammer\")\n",
    "import emcee\n",
    "\n",
    "# This function is just the log-likelihood for a normal distribution, mean of our function and sigma to be fit\n",
    "# The parameters must be the first argument for emcee\n",
    "def log_likelihood(theta, x, y):\n",
    "    b, c, m, dg, sigma2 = theta # We have to wrap up our parameters into a single list, we'll call it theta\n",
    "    ypred = func(x, b, c, m, dg)\n",
    "    return -0.5 * (np.sum(np.square(y - ypred) / sigma2 + np.log(2 * np.pi * sigma2)))\n",
    "\n",
    "# We'll let b and c be -256 to 0, m be 0 to 3, and deltaG be 0 to 30, plus bound the nuisance sigma2\n",
    "def log_prior(theta):\n",
    "    b, c, m, dg, sigma2 = theta\n",
    "    if -256 <= b <= 0 and -256 <= c <= 0 and 0 < m < 3 and 0 < dg <= 30 and 0 < sigma2< 1000:\n",
    "        return 0.0\n",
    "    return -np.inf\n",
    "\n",
    "def log_probability(theta, x, y):\n",
    "    lp = log_prior(theta)\n",
    "    if not np.isfinite(lp):\n",
    "        return -np.inf\n",
    "    return lp + log_likelihood(theta, x, y)\n",
    "\n",
    "init = [*popt, 1] + 1e-4 * np.random.randn(32, 5)\n",
    "\n",
    "sampler = emcee.EnsembleSampler(32, 5, log_probability, args=(ureaconcentration[1:14], intensities))\n",
    "sampler.run_mcmc(init, 100256, progress=True)"
   ]
  },
  {
   "cell_type": "code",
   "execution_count": 22,
   "metadata": {},
   "outputs": [
    {
     "name": "stdout",
     "output_type": "stream",
     "text": [
      "95% confidence interval on m: 1.1644414384893966-1.8998058357515504\n",
      "95% confidence interval on ΔG: 8.647048438078636-13.98319352881318\n",
      "Correlation between m and ΔG: 0.9937151767825894\n"
     ]
    },
    {
     "data": {
      "image/png": "[encoded data removed]",
      "text/plain": [
       "<Figure size 432x288 with 1 Axes>"
      ]
     },
     "metadata": {
      "needs_background": "light"
     },
     "output_type": "display_data"
    }
   ],
   "source": [
    "samples = sampler.get_chain(discard = 256) # We'll blindly discard the first 256 samples as burn-in\n",
    "plt.hist2d(samples[:,:,2].flatten(), samples[:,:,3].flatten(), bins = 400, cmap = 'binary')\n",
    "plt.xlabel(\"m-value (kcal/mol/M)\")\n",
    "plt.ylabel(\"ΔG (kcal/mol)\")\n",
    "plt.title(\"The posterior distribution of ΔG and m-value\\nfrom Bayesian inference on the least-squares problem\")\n",
    "print(\"95% confidence interval on m: \" + str(np.quantile(samples[:,:,2].flatten(), 0.025)) + \"-\" + str(np.quantile(samples[:,:,2].flatten(), 0.975)))\n",
    "print(\"95% confidence interval on ΔG: \" + str(np.quantile(samples[:,:,3].flatten(), 0.025)) + \"-\" + str(np.quantile(samples[:,:,3].flatten(), 0.975)))\n",
    "print(\"Correlation between m and ΔG: \" + str(np.corrcoef(samples[:,:,2].flatten(), samples[:,:,3].flatten())[0,1]))"
   ]
  }
 ],
 "metadata": {
  "kernelspec": {
   "display_name": "Python 3",
   "language": "python",
   "name": "python3"
  },
  "language_info": {
   "codemirror_mode": {
    "name": "ipython",
    "version": 3
   },
   "file_extension": ".py",
   "mimetype": "text/x-python",
   "name": "python",
   "nbconvert_exporter": "python",
   "pygments_lexer": "ipython3",
   "version": "3.6.10"
  }
 },
 "nbformat": 4,
 "nbformat_minor": 2
}
