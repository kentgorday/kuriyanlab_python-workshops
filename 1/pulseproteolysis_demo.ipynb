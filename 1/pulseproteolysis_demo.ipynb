{
 "cells": [
  {
   "cell_type": "code",
   "execution_count": 1,
   "metadata": {},
   "outputs": [
    {
     "name": "stdout",
     "output_type": "stream",
     "text": [
      "7\n",
      "2\n",
      "0\n",
      "3\n",
      "6\n",
      "['banana', 'apple', 'kiwi', 'banana', 'pear', 'apple', 'orange']\n",
      "['banana', 'apple', 'kiwi', 'banana', 'pear', 'apple', 'orange', 'grape']\n",
      "['apple', 'apple', 'banana', 'banana', 'grape', 'kiwi', 'orange', 'pear']\n",
      "pear\n"
     ]
    }
   ],
   "source": [
    "# Let's quickly review some basic python\n",
    "# Lists are the most flexible container objects in python\n",
    "# For example, we can add and remove from anywhere in the list, reorder it, and modify the elements directly\n",
    "# Lists can also contain different data types in different elements, or even lists of different length\n",
    "\n",
    "# If you aren't familiar with list behavior in python, play around with this example list of strings,\n",
    "# from the python tutorial:\n",
    "fruits = ['orange', 'apple', 'pear', 'banana', 'kiwi', 'apple', 'banana']\n",
    "print(len(fruits)) # length of list\n",
    "print(fruits.count('apple'))\n",
    "print(fruits.count('tangerine'))\n",
    "print(fruits.index('banana'))\n",
    "print(fruits.index('banana', 4))  # Find next banana starting a position 4\n",
    "fruits.reverse()\n",
    "print(fruits)\n",
    "fruits.append('grape')\n",
    "print(fruits)\n",
    "fruits.sort()\n",
    "print(fruits)\n",
    "print(fruits.pop())"
   ]
  },
  {
   "cell_type": "code",
   "execution_count": 2,
   "metadata": {},
   "outputs": [
    {
     "name": "stdout",
     "output_type": "stream",
     "text": [
      "[0, 1, 4, 9, 16, 25, 36, 49, 64, 81]\n",
      "[0, 1, 4, 9, 16, 25, 36, 49, 64, 81]\n"
     ]
    }
   ],
   "source": [
    "# Among the most convenient advantages of python is list comprehension\n",
    "\n",
    "# We could create a list of the first 10 squares using a boring for loop:\n",
    "squares = [] # an empty list\n",
    "for x in range(10): # range(n) will generate n integers from 0 to n-1\n",
    "    squares.append(x**2)\n",
    "print(squares)\n",
    "\n",
    "# But we could also create the same list in a single line using list comprehension:\n",
    "print([x**2 for x in range(10)])"
   ]
  },
  {
   "cell_type": "code",
   "execution_count": 3,
   "metadata": {},
   "outputs": [
    {
     "name": "stdout",
     "output_type": "stream",
     "text": [
      "Help on built-in function open in module io:\n",
      "\n",
      "open(file, mode='r', buffering=-1, encoding=None, errors=None, newline=None, closefd=True, opener=None)\n",
      "    Open file and return a stream.  Raise IOError upon failure.\n",
      "    \n",
      "    file is either a text or byte string giving the name (and the path\n",
      "    if the file isn't in the current working directory) of the file to\n",
      "    be opened or an integer file descriptor of the file to be\n",
      "    wrapped. (If a file descriptor is given, it is closed when the\n",
      "    returned I/O object is closed, unless closefd is set to False.)\n",
      "    \n",
      "    mode is an optional string that specifies the mode in which the file\n",
      "    is opened. It defaults to 'r' which means open for reading in text\n",
      "    mode.  Other common values are 'w' for writing (truncating the file if\n",
      "    it already exists), 'x' for creating and writing to a new file, and\n",
      "    'a' for appending (which on some Unix systems, means that all writes\n",
      "    append to the end of the file regardless of the current seek position).\n",
      "    In text mode, if encoding is not specified the encoding used is platform\n",
      "    dependent: locale.getpreferredencoding(False) is called to get the\n",
      "    current locale encoding. (For reading and writing raw bytes use binary\n",
      "    mode and leave encoding unspecified.) The available modes are:\n",
      "    \n",
      "    ========= ===============================================================\n",
      "    Character Meaning\n",
      "    --------- ---------------------------------------------------------------\n",
      "    'r'       open for reading (default)\n",
      "    'w'       open for writing, truncating the file first\n",
      "    'x'       create a new file and open it for writing\n",
      "    'a'       open for writing, appending to the end of the file if it exists\n",
      "    'b'       binary mode\n",
      "    't'       text mode (default)\n",
      "    '+'       open a disk file for updating (reading and writing)\n",
      "    'U'       universal newline mode (deprecated)\n",
      "    ========= ===============================================================\n",
      "    \n",
      "    The default mode is 'rt' (open for reading text). For binary random\n",
      "    access, the mode 'w+b' opens and truncates the file to 0 bytes, while\n",
      "    'r+b' opens the file without truncation. The 'x' mode implies 'w' and\n",
      "    raises an `FileExistsError` if the file already exists.\n",
      "    \n",
      "    Python distinguishes between files opened in binary and text modes,\n",
      "    even when the underlying operating system doesn't. Files opened in\n",
      "    binary mode (appending 'b' to the mode argument) return contents as\n",
      "    bytes objects without any decoding. In text mode (the default, or when\n",
      "    't' is appended to the mode argument), the contents of the file are\n",
      "    returned as strings, the bytes having been first decoded using a\n",
      "    platform-dependent encoding or using the specified encoding if given.\n",
      "    \n",
      "    'U' mode is deprecated and will raise an exception in future versions\n",
      "    of Python.  It has no effect in Python 3.  Use newline to control\n",
      "    universal newlines mode.\n",
      "    \n",
      "    buffering is an optional integer used to set the buffering policy.\n",
      "    Pass 0 to switch buffering off (only allowed in binary mode), 1 to select\n",
      "    line buffering (only usable in text mode), and an integer > 1 to indicate\n",
      "    the size of a fixed-size chunk buffer.  When no buffering argument is\n",
      "    given, the default buffering policy works as follows:\n",
      "    \n",
      "    * Binary files are buffered in fixed-size chunks; the size of the buffer\n",
      "      is chosen using a heuristic trying to determine the underlying device's\n",
      "      \"block size\" and falling back on `io.DEFAULT_BUFFER_SIZE`.\n",
      "      On many systems, the buffer will typically be 4096 or 8192 bytes long.\n",
      "    \n",
      "    * \"Interactive\" text files (files for which isatty() returns True)\n",
      "      use line buffering.  Other text files use the policy described above\n",
      "      for binary files.\n",
      "    \n",
      "    encoding is the name of the encoding used to decode or encode the\n",
      "    file. This should only be used in text mode. The default encoding is\n",
      "    platform dependent, but any encoding supported by Python can be\n",
      "    passed.  See the codecs module for the list of supported encodings.\n",
      "    \n",
      "    errors is an optional string that specifies how encoding errors are to\n",
      "    be handled---this argument should not be used in binary mode. Pass\n",
      "    'strict' to raise a ValueError exception if there is an encoding error\n",
      "    (the default of None has the same effect), or pass 'ignore' to ignore\n",
      "    errors. (Note that ignoring encoding errors can lead to data loss.)\n",
      "    See the documentation for codecs.register or run 'help(codecs.Codec)'\n",
      "    for a list of the permitted encoding error strings.\n",
      "    \n",
      "    newline controls how universal newlines works (it only applies to text\n",
      "    mode). It can be None, '', '\\n', '\\r', and '\\r\\n'.  It works as\n",
      "    follows:\n",
      "    \n",
      "    * On input, if newline is None, universal newlines mode is\n",
      "      enabled. Lines in the input can end in '\\n', '\\r', or '\\r\\n', and\n",
      "      these are translated into '\\n' before being returned to the\n",
      "      caller. If it is '', universal newline mode is enabled, but line\n",
      "      endings are returned to the caller untranslated. If it has any of\n",
      "      the other legal values, input lines are only terminated by the given\n",
      "      string, and the line ending is returned to the caller untranslated.\n",
      "    \n",
      "    * On output, if newline is None, any '\\n' characters written are\n",
      "      translated to the system default line separator, os.linesep. If\n",
      "      newline is '' or '\\n', no translation takes place. If newline is any\n",
      "      of the other legal values, any '\\n' characters written are translated\n",
      "      to the given string.\n",
      "    \n",
      "    If closefd is False, the underlying file descriptor will be kept open\n",
      "    when the file is closed. This does not work when a file name is given\n",
      "    and must be True in that case.\n",
      "    \n",
      "    A custom opener can be used by passing a callable as *opener*. The\n",
      "    underlying file descriptor for the file object is then obtained by\n",
      "    calling *opener* with (*file*, *flags*). *opener* must return an open\n",
      "    file descriptor (passing os.open as *opener* results in functionality\n",
      "    similar to passing None).\n",
      "    \n",
      "    open() returns a file object whose type depends on the mode, and\n",
      "    through which the standard file operations such as reading and writing\n",
      "    are performed. When open() is used to open a file in a text mode ('w',\n",
      "    'r', 'wt', 'rt', etc.), it returns a TextIOWrapper. When used to open\n",
      "    a file in a binary mode, the returned class varies: in read binary\n",
      "    mode, it returns a BufferedReader; in write binary and append binary\n",
      "    modes, it returns a BufferedWriter, and in read/write mode, it returns\n",
      "    a BufferedRandom.\n",
      "    \n",
      "    It is also possible to use a string or bytearray as a file for both\n",
      "    reading and writing. For strings StringIO can be used like a file\n",
      "    opened in a text mode, and for bytes a BytesIO can be used like a file\n",
      "    opened in a binary mode.\n",
      "\n"
     ]
    }
   ],
   "source": [
    "# We'll use the open() function to read the lines from some data files\n",
    "# First let's read the documentation to figure out what arguments we need to pass to open()\n",
    "# Note: single- and double-clicking on the left side of a jupyter notebook output will change how it is shown\n",
    "help(open)"
   ]
  },
  {
   "cell_type": "code",
   "execution_count": 4,
   "metadata": {},
   "outputs": [
    {
     "name": "stdout",
     "output_type": "stream",
     "text": [
      "['sample,n\\n', '1,1.3358\\n', '2,1.3412\\n', '3,1.3469\\n', '4,1.3525\\n', '5,1.3566\\n', '6,1.3616\\n', '7,1.3642\\n', '8,1.3672\\n', '9,1.3692\\n', '10,1.373\\n', '11,1.378\\n', '12,1.384\\n', '13,1.3889\\n', '14,1.395\\n', '15,1.4006\\n', '16,1.4068\\n']\n"
     ]
    }
   ],
   "source": [
    "# Now let's use readlines() to read each line of our file as a string, storing the whole file within a list:\n",
    "f = open(\"2020-03-12_H173_n.csv\")\n",
    "indices = f.readlines() # returns a list of strings, where each line is one element\n",
    "f.close()\n",
    "print(indices)\n",
    "\n",
    "# The above worked, but for the future let's use this safer and more convenient method of opening files:\n",
    "with open(\"2020-03-12_H173_n.csv\", 'r') as f: # open() uses 'r' for reading mode by default, but we'll be explicit\n",
    "    indices = f.readlines()\n",
    "# The file is closed automatically after the indented block is complete"
   ]
  },
  {
   "cell_type": "code",
   "execution_count": 5,
   "metadata": {},
   "outputs": [
    {
     "name": "stdout",
     "output_type": "stream",
     "text": [
      "['sample,n', '1,1.3358', '2,1.3412', '3,1.3469', '4,1.3525', '5,1.3566', '6,1.3616', '7,1.3642', '8,1.3672', '9,1.3692', '10,1.373', '11,1.378', '12,1.384', '13,1.3889', '14,1.395', '15,1.4006', '16,1.4068']\n"
     ]
    }
   ],
   "source": [
    "# We can see that readlines() left the newline character (\\n) on the end of each line\n",
    "# We could write a simple for loop to go through our list and remove it,\n",
    "# but instead we'll use our list comprehension powers, and the rstrip() method of the string class,\n",
    "# which can also handle \\r characters. It returns the same string with trailing character removed\n",
    "indices = [line.rstrip() for line in indices]\n",
    "print(indices)"
   ]
  },
  {
   "cell_type": "code",
   "execution_count": 6,
   "metadata": {},
   "outputs": [
    {
     "name": "stdout",
     "output_type": "stream",
     "text": [
      "[['sample', 'n'], ['1', '1.3358'], ['2', '1.3412'], ['3', '1.3469'], ['4', '1.3525'], ['5', '1.3566'], ['6', '1.3616'], ['7', '1.3642'], ['8', '1.3672'], ['9', '1.3692'], ['10', '1.373'], ['11', '1.378'], ['12', '1.384'], ['13', '1.3889'], ['14', '1.395'], ['15', '1.4006'], ['16', '1.4068']]\n"
     ]
    }
   ],
   "source": [
    "# Now, we want to separate the two fields of this CSV file\n",
    "# The split() method of the string class will let us split our strings into lists of strings at every comma:\n",
    "indices = [line.split(',') for line in indices]\n",
    "print(indices)\n",
    "# Now we have a list of lists of strings"
   ]
  },
  {
   "cell_type": "code",
   "execution_count": 7,
   "metadata": {},
   "outputs": [
    {
     "name": "stdout",
     "output_type": "stream",
     "text": [
      "['sample', 'n']\n",
      "['sample', '1', '2', '3', '4', '5', '6', '7', '8', '9', '10', '11', '12', '13', '14', '15', '16']\n"
     ]
    }
   ],
   "source": [
    "# Taking a look, we can see that the first list/line (element 0 of indices) is just a header that we don't need:\n",
    "print(indices[0])\n",
    "# And the first column (element 0 of each list within indices) is just a sample number that we also don't need:\n",
    "print([line[0] for line in indices])"
   ]
  },
  {
   "cell_type": "code",
   "execution_count": 8,
   "metadata": {},
   "outputs": [
    {
     "name": "stdout",
     "output_type": "stream",
     "text": [
      "[1.3358, 1.3412, 1.3469, 1.3525, 1.3566, 1.3616, 1.3642, 1.3672, 1.3692, 1.373, 1.378, 1.384, 1.3889, 1.395, 1.4006, 1.4068]\n"
     ]
    }
   ],
   "source": [
    "# Let's simplify our lives by turning our list of lists of strings into what we actually want:\n",
    "# just the floats in the second column, without a header:\n",
    "indices = [float(line[1]) for line in indices[1:]] # convert the 2nd element of each sublist into a float,\n",
    "# starting with the second sublist\n",
    "print(indices)"
   ]
  },
  {
   "cell_type": "code",
   "execution_count": 9,
   "metadata": {},
   "outputs": [
    {
     "name": "stdout",
     "output_type": "stream",
     "text": [
      "[1.3358, 1.3412, 1.3469, 1.3525, 1.3566, 1.3616, 1.3642, 1.3672, 1.3692, 1.373, 1.378, 1.384, 1.3889, 1.395, 1.4006, 1.4068]\n"
     ]
    }
   ],
   "source": [
    "# With great list comprehension power comes great list comprehension responsibility\n",
    "# Note that we could have accomplished all of this in two lines, but no one else would ever have a chance\n",
    "# of understanding our code:\n",
    "with open(\"2020-03-12_H173_n.csv\", 'r') as f:\n",
    "    indices = [float(line.rstrip().split(',')[1]) for line in f.readlines()[1:]]\n",
    "print(indices)"
   ]
  },
  {
   "cell_type": "code",
   "execution_count": 10,
   "metadata": {},
   "outputs": [
    {
     "name": "stdout",
     "output_type": "stream",
     "text": [
      "[[1 2 3]\n",
      " [4 5 6]]\n",
      "[['1' '2' 'If we try to mix a string in an array with integers...']\n",
      " ['4' '5' '6']]\n"
     ]
    }
   ],
   "source": [
    "# For common file formats like CSV, XLS, etc. we can save a lot of time by using the parsers in libraries like\n",
    "# NumPy (used widely for high-level math) or Pandas (which creates R-like dataframes convenient for data analysis)\n",
    "\n",
    "# Let's import NumPy so we can use its file-reading functions. We'll give it a simple abbreviation\n",
    "# because we're lazy. Behold, a contender for most common line of code:\n",
    "import numpy as np\n",
    "\n",
    "# The central feature of NumPy is the NumPy array. Arrays are more restrictive than lists, but also more efficient\n",
    "# Essentially all NumPy functions return arrays, and will convert arguments from lists to arrays\n",
    "# As long as all of our elements are of the same type, we can largely ignore the differences\n",
    "# Let's make a list of lists, then convert it into a 2-dimensional array to convince ourselves:\n",
    "listoflists = [[1,2,3],[4,5,6]]\n",
    "print(np.array(listoflists))\n",
    "\n",
    "listoflists = [[1,2,\"If we try to mix a string in an array with integers...\"],[4,5,6]]\n",
    "print(np.array(listoflists)) # NumPy will outsmart us and convert the entire array to a string array\n",
    "\n",
    "# We can also force NumPy arrays to have a desired data type. The below would throw a ValueError:\n",
    "# print(np.array(listoflists, dtype = int))"
   ]
  },
  {
   "cell_type": "code",
   "execution_count": 11,
   "metadata": {},
   "outputs": [
    {
     "name": "stdout",
     "output_type": "stream",
     "text": [
      "[1.3358 1.3412 1.3469 1.3525 1.3566 1.3616 1.3642 1.3672 1.3692 1.373\n",
      " 1.378  1.384  1.3889 1.395  1.4006 1.4068]\n",
      "[1.3358, 1.3412, 1.3469, 1.3525, 1.3566, 1.3616, 1.3642, 1.3672, 1.3692, 1.373, 1.378, 1.384, 1.3889, 1.395, 1.4006, 1.4068]\n"
     ]
    }
   ],
   "source": [
    "# Let's use NumPy's loadtxt, with comma delimiter, and tell it to skip 1 row plus only use the 2nd column:\n",
    "indices = np.loadtxt(\"2020-03-12_H173_n.csv\", delimiter = ',', skiprows = 1, usecols = 1)\n",
    "print(indices)\n",
    "\n",
    "# We could also convert this back to a list, if we want:\n",
    "print(indices.tolist())\n",
    "# list(indices) produces the same result for our 1D array, but only works in the first dimension,\n",
    "# eg list(np.array(listoflists)) returns a list of NumPy arrays...\n",
    "\n",
    "# There are a lot of other cool features of NumPy arrays, but we won't cover them here"
   ]
  },
  {
   "cell_type": "code",
   "execution_count": 12,
   "metadata": {},
   "outputs": [
    {
     "name": "stdout",
     "output_type": "stream",
     "text": [
      "[0.     0.0054 0.0111 0.0167 0.0208 0.0258 0.0284 0.0314 0.0334 0.0372\n",
      " 0.0422 0.0482 0.0531 0.0592 0.0648 0.071 ]\n",
      "[0.00000e+00 2.91600e-05 1.23210e-04 2.78890e-04 4.32640e-04 6.65640e-04\n",
      " 8.06560e-04 9.85960e-04 1.11556e-03 1.38384e-03 1.78084e-03 2.32324e-03\n",
      " 2.81961e-03 3.50464e-03 4.19904e-03 5.04100e-03]\n",
      "[0.         0.63626082 1.30994564 1.97408405 2.46187018 3.0586195\n",
      " 3.36979207 3.72960405 3.96994917 4.42767781 5.03218244 5.7611144\n",
      " 6.35942014 7.10824456 7.7997925  8.57025884]\n",
      "[0.0, 0.6353639999999823, 1.3060259999999868, 1.9649219999999925, 2.4473279999999917, 3.035627999999979, 3.3415439999999976, 3.694523999999985, 3.929843999999985, 4.376951999999988, 4.965251999999976, 5.671211999999976, 6.247745999999991, 6.96547199999999, 7.624367999999996, 8.353859999999994, 0.0, 0.0008675974799999516, 0.003665867129999926, 0.008297814169999937, 0.012872337919999912, 0.01980478691999973, 0.023997579679999968, 0.02933526787999976, 0.033191256679999746, 0.041173391519999776, 0.052985332519999484, 0.06912335971999943, 0.08389185632999976, 0.1042735539199997, 0.12493403711999988, 0.1499848729999998, 0.0, 2.9219019839997557e-05, 0.0002537776083599923, 0.0008642388342799902, 0.0016698381107199832, 0.003186716886719935, 0.004250493770239992, 0.005744778760639929, 0.006913910674239921, 0.009552415034879923, 0.013945102690879797, 0.02077903997407974, 0.02778228275795988, 0.038499003105279844, 0.05049046628351993, 0.06641396515999987]\n"
     ]
    }
   ],
   "source": [
    "# indices contains the measured refractive index for a bunch of urea solutions of increasing concentration\n",
    "# indices[0] is known to have no urea, so we'll use the Maclaurin series expansion from  \n",
    "# https://doi.org/10.1016/0076-6879(86)31045-0\n",
    "# [urea] = 117.66Δn + 29.753 Δn**2 + 185.56Δn**3\n",
    "\n",
    "# We'll use some math functions from numpy: np.square() and np.power(), and the subtraction operator:\n",
    "print(indices - indices[0]) # subtract the scalar indices[0] from every element of the array indices\n",
    "print(np.square(indices - indices[0])) # square every element of the array produced by the line above\n",
    "ureaconcentration = 117.66 * (indices - indices[0]) + \\\n",
    "                    29.753 * np.square(indices - indices[0]) + \\\n",
    "                    185.56 * np.power((indices - indices[0]), 3)\n",
    "print(ureaconcentration)\n",
    "\n",
    "# We could easily do this with python lists as well, but it is more tedious\n",
    "# The only operation here that python will interpret element-wise as we intend is the addition of the 3 terms:\n",
    "indiceslist = indices.tolist()\n",
    "ureaconcentrationlist = [117.66 * (index - indiceslist[0]) for index in  indiceslist] + \\\n",
    "                        [29.753 * (index - indiceslist[0]) ** 2 for index in  indiceslist] + \\\n",
    "                        [185.56 * (index - indiceslist[0]) ** 3 for index in  indiceslist]\n",
    "print(ureaconcentrationlist)"
   ]
  },
  {
   "cell_type": "code",
   "execution_count": 13,
   "metadata": {},
   "outputs": [
    {
     "name": "stdout",
     "output_type": "stream",
     "text": [
      "(13,)\n",
      "(16,)\n",
      "[0.63626082 1.30994564 1.97408405 2.46187018 3.0586195  3.36979207\n",
      " 3.72960405 3.96994917 4.42767781 5.03218244 5.7611144  6.35942014\n",
      " 7.10824456]\n"
     ]
    }
   ],
   "source": [
    "# We also have relative intensity values for our protein band from an SDS-PAGE gel:\n",
    "intensities = np.loadtxt(\"2020-03-12_H173_2-14.csv\", delimiter = ',', skiprows = 1, usecols = 1)\n",
    "\n",
    "# We were only able to quantify bands 2-14 of the 16 bands, resulting in a smaller list:\n",
    "print(intensities.shape) # Note: len(intensities) is equivalent for 1D arrays\n",
    "print(ureaconcentration.shape)\n",
    "\n",
    "# To match the pairs, we can index from the 2nd value of ureaconcentration to the 14th value:\n",
    "print(ureaconcentration[1:14])\n",
    "# We also could have explicitly excluded the last two values with ureaconcentration[1:-2]\n",
    "# or even provided a list of the elements we wanted (unique to arrays, does not work with lists):\n",
    "# ureaconcentration[list(range(1,14))]"
   ]
  },
  {
   "cell_type": "code",
   "execution_count": 14,
   "metadata": {},
   "outputs": [
    {
     "data": {
      "text/plain": [
       "<matplotlib.collections.PathCollection at 0x7f337aaed4e0>"
      ]
     },
     "execution_count": 14,
     "metadata": {},
     "output_type": "execute_result"
    },
    {
     "data": {
      "image/png": "[encoded data removed]",
      "text/plain": [
       "<Figure size 432x288 with 1 Axes>"
      ]
     },
     "metadata": {
      "needs_background": "light"
     },
     "output_type": "display_data"
    }
   ],
   "source": [
    "# This line is literally invoking a \"magic function\" of IPython and we won't try to understand:\n",
    "%matplotlib inline\n",
    "# Let's import just the pyplot set of functions from the matplotlib module, and call it plt:\n",
    "from matplotlib import pyplot as plt\n",
    "\n",
    "# Now let's simply plot band intensity versus urea concentration:\n",
    "plt.scatter(ureaconcentration[1:14], intensities)\n",
    "# You can choose to not use the magic function above or plt.show() and all plots after the first\n",
    "# (which you will have to rerun) will appear static as expected with the other two methods..."
   ]
  },
  {
   "cell_type": "code",
   "execution_count": 15,
   "metadata": {},
   "outputs": [
    {
     "data": {
      "text/plain": [
       "Text(0.5, 1.0, 'Pulse proteolysis of H-Ras 1-173')"
      ]
     },
     "execution_count": 15,
     "metadata": {},
     "output_type": "execute_result"
    },
    {
     "data": {
      "image/png": "[encoded data removed]",
      "text/plain": [
       "<Figure size 432x288 with 1 Axes>"
      ]
     },
     "metadata": {
      "needs_background": "light"
     },
     "output_type": "display_data"
    }
   ],
   "source": [
    "# Looks like we have a cooperative folding transition that we should later be able to fit\n",
    "# Let's just add some labels to our plot\n",
    "\n",
    "plt.scatter(ureaconcentration[1:14], intensities)\n",
    "plt.xlabel(\"urea concentration (M)\")\n",
    "plt.ylabel(\"uncleaved band intensity (relative)\")\n",
    "plt.title(\"Pulse proteolysis of H-Ras 1-173\")\n",
    "# We could now use plt.savefig(\"filename.extension\") to save this. I like to save my plots as pdfs"
   ]
  },
  {
   "cell_type": "code",
   "execution_count": 16,
   "metadata": {},
   "outputs": [
    {
     "data": {
      "text/plain": [
       "<matplotlib.legend.Legend at 0x7f3372ff72e8>"
      ]
     },
     "execution_count": 16,
     "metadata": {},
     "output_type": "execute_result"
    },
    {
     "data": {
      "image/png": "[encoded data removed]",
      "text/plain": [
       "<Figure size 432x288 with 1 Axes>"
      ]
     },
     "metadata": {
      "needs_background": "light"
     },
     "output_type": "display_data"
    }
   ],
   "source": [
    "# Let's define a function describing this cooperative transition:\n",
    "def func(x, b, c, dg): # arguments: urea concentration, nuisance scale parameter, nuisance offset, and deltaG\n",
    "    m = 1.579 # proportionality constant between urea concentration and change in free energy of folding (deltaG)\n",
    "    return b * (1 - np.exp(-m * x / 0.5924849497 + dg)) / (1 + np.exp(-m * x / 0.5924849497 + dg)) - c\n",
    "\n",
    "# Here, we've fixed m to a previously-estimated value for now\n",
    "\n",
    "# Let's get a feel for reasonable parameters. Let's create an array with 10000 points spaced evenly from 0 to 8:\n",
    "x = np.linspace(0, 8, 10000)\n",
    "# Take the function of every point in x, with parameters that give us a curve vaguely like what we see in the data:\n",
    "y = func(x, -20, -40, 10)\n",
    "# And plot it:\n",
    "plt.plot(x,y)\n",
    "# Now let's plot another curve with 5 kcal/mol different deltaG\n",
    "y = func(x, -20, -40, 15)\n",
    "plt.plot(x,y)\n",
    "# And let's add a legend using a list of names so we know what's going on:\n",
    "plt.legend([\"10 kcal/mol\", \"15 kcal/mol\"])"
   ]
  },
  {
   "cell_type": "code",
   "execution_count": 17,
   "metadata": {},
   "outputs": [
    {
     "name": "stdout",
     "output_type": "stream",
     "text": [
      "[-22.24719873 -39.10989123  11.63823523]\n",
      "[[ 0.23489257 -0.07064772 -0.00432551]\n",
      " [-0.07064772  0.27997745  0.03643714]\n",
      " [-0.00432551  0.03643714  0.01257624]]\n"
     ]
    }
   ],
   "source": [
    "# Let's import only the nonlinear least squares curve fitting function from the scipy module\n",
    "from scipy.optimize import curve_fit\n",
    "\n",
    "# We will feed curve_fit() our func, the x (urea) values, the y (intensity) values, and some reasonable guesses,\n",
    "# then it will return two arrays: one with the optimized parameters, and one with their estimated covariance\n",
    "popt, pcov = curve_fit(func, ureaconcentration[1:14], intensities, p0 = [-20, -40, 10])\n",
    "print(popt) # b, c, and dg parameters in the order they appear as arguments\n",
    "print(pcov)"
   ]
  },
  {
   "cell_type": "code",
   "execution_count": 18,
   "metadata": {},
   "outputs": [
    {
     "name": "stdout",
     "output_type": "stream",
     "text": [
      "[0.48465717 0.52912896 0.11214384]\n"
     ]
    },
    {
     "data": {
      "text/plain": [
       "<matplotlib.legend.Legend at 0x7f3371b1a5f8>"
      ]
     },
     "execution_count": 18,
     "metadata": {},
     "output_type": "execute_result"
    },
    {
     "data": {
      "image/png": "[encoded data removed]",
      "text/plain": [
       "<Figure size 432x288 with 1 Axes>"
      ]
     },
     "metadata": {
      "needs_background": "light"
     },
     "output_type": "display_data"
    }
   ],
   "source": [
    "# Let's look at how well-determined our parameters seem to be first. We'll take the square root of the\n",
    "# diagonal entries (self-covariance, aka variance of the parameter estimates) to get a standard deviation:\n",
    "print(np.sqrt(np.diag(pcov)))\n",
    "# The deltaG seems fairly well-determined, but let's take a look at the fit itself. We'll again create x-values:\n",
    "x = np.linspace(0, 8, 10000)\n",
    "# and calculate our function of those x-values with optimized parameters:\n",
    "y = func(x, popt[0], popt[1], popt[2]) # Note: could also use func(x, *popt), which will unpack the list\n",
    "# and plot\n",
    "plt.scatter(ureaconcentration[1:14], intensities)\n",
    "plt.plot(x, y)\n",
    "plt.xlabel(\"urea concentration (M)\")\n",
    "plt.ylabel(\"uncleaved band intensity (relative)\")\n",
    "plt.title(\"Pulse proteolysis of H-Ras 1-173, ΔG fit\")\n",
    "# Here I will use C-style string formatting to trim the numbers down to just 2 digits after the decimal\n",
    "# There are also other ways to format floats within strings in python\n",
    "# Also, here I am reporting ± 2 standard deviations, or roughly a 95% confidence interval\n",
    "plt.legend([\"data\", \"fit: ΔG = %.2f±%.2f kcal/mol\" % (popt[2], 2 * np.sqrt(np.diag(pcov))[2])])"
   ]
  },
  {
   "cell_type": "code",
   "execution_count": 19,
   "metadata": {},
   "outputs": [
    {
     "name": "stdout",
     "output_type": "stream",
     "text": [
      "[-22.6778593  -39.05270907   1.41805335  10.47944917]\n",
      "[[ 0.38240107 -0.09662704  0.05039844  0.35695233]\n",
      " [-0.09662704  0.28735704 -0.00843385 -0.02457757]\n",
      " [ 0.05039844 -0.00843385  0.01687999  0.12105772]\n",
      " [ 0.35695233 -0.02457757  0.12105772  0.87917907]]\n"
     ]
    },
    {
     "data": {
      "text/plain": [
       "<matplotlib.legend.Legend at 0x7f3371a8e6a0>"
      ]
     },
     "execution_count": 19,
     "metadata": {},
     "output_type": "execute_result"
    },
    {
     "data": {
      "image/png": "[encoded data removed]",
      "text/plain": [
       "<Figure size 432x288 with 1 Axes>"
      ]
     },
     "metadata": {
      "needs_background": "light"
     },
     "output_type": "display_data"
    }
   ],
   "source": [
    "# Usually, you do not fit the m-value (urea proportionality constant or equivalently slope at the midpoint)\n",
    "# and deltaG together from pulse proteolysis data, because there are few points in the transition region.\n",
    "# Let's just play around with how bad an idea this is on our data:\n",
    "\n",
    "# We'll redefine func() to take m as an argument:\n",
    "def func(x, b, c, m, dg):\n",
    "    return b * (1 - np.exp(-m * x / 0.5924849497 + dg)) / (1 + np.exp(-m * x / 0.5924849497 + dg)) - c\n",
    "\n",
    "popt, pcov = curve_fit(func, ureaconcentration[1:14], intensities, p0 = [-20, -40, 1.6, 10])\n",
    "print(popt)\n",
    "print(pcov)\n",
    "y = func(x, *popt)\n",
    "plt.scatter(ureaconcentration[1:14], intensities)\n",
    "plt.plot(x, y)\n",
    "plt.xlabel(\"urea concentration (M)\")\n",
    "plt.ylabel(\"uncleaved band intensity (relative)\")\n",
    "plt.title(\"Pulse proteolysis of H-Ras 1-173, ΔG and m-value fit\")\n",
    "plt.legend([\"data\", \"fit:\\nΔG = %.2f±%.2f kcal/mol,\\nm = %.2f±%.2f kcal/mol/M\" % (popt[3], 2 * np.sqrt(np.diag(pcov))[3], popt[2], 2 * np.sqrt(np.diag(pcov))[2])])\n",
    "\n",
    "# We see that the diagonal terms corresponding to the covariance between m-value and deltaG are large,\n",
    "# but it is hard for us to really grasp in this format"
   ]
  },
  {
   "cell_type": "code",
   "execution_count": 20,
   "metadata": {},
   "outputs": [
    {
     "data": {
      "text/plain": [
       "Text(0.5, 1.0, 'Our estimates of the ΔG and m-value from this data\\nare heavily correlated and poorly-determined')"
      ]
     },
     "execution_count": 20,
     "metadata": {},
     "output_type": "execute_result"
    },
    {
     "data": {
      "image/png": "[encoded data removed]",
      "text/plain": [
       "<Figure size 432x288 with 1 Axes>"
      ]
     },
     "metadata": {
      "needs_background": "light"
     },
     "output_type": "display_data"
    }
   ],
   "source": [
    "# Let's take this covariance matrix at its face and histogram up a bunch of samples from a bivariate normal\n",
    "# distribution to understand the approximate joint distribution of our parameter estimates\n",
    "# NumPy makes the sampling easy:\n",
    "draws = np.random.multivariate_normal(popt[-2:], pcov[-2:, -2:], 100000)\n",
    "# And matplotlib lets us directly draw a 2D histogram:\n",
    "plt.hist2d(draws[:,0], draws[:,1], bins = 400, cmap = 'binary')\n",
    "plt.xlabel(\"m-value (kcal/mol/M)\")\n",
    "plt.ylabel(\"ΔG (kcal/mol)\")\n",
    "plt.title(\"Our estimates of the ΔG and m-value from this data\\nare heavily correlated and poorly-determined\")\n",
    "\n",
    "# Hopefully it is now obvious why we should stick to fitting just the deltaG (or equivalently Cm) at fixed m-value"
   ]
  },
  {
   "cell_type": "code",
   "execution_count": 21,
   "metadata": {},
   "outputs": [
    {
     "name": "stderr",
     "output_type": "stream",
     "text": [
      "100%|██████████| 100256/100256 [02:43<00:00, 612.58it/s]\n"
     ]
    },
    {
     "data": {
      "text/plain": [
       "State([[-22.11211684 -38.14816078   1.60046457  11.88246934   4.41325021]\n",
       " [-22.71532701 -37.86393799   1.44999411  10.75381928  11.59389937]\n",
       " [-23.26630702 -39.21181205   1.44988964  10.60316652   2.85750247]\n",
       " [-23.86385557 -38.90915572   1.368354    10.1723975    1.67170737]\n",
       " [-20.74810002 -38.92298821   2.25176844  16.68809509   6.46990262]\n",
       " [-23.74424479 -40.08143398   1.31409419   9.55310146   3.02064425]\n",
       " [-21.74518744 -38.46920788   1.53112322  11.48848865   3.68270699]\n",
       " [-21.74313088 -39.42208495   1.48521912  10.77499461   3.87135513]\n",
       " [-21.24250138 -39.75297944   1.89296704  13.66707988   2.82436592]\n",
       " [-24.0181155  -38.44850481   1.25207409   9.36429333   4.42806635]\n",
       " [-22.70210571 -39.37515396   1.66762664  12.24963515   3.55537298]\n",
       " [-22.25561708 -39.76933877   1.58101424  11.5384751    1.96274176]\n",
       " [-22.5158659  -37.06952981   1.50575962  11.44966118   5.3321111 ]\n",
       " [-23.65707372 -37.85943256   1.64591314  12.43725109   4.54905625]\n",
       " [-21.19466376 -38.29140749   1.74139998  12.82994271   3.47016536]\n",
       " [-20.8628183  -40.68822708   1.63754942  11.83719162   4.36262583]\n",
       " [-21.57189213 -38.56038798   1.39354945  10.37897376   2.61467438]\n",
       " [-22.21606861 -39.78616882   1.50080404  11.22037601   4.94413666]\n",
       " [-22.63978018 -39.53866762   1.50034213  11.03615122   2.04944496]\n",
       " [-22.89952072 -38.58022316   1.56783815  11.82404687   2.50245609]\n",
       " [-23.41247937 -39.2482774    1.34599291  10.04749712   1.90316524]\n",
       " [-23.20881842 -42.45734802   1.5512468   11.04738798   4.88343274]\n",
       " [-22.66280496 -38.19108008   1.60240033  11.9361792    2.47945969]\n",
       " [-23.55544914 -38.16683503   1.42089458  10.7474473    4.43980837]\n",
       " [-22.63353946 -38.33326004   1.55689893  11.44555476   1.98770682]\n",
       " [-24.36757683 -37.44870062   1.16488364   8.6920844    3.9659155 ]\n",
       " [-21.89963245 -39.00821374   1.53277703  11.29978889   1.09618761]\n",
       " [-23.57573287 -38.8409829    1.25698988   9.38808827   2.46125252]\n",
       " [-22.27239706 -39.08067524   1.42321053  10.58432943   2.24764221]\n",
       " [-23.05559095 -39.56129485   1.25464251   9.15857696   2.99567408]\n",
       " [-23.94427774 -39.23332357   1.25137805   9.04693004   7.07950675]\n",
       " [-22.19212786 -39.44898039   1.50803275  11.18311626   1.63354504]], log_prob=[-25.002611   -29.26251246 -23.03850373 -23.79016426 -29.47265618\n",
       " -25.15411161 -24.50762024 -24.64665424 -26.80602717 -24.75077297\n",
       " -24.42198315 -22.53963355 -27.54096398 -28.04628815 -26.60297963\n",
       " -27.09441172 -24.91719657 -26.13038622 -21.78799947 -25.02295661\n",
       " -23.27946864 -35.35571368 -23.5670831  -25.46054783 -23.77878839\n",
       " -27.21052653 -22.51120285 -22.68449702 -21.72905827 -23.51764788\n",
       " -27.66131556 -22.07874823], blobs=None, random_state=('MT19937', array([3311002966, 1211520545, 2249656840, 2254217700, 1426059685,\n",
       "       1581063014, 2773562260, 3677574426, 3008414441, 2342888610,\n",
       "       1227470067, 3471938901,  908339118, 3754061145, 2697225822,\n",
       "       1954686899, 2524940345, 1868165443,  644634760, 1742642557,\n",
       "       3310796839,  942033898, 2398204075, 2185089971, 2991009868,\n",
       "        330913343,  532399040, 2259379178, 2038083495, 4241774430,\n",
       "       2544618752, 1051646190, 3696241402, 2640217291,  865021797,\n",
       "       3330816293,  441148988, 3585513083, 3204466857, 2582161239,\n",
       "       1423024096, 1677845794, 3148849094, 3014108286,  931299523,\n",
       "       1623037536, 3670498506, 3466235663, 3488026073, 2455690154,\n",
       "       2395258620, 2372524265, 4018285211, 3343023514, 3847111913,\n",
       "        338279472, 3992790636, 3187967643, 1072794600, 2253647942,\n",
       "        866965520, 2173938234, 3756447682, 3244580098, 3524595387,\n",
       "       2062675546, 2423771258, 3708879069, 3955504120, 4122074033,\n",
       "        395459516,    6418291, 3295217475, 2915337037, 1454068792,\n",
       "       3134966030,  308255129, 4132296353, 3717289268, 2324754997,\n",
       "       3345307794, 2052759584, 2333537375, 2126030072, 1092984385,\n",
       "       2307155591, 1467138232, 1859610527,   13771893,  443186049,\n",
       "        637592334, 2900365786, 2821901812, 1667367513,  273971433,\n",
       "        267845039, 2302836603,   58028367, 3875868590, 2270629265,\n",
       "        550408054, 3026075807,  963597625, 1502466705,  518202019,\n",
       "       2984358891, 3407781171, 1168042159, 3830379329, 2773440452,\n",
       "       2922598552, 2421504868, 3095902062, 2939183399, 3185471281,\n",
       "        323908879, 1464361748, 1244983408, 1426366646, 3862343915,\n",
       "       2206086400, 1047458845,   60623790, 3910916398, 3596490875,\n",
       "       3744958118, 2434727227,  960608936, 3096637304,  833058057,\n",
       "       4089353414,  694427620, 1771339535,  869110754, 2032414342,\n",
       "        607546175, 2774276531, 2025648722, 2787529303, 2061513270,\n",
       "       3875905195, 3063694334,   93011465, 3736071262, 4070184360,\n",
       "        553741722,  783972376, 3014677995, 3143977984,  656831930,\n",
       "       2656510840, 2204535840, 2508715702,  654219674, 2674064794,\n",
       "       3439023800, 1411984859,  848473438, 2827395197, 2311487498,\n",
       "       1530098878, 1477230381, 2094437568, 2936462139, 1925866684,\n",
       "       1926707532, 4167499801, 1752979944, 3486941252, 2324027442,\n",
       "       1676817890, 3200562674, 1077519710, 1650755800, 1531650906,\n",
       "        955659254, 2358223778, 3671389158, 1827799613,  510012114,\n",
       "        365109517, 2027157932,  947110739, 1015293289, 3652960907,\n",
       "       2430680476,  335998936, 1764548867, 3229927007, 1700323765,\n",
       "        455654318, 3429480196,  103760462,   35318594, 1044066910,\n",
       "       2941590197,  449414871,  349445011,  573152639, 1016986891,\n",
       "       3120243018,  643425193,  585010769,  497798569, 1639601903,\n",
       "       2179806506, 2846326135, 4217509252,    1346463, 2959296849,\n",
       "       2341698806, 3371505692,  639316198,  877519485, 2939106675,\n",
       "       2889938699, 3227460987,  813571117, 1774522487, 3778189539,\n",
       "       1160056778, 2222520311, 1488540055, 2901203307,  101232552,\n",
       "       1129457980, 1035000137, 1809295161, 1070246178,  128598524,\n",
       "       4277929340, 2217862832,  932712702, 2275402889, 3346479227,\n",
       "        979222707, 1513661453,  720094458, 2353159387, 2991527827,\n",
       "        272062679, 3709579783, 3889442627, 3836824449, 3753439644,\n",
       "       3728062781, 2496880301,    5920868, 1836143967, 2487387894,\n",
       "       1928480600, 1583444072, 2334721762, 1290405622, 2968691291,\n",
       "       4120611165, 1966455969, 1746638880, 3362796174, 4062957064,\n",
       "       2040089424, 3065131510, 2763512866,  738436601, 3123728252,\n",
       "       1079092160, 3590573448, 3884167712,   13087254, 3683261932,\n",
       "       1038674026, 1824544992, 1086153628, 3105546208, 1102229417,\n",
       "       2760539157, 4220302288, 2645105586, 1653023446, 2756761437,\n",
       "        677689443, 4169115300,  181209378, 2812325388,  726786529,\n",
       "       4052335669, 1806786258, 3619525583, 2851300284, 1400159775,\n",
       "        121965372,  583256067, 1977905211,  280163832, 1713600979,\n",
       "       3723219809,  900785402, 2874315708,  331429509, 1711666590,\n",
       "       2349594474, 3507099633, 1281350551, 3030561863, 4071736510,\n",
       "        503355284, 4234203335, 1107461784, 3168821080, 3392863760,\n",
       "       1537230350, 2362348316, 1706460449, 1789585904,  889157110,\n",
       "        228618042, 2679302301,  356675200, 3764774757, 3678624219,\n",
       "       1099085191,  883789729,  197654063, 1358369396,  319446105,\n",
       "       1444842780, 3480782416, 4182326204, 3641640147, 2151543521,\n",
       "       1670515734, 4092749872,  194720618, 1677202626, 2179344166,\n",
       "       3976000733, 1423489893, 1458744612, 2876362528,  454579643,\n",
       "       1135717777, 3502818737, 2520429767, 2775077059, 4156060924,\n",
       "       3225849766,   10223618, 1667378964, 4235274118, 1041647972,\n",
       "        618610413, 3647318039,  984079471, 3978665527, 3997540905,\n",
       "       2251955460, 3295148199, 3006775861,   93503088, 3303544382,\n",
       "       1918708432,  817038650, 1993417205, 2011201987, 3498546689,\n",
       "       3946816987,  929882718, 4116455137,  569264871, 1016880249,\n",
       "        762628991, 1783222807, 3952136902, 3845634445, 4150967867,\n",
       "       3454841197,  525976052,  140230101,  418985554, 3379082783,\n",
       "       3970843233, 2879240097,   16346101,  553826843, 3156360840,\n",
       "        315436454, 3304821441, 1291329272,   29264192, 4234290582,\n",
       "       2569164859, 2938523394, 2231927744, 1485957048,  383202659,\n",
       "       3365485054,  783606950, 3378966529, 1120304575, 1006541821,\n",
       "       3968804231, 1054863192, 3315710461, 2709312956, 4260174812,\n",
       "       1584882106, 2508227788, 3659175311,  235031088,  671131132,\n",
       "        827868943, 3311566397,  409919251, 2283118149, 2966934125,\n",
       "       4200357973,  559343495, 2817690561,  443773474, 1623249826,\n",
       "       1611759887, 3381018690,  364538920, 2666423554,  994448818,\n",
       "       2045141624, 1040187107, 2825992922,  856118161, 1231716047,\n",
       "       1095918224, 4135813102, 3183823534, 1512680414, 3244605010,\n",
       "       3523766715, 1991251271, 1732261667,  384482961,  238569067,\n",
       "       2009810155, 2271916401, 4266465941, 4166231999,  647820709,\n",
       "       3516239084, 3058885640, 3470521896, 3841785562, 3002767930,\n",
       "       3148430897, 1782486870,  874674869, 1848233242, 3243392705,\n",
       "       1038915719,  222064092, 1787428319, 1321791617,   59136164,\n",
       "       3572667695, 1468805752, 1637355146, 3895030855, 3933371081,\n",
       "       4183632258, 1922017345,  158398501,  533300235, 4209199519,\n",
       "       1679417955, 4002565195, 1946537965, 3612739389, 1114352342,\n",
       "       1184424824, 1188147710, 2480612837, 2978153810, 1723733570,\n",
       "       4211276834, 2259388752, 2255929465, 3088669780, 1631722167,\n",
       "        444994781, 3843196331, 2179556755, 4003002987, 2508761163,\n",
       "       1036800182, 1758401526, 3290201211, 3644393366,  832739406,\n",
       "       3739614985,  594711216, 2029018302,  358988821,  368174413,\n",
       "       2612184722, 3290830042,  782968467, 2484022890, 3107090587,\n",
       "        126686617, 3753880716,  736126782, 2085188223, 2983705325,\n",
       "       1123861036, 3822728692, 1694009163, 2969427815,  204331766,\n",
       "       1975699716, 3750712387, 2884815828,  617073543, 4129619416,\n",
       "        738917637, 1534133783, 2096581137, 3199348807,  787802692,\n",
       "        407733955,  188234054, 2218418520, 2957932036,  654275319,\n",
       "       2031073559,  375313572, 3316965352, 2434908972, 1147674631,\n",
       "       3874885467,  518510912, 3036672333,  610352127, 1049002219,\n",
       "       2151496783, 4055182050,  749356564, 3342056312, 2317870490,\n",
       "       2048410120, 1401969126, 3411239737, 2355253140, 1820645054,\n",
       "       1149623255, 1738838395, 2052114483, 3092744426,  160517465,\n",
       "       1286133752, 1368771954, 3531678825, 3382241980,  893734922,\n",
       "        128476202, 3441436506,   49270485, 1006369311, 1764264412,\n",
       "       2545894795, 3427226292,  587973363, 1234026841, 2211741734,\n",
       "       3700079556,  611009682, 4090700906,  262940398, 2334447604,\n",
       "       1158400086,  205551282, 1352191959,  109996336, 4070456837,\n",
       "       3734407875,  218287420, 2412056889,  870814399, 4235589611,\n",
       "        603503650,  417805138, 3478210652, 1389877613,  982215841,\n",
       "       1182342503, 1509577105,  925149764, 2811577745, 2923926928,\n",
       "       1694896307,  776329101,  204808440, 1567955551, 2499265029,\n",
       "       2891862393, 2974917265, 1673820382, 2062990561,  910815594,\n",
       "       3483898928, 3923488248, 4019117717, 1137655970,  615767393,\n",
       "       1250914449, 1046145624, 3261662060, 1327372207, 2746841300,\n",
       "       4071864344, 1679553556, 3625349685,  809005654, 1954831719,\n",
       "       3731018097,   95955206, 2561514307,  202905101], dtype=uint32), 616, 0, 0.0))"
      ]
     },
     "execution_count": 21,
     "metadata": {},
     "output_type": "execute_result"
    }
   ],
   "source": [
    "# Let's be a bit more rigorous using Bayesian inference\n",
    "# We'll import the affine-invariant Markov Chain Monte Carlo (MCMC) sampler from the module emcee (\"the hammer\")\n",
    "import emcee\n",
    "\n",
    "# This function is just the log-likelihood for a normal distribution, mean of our function and sigma to be fit\n",
    "# The parameters must be the first argument for emcee\n",
    "def log_likelihood(theta, x, y):\n",
    "    b, c, m, dg, sigma2 = theta # We have to wrap up our parameters into a single list, we'll call it theta\n",
    "    ypred = func(x, b, c, m, dg)\n",
    "    return -0.5 * (np.sum(np.square(y - ypred) / sigma2 + np.log(2 * np.pi * sigma2)))\n",
    "\n",
    "# We'll let b and c be -256 to 0, m be 0 to 3, and deltaG be 0 to 30, plus ensure positive variance\n",
    "def log_prior(theta):\n",
    "    b, c, m, dg, sigma2 = theta\n",
    "    if -256 <= b <= 0 and -256 <= c <= 0 and 0 < m < 3 and 0 < dg <= 30 and 0 < sigma2:\n",
    "        return 0.0\n",
    "    return -np.inf\n",
    "\n",
    "def log_probability(theta, x, y):\n",
    "    lp = log_prior(theta)\n",
    "    if not np.isfinite(lp):\n",
    "        return -np.inf\n",
    "    return lp + log_likelihood(theta, x, y)\n",
    "\n",
    "init = [*popt, 1] + 1e-4 * np.random.randn(32, 5)\n",
    "\n",
    "sampler = emcee.EnsembleSampler(32, 5, log_probability, args=(ureaconcentration[1:14], intensities))\n",
    "sampler.run_mcmc(init, 100256, progress=True)"
   ]
  },
  {
   "cell_type": "code",
   "execution_count": 22,
   "metadata": {},
   "outputs": [
    {
     "name": "stdout",
     "output_type": "stream",
     "text": [
      "95% confidence interval on m: 1.1639339562705144-1.908030714950723\n",
      "95% confidence interval on ΔG: 8.642293065317034-14.043228493088042\n",
      "Correlation between m and ΔG: 0.9938226557994302\n"
     ]
    },
    {
     "data": {
      "image/png": "[encoded data removed]",
      "text/plain": [
       "<Figure size 432x288 with 1 Axes>"
      ]
     },
     "metadata": {
      "needs_background": "light"
     },
     "output_type": "display_data"
    }
   ],
   "source": [
    "samples = sampler.get_chain(discard = 256) # We'll blindly discard the first 256 samples as burn-in\n",
    "plt.hist2d(samples[:,:,2].flatten(), samples[:,:,3].flatten(), bins = 400, cmap = 'binary')\n",
    "plt.xlabel(\"m-value (kcal/mol/M)\")\n",
    "plt.ylabel(\"ΔG (kcal/mol)\")\n",
    "plt.title(\"The posterior distribution of ΔG and m-value\\nfrom Bayesian inference on the least-squares problem\")\n",
    "print(\"95% confidence interval on m: \" + str(np.quantile(samples[:,:,2].flatten(), 0.025)) + \"-\" + str(np.quantile(samples[:,:,2].flatten(), 0.975)))\n",
    "print(\"95% confidence interval on ΔG: \" + str(np.quantile(samples[:,:,3].flatten(), 0.025)) + \"-\" + str(np.quantile(samples[:,:,3].flatten(), 0.975)))\n",
    "print(\"Correlation between m and ΔG: \" + str(np.corrcoef(samples[:,:,2].flatten(), samples[:,:,3].flatten())[0,1]))"
   ]
  }
 ],
 "metadata": {
  "kernelspec": {
   "display_name": "Python 3",
   "language": "python",
   "name": "python3"
  },
  "language_info": {
   "codemirror_mode": {
    "name": "ipython",
    "version": 3
   },
   "file_extension": ".py",
   "mimetype": "text/x-python",
   "name": "python",
   "nbconvert_exporter": "python",
   "pygments_lexer": "ipython3",
   "version": "3.6.10"
  }
 },
 "nbformat": 4,
 "nbformat_minor": 2
}
