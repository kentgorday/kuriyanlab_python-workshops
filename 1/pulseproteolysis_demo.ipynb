{
 "cells": [
  {
   "cell_type": "code",
   "execution_count": 1,
   "metadata": {},
   "outputs": [
    {
     "name": "stdout",
     "output_type": "stream",
     "text": [
      "7\n",
      "2\n",
      "0\n",
      "3\n",
      "6\n",
      "['banana', 'apple', 'kiwi', 'banana', 'pear', 'apple', 'orange']\n",
      "['banana', 'apple', 'kiwi', 'banana', 'pear', 'apple', 'orange', 'grape']\n",
      "['apple', 'apple', 'banana', 'banana', 'grape', 'kiwi', 'orange', 'pear']\n",
      "pear\n"
     ]
    }
   ],
   "source": [
    "# Let's quickly review some basic python\n",
    "# Lists are the most flexible container objects in python\n",
    "# For example, we can add and remove from anywhere in the list, reorder it, and modify the elements directly\n",
    "# Lists can also contain different data types in different elements, or even lists of different length\n",
    "\n",
    "# If you aren't familiar with list behavior in python, play around with this example list of strings,\n",
    "# from the python tutorial:\n",
    "fruits = ['orange', 'apple', 'pear', 'banana', 'kiwi', 'apple', 'banana']\n",
    "print(len(fruits)) # length of list\n",
    "print(fruits.count('apple'))\n",
    "print(fruits.count('tangerine'))\n",
    "print(fruits.index('banana'))\n",
    "print(fruits.index('banana', 4))  # Find next banana starting a position 4\n",
    "fruits.reverse()\n",
    "print(fruits)\n",
    "fruits.append('grape')\n",
    "print(fruits)\n",
    "fruits.sort()\n",
    "print(fruits)\n",
    "print(fruits.pop())"
   ]
  },
  {
   "cell_type": "code",
   "execution_count": 2,
   "metadata": {},
   "outputs": [
    {
     "name": "stdout",
     "output_type": "stream",
     "text": [
      "[0, 1, 4, 9, 16, 25, 36, 49, 64, 81]\n",
      "[0, 1, 4, 9, 16, 25, 36, 49, 64, 81]\n"
     ]
    }
   ],
   "source": [
    "# Among the most convenient advantages of python is list comprehension\n",
    "\n",
    "# We could create a list of the first 10 squares using a boring for loop:\n",
    "squares = [] # an empty list\n",
    "for x in range(10): # range(n) will generate n integers from 0 to n-1\n",
    "    squares.append(x**2)\n",
    "print(squares)\n",
    "\n",
    "# But we could also create the same list in a single line using list comprehension:\n",
    "print([x**2 for x in range(10)])"
   ]
  },
  {
   "cell_type": "code",
   "execution_count": 3,
   "metadata": {},
   "outputs": [
    {
     "name": "stdout",
     "output_type": "stream",
     "text": [
      "Help on built-in function open in module io:\n",
      "\n",
      "open(file, mode='r', buffering=-1, encoding=None, errors=None, newline=None, closefd=True, opener=None)\n",
      "    Open file and return a stream.  Raise IOError upon failure.\n",
      "    \n",
      "    file is either a text or byte string giving the name (and the path\n",
      "    if the file isn't in the current working directory) of the file to\n",
      "    be opened or an integer file descriptor of the file to be\n",
      "    wrapped. (If a file descriptor is given, it is closed when the\n",
      "    returned I/O object is closed, unless closefd is set to False.)\n",
      "    \n",
      "    mode is an optional string that specifies the mode in which the file\n",
      "    is opened. It defaults to 'r' which means open for reading in text\n",
      "    mode.  Other common values are 'w' for writing (truncating the file if\n",
      "    it already exists), 'x' for creating and writing to a new file, and\n",
      "    'a' for appending (which on some Unix systems, means that all writes\n",
      "    append to the end of the file regardless of the current seek position).\n",
      "    In text mode, if encoding is not specified the encoding used is platform\n",
      "    dependent: locale.getpreferredencoding(False) is called to get the\n",
      "    current locale encoding. (For reading and writing raw bytes use binary\n",
      "    mode and leave encoding unspecified.) The available modes are:\n",
      "    \n",
      "    ========= ===============================================================\n",
      "    Character Meaning\n",
      "    --------- ---------------------------------------------------------------\n",
      "    'r'       open for reading (default)\n",
      "    'w'       open for writing, truncating the file first\n",
      "    'x'       create a new file and open it for writing\n",
      "    'a'       open for writing, appending to the end of the file if it exists\n",
      "    'b'       binary mode\n",
      "    't'       text mode (default)\n",
      "    '+'       open a disk file for updating (reading and writing)\n",
      "    'U'       universal newline mode (deprecated)\n",
      "    ========= ===============================================================\n",
      "    \n",
      "    The default mode is 'rt' (open for reading text). For binary random\n",
      "    access, the mode 'w+b' opens and truncates the file to 0 bytes, while\n",
      "    'r+b' opens the file without truncation. The 'x' mode implies 'w' and\n",
      "    raises an `FileExistsError` if the file already exists.\n",
      "    \n",
      "    Python distinguishes between files opened in binary and text modes,\n",
      "    even when the underlying operating system doesn't. Files opened in\n",
      "    binary mode (appending 'b' to the mode argument) return contents as\n",
      "    bytes objects without any decoding. In text mode (the default, or when\n",
      "    't' is appended to the mode argument), the contents of the file are\n",
      "    returned as strings, the bytes having been first decoded using a\n",
      "    platform-dependent encoding or using the specified encoding if given.\n",
      "    \n",
      "    'U' mode is deprecated and will raise an exception in future versions\n",
      "    of Python.  It has no effect in Python 3.  Use newline to control\n",
      "    universal newlines mode.\n",
      "    \n",
      "    buffering is an optional integer used to set the buffering policy.\n",
      "    Pass 0 to switch buffering off (only allowed in binary mode), 1 to select\n",
      "    line buffering (only usable in text mode), and an integer > 1 to indicate\n",
      "    the size of a fixed-size chunk buffer.  When no buffering argument is\n",
      "    given, the default buffering policy works as follows:\n",
      "    \n",
      "    * Binary files are buffered in fixed-size chunks; the size of the buffer\n",
      "      is chosen using a heuristic trying to determine the underlying device's\n",
      "      \"block size\" and falling back on `io.DEFAULT_BUFFER_SIZE`.\n",
      "      On many systems, the buffer will typically be 4096 or 8192 bytes long.\n",
      "    \n",
      "    * \"Interactive\" text files (files for which isatty() returns True)\n",
      "      use line buffering.  Other text files use the policy described above\n",
      "      for binary files.\n",
      "    \n",
      "    encoding is the name of the encoding used to decode or encode the\n",
      "    file. This should only be used in text mode. The default encoding is\n",
      "    platform dependent, but any encoding supported by Python can be\n",
      "    passed.  See the codecs module for the list of supported encodings.\n",
      "    \n",
      "    errors is an optional string that specifies how encoding errors are to\n",
      "    be handled---this argument should not be used in binary mode. Pass\n",
      "    'strict' to raise a ValueError exception if there is an encoding error\n",
      "    (the default of None has the same effect), or pass 'ignore' to ignore\n",
      "    errors. (Note that ignoring encoding errors can lead to data loss.)\n",
      "    See the documentation for codecs.register or run 'help(codecs.Codec)'\n",
      "    for a list of the permitted encoding error strings.\n",
      "    \n",
      "    newline controls how universal newlines works (it only applies to text\n",
      "    mode). It can be None, '', '\\n', '\\r', and '\\r\\n'.  It works as\n",
      "    follows:\n",
      "    \n",
      "    * On input, if newline is None, universal newlines mode is\n",
      "      enabled. Lines in the input can end in '\\n', '\\r', or '\\r\\n', and\n",
      "      these are translated into '\\n' before being returned to the\n",
      "      caller. If it is '', universal newline mode is enabled, but line\n",
      "      endings are returned to the caller untranslated. If it has any of\n",
      "      the other legal values, input lines are only terminated by the given\n",
      "      string, and the line ending is returned to the caller untranslated.\n",
      "    \n",
      "    * On output, if newline is None, any '\\n' characters written are\n",
      "      translated to the system default line separator, os.linesep. If\n",
      "      newline is '' or '\\n', no translation takes place. If newline is any\n",
      "      of the other legal values, any '\\n' characters written are translated\n",
      "      to the given string.\n",
      "    \n",
      "    If closefd is False, the underlying file descriptor will be kept open\n",
      "    when the file is closed. This does not work when a file name is given\n",
      "    and must be True in that case.\n",
      "    \n",
      "    A custom opener can be used by passing a callable as *opener*. The\n",
      "    underlying file descriptor for the file object is then obtained by\n",
      "    calling *opener* with (*file*, *flags*). *opener* must return an open\n",
      "    file descriptor (passing os.open as *opener* results in functionality\n",
      "    similar to passing None).\n",
      "    \n",
      "    open() returns a file object whose type depends on the mode, and\n",
      "    through which the standard file operations such as reading and writing\n",
      "    are performed. When open() is used to open a file in a text mode ('w',\n",
      "    'r', 'wt', 'rt', etc.), it returns a TextIOWrapper. When used to open\n",
      "    a file in a binary mode, the returned class varies: in read binary\n",
      "    mode, it returns a BufferedReader; in write binary and append binary\n",
      "    modes, it returns a BufferedWriter, and in read/write mode, it returns\n",
      "    a BufferedRandom.\n",
      "    \n",
      "    It is also possible to use a string or bytearray as a file for both\n",
      "    reading and writing. For strings StringIO can be used like a file\n",
      "    opened in a text mode, and for bytes a BytesIO can be used like a file\n",
      "    opened in a binary mode.\n",
      "\n"
     ]
    }
   ],
   "source": [
    "# We'll use the open() function to read the lines from some data files\n",
    "# First let's read the documentation to figure out what arguments we need to pass to open()\n",
    "# Note: single- and double-clicking on the left side of a jupyter notebook output will change how it is shown\n",
    "help(open)"
   ]
  },
  {
   "cell_type": "code",
   "execution_count": 4,
   "metadata": {},
   "outputs": [
    {
     "name": "stdout",
     "output_type": "stream",
     "text": [
      "['sample,n\\n', '1,1.3358\\n', '2,1.3412\\n', '3,1.3469\\n', '4,1.3525\\n', '5,1.3566\\n', '6,1.3616\\n', '7,1.3642\\n', '8,1.3672\\n', '9,1.3692\\n', '10,1.373\\n', '11,1.378\\n', '12,1.384\\n', '13,1.3889\\n', '14,1.395\\n', '15,1.4006\\n', '16,1.4068\\n']\n"
     ]
    }
   ],
   "source": [
    "# Now let's use readlines() to read each line of our file as a string, storing the whole file within a list:\n",
    "f = open(\"2020-03-12_H173_n.csv\")\n",
    "indices = f.readlines() # returns a list of strings, where each line is one element\n",
    "f.close()\n",
    "print(indices)\n",
    "\n",
    "# The above worked, but for the future let's use this safer and more convenient method of opening files:\n",
    "with open(\"2020-03-12_H173_n.csv\", 'r') as f: # open() uses 'r' for reading mode by default, but we'll be explicit\n",
    "    indices = f.readlines()\n",
    "# The file is closed automatically after the indented block is complete"
   ]
  },
  {
   "cell_type": "code",
   "execution_count": 5,
   "metadata": {},
   "outputs": [
    {
     "name": "stdout",
     "output_type": "stream",
     "text": [
      "['sample,n', '1,1.3358', '2,1.3412', '3,1.3469', '4,1.3525', '5,1.3566', '6,1.3616', '7,1.3642', '8,1.3672', '9,1.3692', '10,1.373', '11,1.378', '12,1.384', '13,1.3889', '14,1.395', '15,1.4006', '16,1.4068']\n"
     ]
    }
   ],
   "source": [
    "# We can see that readlines() left the newline character (\\n) on the end of each line\n",
    "# We could write a simple for loop to go through our list and remove it,\n",
    "# but instead we'll use our list comprehension powers, and the rstrip() method of the string class,\n",
    "# which can also handle \\r characters. It returns the same string with trailing character removed\n",
    "indices = [line.rstrip() for line in indices]\n",
    "print(indices)"
   ]
  },
  {
   "cell_type": "code",
   "execution_count": 6,
   "metadata": {},
   "outputs": [
    {
     "name": "stdout",
     "output_type": "stream",
     "text": [
      "[['sample', 'n'], ['1', '1.3358'], ['2', '1.3412'], ['3', '1.3469'], ['4', '1.3525'], ['5', '1.3566'], ['6', '1.3616'], ['7', '1.3642'], ['8', '1.3672'], ['9', '1.3692'], ['10', '1.373'], ['11', '1.378'], ['12', '1.384'], ['13', '1.3889'], ['14', '1.395'], ['15', '1.4006'], ['16', '1.4068']]\n"
     ]
    }
   ],
   "source": [
    "# Now, we want to separate the two fields of this CSV file\n",
    "# The split() method of the string class will let us split our strings into lists of strings at every comma:\n",
    "indices = [line.split(',') for line in indices]\n",
    "print(indices)\n",
    "# Now we have a list of lists of strings"
   ]
  },
  {
   "cell_type": "code",
   "execution_count": 7,
   "metadata": {},
   "outputs": [
    {
     "name": "stdout",
     "output_type": "stream",
     "text": [
      "['sample', 'n']\n",
      "['sample', '1', '2', '3', '4', '5', '6', '7', '8', '9', '10', '11', '12', '13', '14', '15', '16']\n"
     ]
    }
   ],
   "source": [
    "# Taking a look, we can see that the first list/line (element 0 of indices) is just a header that we don't need:\n",
    "print(indices[0])\n",
    "# And the first column (element 0 of each list within indices) is just a sample number that we also don't need:\n",
    "print([line[0] for line in indices])"
   ]
  },
  {
   "cell_type": "code",
   "execution_count": 8,
   "metadata": {},
   "outputs": [
    {
     "name": "stdout",
     "output_type": "stream",
     "text": [
      "[1.3358, 1.3412, 1.3469, 1.3525, 1.3566, 1.3616, 1.3642, 1.3672, 1.3692, 1.373, 1.378, 1.384, 1.3889, 1.395, 1.4006, 1.4068]\n"
     ]
    }
   ],
   "source": [
    "# Let's simplify our lives by turning our list of lists of strings into what we actually want:\n",
    "# just the floats in the second column, without a header:\n",
    "indices = [float(line[1]) for line in indices[1:]] # convert the 2nd element of each sublist into a float,\n",
    "# starting with the second sublist\n",
    "print(indices)"
   ]
  },
  {
   "cell_type": "code",
   "execution_count": 9,
   "metadata": {},
   "outputs": [
    {
     "name": "stdout",
     "output_type": "stream",
     "text": [
      "[1.3358, 1.3412, 1.3469, 1.3525, 1.3566, 1.3616, 1.3642, 1.3672, 1.3692, 1.373, 1.378, 1.384, 1.3889, 1.395, 1.4006, 1.4068]\n"
     ]
    }
   ],
   "source": [
    "# With great list comprehension power comes great list comprehension responsibility\n",
    "# Note that we could have accomplished all of this in two lines, but no one else would ever have a chance\n",
    "# of understanding our code:\n",
    "with open(\"2020-03-12_H173_n.csv\", 'r') as f:\n",
    "    indices = [float(line.rstrip().split(',')[1]) for line in f.readlines()[1:]]\n",
    "print(indices)"
   ]
  },
  {
   "cell_type": "code",
   "execution_count": 10,
   "metadata": {},
   "outputs": [
    {
     "name": "stdout",
     "output_type": "stream",
     "text": [
      "[[1 2 3]\n",
      " [4 5 6]]\n",
      "[['1' '2' 'If we try to mix a string in an array with integers...']\n",
      " ['4' '5' '6']]\n"
     ]
    }
   ],
   "source": [
    "# For common file formats like CSV, XLS, etc. we can save a lot of time by using the parsers in libraries like\n",
    "# NumPy (used widely for high-level math) or Pandas (which creates R-like dataframes convenient for data analysis)\n",
    "\n",
    "# Let's import NumPy so we can use its file-reading functions. We'll give it a simple abbreviation\n",
    "# because we're lazy. Behold, a contender for most common line of code:\n",
    "import numpy as np\n",
    "\n",
    "# The central feature of NumPy is the NumPy array. Arrays are more restrictive than lists, but also more efficient\n",
    "# Essentially all NumPy functions return arrays, and will convert arguments from lists to arrays\n",
    "# As long as all of our elements are of the same type, we can largely ignore the differences\n",
    "# Let's make a list of lists, then convert it into a 2-dimensional array to convince ourselves:\n",
    "listoflists = [[1,2,3],[4,5,6]]\n",
    "print(np.array(listoflists))\n",
    "\n",
    "listoflists = [[1,2,\"If we try to mix a string in an array with integers...\"],[4,5,6]]\n",
    "print(np.array(listoflists)) # NumPy will outsmart us and convert the entire array to a string array\n",
    "\n",
    "# We can also force NumPy arrays to have a desired data type. The below would throw a ValueError:\n",
    "# print(np.array(listoflists, dtype = int))"
   ]
  },
  {
   "cell_type": "code",
   "execution_count": 11,
   "metadata": {},
   "outputs": [
    {
     "name": "stdout",
     "output_type": "stream",
     "text": [
      "[1.3358 1.3412 1.3469 1.3525 1.3566 1.3616 1.3642 1.3672 1.3692 1.373\n",
      " 1.378  1.384  1.3889 1.395  1.4006 1.4068]\n",
      "[1.3358, 1.3412, 1.3469, 1.3525, 1.3566, 1.3616, 1.3642, 1.3672, 1.3692, 1.373, 1.378, 1.384, 1.3889, 1.395, 1.4006, 1.4068]\n"
     ]
    }
   ],
   "source": [
    "# Let's use NumPy's loadtxt, with comma delimiter, and tell it to skip 1 row plus only use the 2nd column:\n",
    "indices = np.loadtxt(\"2020-03-12_H173_n.csv\", delimiter = ',', skiprows = 1, usecols = 1)\n",
    "print(indices)\n",
    "\n",
    "# We could also convert this back to a list, if we want:\n",
    "print(indices.tolist())\n",
    "# list(indices) produces the same result for our 1D array, but only works in the first dimension,\n",
    "# eg list(np.array(listoflists)) returns a list of NumPy arrays...\n",
    "\n",
    "# There are a lot of other cool features of NumPy arrays, but we won't cover them here"
   ]
  },
  {
   "cell_type": "code",
   "execution_count": 12,
   "metadata": {},
   "outputs": [
    {
     "name": "stdout",
     "output_type": "stream",
     "text": [
      "[0.     0.0054 0.0111 0.0167 0.0208 0.0258 0.0284 0.0314 0.0334 0.0372\n",
      " 0.0422 0.0482 0.0531 0.0592 0.0648 0.071 ]\n",
      "[0.00000e+00 2.91600e-05 1.23210e-04 2.78890e-04 4.32640e-04 6.65640e-04\n",
      " 8.06560e-04 9.85960e-04 1.11556e-03 1.38384e-03 1.78084e-03 2.32324e-03\n",
      " 2.81961e-03 3.50464e-03 4.19904e-03 5.04100e-03]\n",
      "[0.         0.63626082 1.30994564 1.97408405 2.46187018 3.0586195\n",
      " 3.36979207 3.72960405 3.96994917 4.42767781 5.03218244 5.7611144\n",
      " 6.35942014 7.10824456 7.7997925  8.57025884]\n",
      "[0.0, 0.6353639999999823, 1.3060259999999868, 1.9649219999999925, 2.4473279999999917, 3.035627999999979, 3.3415439999999976, 3.694523999999985, 3.929843999999985, 4.376951999999988, 4.965251999999976, 5.671211999999976, 6.247745999999991, 6.96547199999999, 7.624367999999996, 8.353859999999994, 0.0, 0.0008675974799999516, 0.003665867129999926, 0.008297814169999937, 0.012872337919999912, 0.01980478691999973, 0.023997579679999968, 0.02933526787999976, 0.033191256679999746, 0.041173391519999776, 0.052985332519999484, 0.06912335971999943, 0.08389185632999976, 0.1042735539199997, 0.12493403711999988, 0.1499848729999998, 0.0, 2.9219019839997557e-05, 0.0002537776083599923, 0.0008642388342799902, 0.0016698381107199832, 0.003186716886719935, 0.004250493770239992, 0.005744778760639929, 0.006913910674239921, 0.009552415034879923, 0.013945102690879797, 0.02077903997407974, 0.02778228275795988, 0.038499003105279844, 0.05049046628351993, 0.06641396515999987]\n"
     ]
    }
   ],
   "source": [
    "# indices contains the measured refractive index for a bunch of urea solutions of increasing concentration\n",
    "# indices[0] is known to have no urea, so we'll use the Maclaurin series expansion from  \n",
    "# https://doi.org/10.1016/0076-6879(86)31045-0\n",
    "# [urea] = 117.66Δn + 29.753 Δn**2 + 185.56Δn**3\n",
    "\n",
    "# We'll use some math functions from numpy: np.square() and np.power(), and the subtraction operator:\n",
    "print(indices - indices[0]) # subtract the scalar indices[0] from every element of the array indices\n",
    "print(np.square(indices - indices[0])) # square every element of the array produced by the line above\n",
    "ureaconcentration = 117.66 * (indices - indices[0]) + \\\n",
    "                    29.753 * np.square(indices - indices[0]) + \\\n",
    "                    185.56 * np.power((indices - indices[0]), 3)\n",
    "print(ureaconcentration)\n",
    "\n",
    "# We could easily do this with python lists as well, but it is more tedious\n",
    "# The only operation here that python will interpret element-wise as we intend is the addition of the 3 terms:\n",
    "indiceslist = indices.tolist()\n",
    "ureaconcentrationlist = [117.66 * (index - indiceslist[0]) for index in  indiceslist] + \\\n",
    "                        [29.753 * (index - indiceslist[0]) ** 2 for index in  indiceslist] + \\\n",
    "                        [185.56 * (index - indiceslist[0]) ** 3 for index in  indiceslist]\n",
    "print(ureaconcentrationlist)"
   ]
  },
  {
   "cell_type": "code",
   "execution_count": 13,
   "metadata": {},
   "outputs": [
    {
     "name": "stdout",
     "output_type": "stream",
     "text": [
      "(13,)\n",
      "(16,)\n",
      "[0.63626082 1.30994564 1.97408405 2.46187018 3.0586195  3.36979207\n",
      " 3.72960405 3.96994917 4.42767781 5.03218244 5.7611144  6.35942014\n",
      " 7.10824456]\n"
     ]
    }
   ],
   "source": [
    "# We also have relative intensity values for our protein band from an SDS-PAGE gel:\n",
    "intensities = np.loadtxt(\"2020-03-12_H173_2-14.csv\", delimiter = ',', skiprows = 1, usecols = 1)\n",
    "\n",
    "# We were only able to quantify bands 2-14 of the 16 bands, resulting in a smaller list:\n",
    "print(intensities.shape) # Note: len(intensities) is equivalent for 1D arrays\n",
    "print(ureaconcentration.shape)\n",
    "\n",
    "# To match the pairs, we can index from the 2nd value of ureaconcentration to the 14th value:\n",
    "print(ureaconcentration[1:14])\n",
    "# We also could have explicitly excluded the last two values with ureaconcentration[1:-2]\n",
    "# or even provided a list of the elements we wanted (unique to arrays, does not work with lists):\n",
    "# ureaconcentration[list(range(1,14))]"
   ]
  },
  {
   "cell_type": "code",
   "execution_count": 14,
   "metadata": {},
   "outputs": [
    {
     "data": {
      "text/plain": [
       "<matplotlib.collections.PathCollection at 0x7f9a58354780>"
      ]
     },
     "execution_count": 14,
     "metadata": {},
     "output_type": "execute_result"
    },
    {
     "data": {
      "image/png": "[encoded data removed]",
      "text/plain": [
       "<Figure size 432x288 with 1 Axes>"
      ]
     },
     "metadata": {
      "needs_background": "light"
     },
     "output_type": "display_data"
    }
   ],
   "source": [
    "# This line is literally invoking a \"magic function\" of IPython and we won't try to understand:\n",
    "%matplotlib inline\n",
    "# Let's import just the pyplot set of functions from the matplotlib module, and call it plt:\n",
    "from matplotlib import pyplot as plt\n",
    "\n",
    "# Now let's simply plot band intensity versus urea concentration:\n",
    "plt.scatter(ureaconcentration[1:14], intensities)\n",
    "# You can choose to not use the magic function above or plt.show() and all plots after the first\n",
    "# (which you will have to rerun) will appear static as expected with the other two methods..."
   ]
  },
  {
   "cell_type": "code",
   "execution_count": 15,
   "metadata": {},
   "outputs": [
    {
     "data": {
      "text/plain": [
       "Text(0.5, 1.0, 'Pulse proteolysis of H-Ras 1-173')"
      ]
     },
     "execution_count": 15,
     "metadata": {},
     "output_type": "execute_result"
    },
    {
     "data": {
      "image/png": "[encoded data removed]",
      "text/plain": [
       "<Figure size 432x288 with 1 Axes>"
      ]
     },
     "metadata": {
      "needs_background": "light"
     },
     "output_type": "display_data"
    }
   ],
   "source": [
    "# Looks like we have a cooperative folding transition that we should later be able to fit\n",
    "# Let's just add some labels to our plot\n",
    "\n",
    "plt.scatter(ureaconcentration[1:14], intensities)\n",
    "plt.xlabel(\"urea concentration (M)\")\n",
    "plt.ylabel(\"uncleaved band intensity (relative)\")\n",
    "plt.title(\"Pulse proteolysis of H-Ras 1-173\")\n",
    "# We could now use plt.savefig(\"filename.extension\") to save this. I like to save my plots as pdfs"
   ]
  },
  {
   "cell_type": "code",
   "execution_count": 16,
   "metadata": {},
   "outputs": [
    {
     "data": {
      "text/plain": [
       "<matplotlib.legend.Legend at 0x7f9a58270588>"
      ]
     },
     "execution_count": 16,
     "metadata": {},
     "output_type": "execute_result"
    },
    {
     "data": {
      "image/png": "[encoded data removed]",
      "text/plain": [
       "<Figure size 432x288 with 1 Axes>"
      ]
     },
     "metadata": {
      "needs_background": "light"
     },
     "output_type": "display_data"
    }
   ],
   "source": [
    "# Our model has two states, at equilibrium with a free energy difference of deltaG + m * [urea]\n",
    "# Let's define a function describing this cooperative transition:\n",
    "def func(x, b, c, dg): # arguments: urea concentration, nuisance scale parameter, nuisance offset, and deltaG\n",
    "    m = 1.579 # proportionality constant between urea concentration and change in free energy of folding (deltaG)\n",
    "    return b * (1 - np.exp(-m * x / 0.5924849497 + dg)) / (1 + np.exp(-m * x / 0.5924849497 + dg)) - c\n",
    "\n",
    "# Here, we've fixed m to a previously-estimated value for now\n",
    "\n",
    "# Let's get a feel for reasonable parameters. Let's create an array with 10000 points spaced evenly from 0 to 8:\n",
    "x = np.linspace(0, 8, 10000)\n",
    "# Take the function of every point in x, with parameters that give us a curve vaguely like what we see in the data:\n",
    "y = func(x, -20, -40, 10)\n",
    "# And plot it:\n",
    "plt.plot(x,y)\n",
    "# Now let's plot another curve with 5 kcal/mol different deltaG\n",
    "y = func(x, -20, -40, 15)\n",
    "plt.plot(x,y)\n",
    "# And let's add a legend using a list of names so we know what's going on:\n",
    "plt.legend([\"10 kcal/mol\", \"15 kcal/mol\"])"
   ]
  },
  {
   "cell_type": "code",
   "execution_count": 17,
   "metadata": {},
   "outputs": [
    {
     "name": "stdout",
     "output_type": "stream",
     "text": [
      "[-22.24719873 -39.10989123  11.63823523]\n",
      "[[ 0.23489257 -0.07064772 -0.00432551]\n",
      " [-0.07064772  0.27997745  0.03643714]\n",
      " [-0.00432551  0.03643714  0.01257624]]\n"
     ]
    }
   ],
   "source": [
    "# Let's import only the nonlinear least squares curve fitting function from the scipy module\n",
    "from scipy.optimize import curve_fit\n",
    "# For our purposes, it's fine to just imagine curve_fit as tweaking parameters using gradient descent\n",
    "# to minimize the squared error between our function's predicted y-value and the measured y-value\n",
    "\n",
    "# We will feed curve_fit() our func, the x (urea) values, the y (intensity) values, and some reasonable guesses,\n",
    "# then it will return two arrays: one with the optimized parameters, and one with their estimated covariance\n",
    "popt, pcov = curve_fit(func, ureaconcentration[1:14], intensities, p0 = [-20, -40, 10])\n",
    "print(popt) # b, c, and dg parameters in the order they appear as arguments\n",
    "print(pcov)"
   ]
  },
  {
   "cell_type": "code",
   "execution_count": 18,
   "metadata": {},
   "outputs": [
    {
     "name": "stdout",
     "output_type": "stream",
     "text": [
      "[0.48465717 0.52912896 0.11214384]\n"
     ]
    },
    {
     "data": {
      "text/plain": [
       "<matplotlib.legend.Legend at 0x7f9a39366b70>"
      ]
     },
     "execution_count": 18,
     "metadata": {},
     "output_type": "execute_result"
    },
    {
     "data": {
      "image/png": "[encoded data removed]",
      "text/plain": [
       "<Figure size 432x288 with 1 Axes>"
      ]
     },
     "metadata": {
      "needs_background": "light"
     },
     "output_type": "display_data"
    }
   ],
   "source": [
    "# Let's look at how well-determined our parameters seem to be first. We'll take the square root of the\n",
    "# diagonal entries (self-covariance, aka variance of the parameter estimates) to get a standard deviation:\n",
    "print(np.sqrt(np.diag(pcov)))\n",
    "# The deltaG seems fairly well-determined, but let's take a look at the fit itself. We'll again create x-values:\n",
    "x = np.linspace(0, 8, 10000)\n",
    "# and calculate our function of those x-values with optimized parameters:\n",
    "y = func(x, popt[0], popt[1], popt[2]) # Note: could also use func(x, *popt), which will unpack the list\n",
    "# and plot\n",
    "plt.scatter(ureaconcentration[1:14], intensities)\n",
    "plt.plot(x, y)\n",
    "plt.xlabel(\"urea concentration (M)\")\n",
    "plt.ylabel(\"uncleaved band intensity (relative)\")\n",
    "plt.title(\"Pulse proteolysis of H-Ras 1-173, ΔG fit\")\n",
    "# Here I will use C-style string formatting to trim the numbers down to just 2 digits after the decimal (%.2f)\n",
    "# There are also other ways to format floats within strings in python\n",
    "# Also, here I am reporting ± 2 standard deviations, or roughly a 95% confidence interval\n",
    "plt.legend([\"data\", \"fit: ΔG = %.2f±%.2f kcal/mol\" % (popt[2], 2 * np.sqrt(np.diag(pcov))[2])])"
   ]
  },
  {
   "cell_type": "code",
   "execution_count": 19,
   "metadata": {},
   "outputs": [
    {
     "name": "stdout",
     "output_type": "stream",
     "text": [
      "[-22.6778593  -39.05270907   1.41805335  10.47944917]\n",
      "[[ 0.38240107 -0.09662704  0.05039844  0.35695233]\n",
      " [-0.09662704  0.28735704 -0.00843385 -0.02457757]\n",
      " [ 0.05039844 -0.00843385  0.01687999  0.12105772]\n",
      " [ 0.35695233 -0.02457757  0.12105772  0.87917907]]\n"
     ]
    },
    {
     "data": {
      "text/plain": [
       "<matplotlib.legend.Legend at 0x7f9a3931aba8>"
      ]
     },
     "execution_count": 19,
     "metadata": {},
     "output_type": "execute_result"
    },
    {
     "data": {
      "image/png": "[encoded data removed]",
      "text/plain": [
       "<Figure size 432x288 with 1 Axes>"
      ]
     },
     "metadata": {
      "needs_background": "light"
     },
     "output_type": "display_data"
    }
   ],
   "source": [
    "# Usually, you do not fit the m-value (urea proportionality constant or equivalently slope at the midpoint)\n",
    "# and deltaG together from pulse proteolysis data, because there are few points in the transition region.\n",
    "# Let's just play around with how bad an idea this is on our data:\n",
    "\n",
    "# We'll redefine func() to take m as an argument:\n",
    "def func(x, b, c, m, dg):\n",
    "    return b * (1 - np.exp(-m * x / 0.5924849497 + dg)) / (1 + np.exp(-m * x / 0.5924849497 + dg)) - c\n",
    "\n",
    "popt, pcov = curve_fit(func, ureaconcentration[1:14], intensities, p0 = [-20, -40, 1.6, 10])\n",
    "print(popt)\n",
    "print(pcov)\n",
    "y = func(x, *popt)\n",
    "plt.scatter(ureaconcentration[1:14], intensities)\n",
    "plt.plot(x, y)\n",
    "plt.xlabel(\"urea concentration (M)\")\n",
    "plt.ylabel(\"uncleaved band intensity (relative)\")\n",
    "plt.title(\"Pulse proteolysis of H-Ras 1-173, ΔG and m-value fit\")\n",
    "plt.legend([\"data\", \"fit:\\nΔG = %.2f±%.2f kcal/mol,\\nm = %.2f±%.2f kcal/mol/M\" %\n",
    "            (popt[3], 2 * np.sqrt(np.diag(pcov))[3], popt[2], 2 * np.sqrt(np.diag(pcov))[2])])\n",
    "\n",
    "# We see that the diagonal terms corresponding to the covariance between m-value and deltaG are large,\n",
    "# but it is hard for us to really grasp in this format"
   ]
  },
  {
   "cell_type": "code",
   "execution_count": 20,
   "metadata": {},
   "outputs": [
    {
     "data": {
      "text/plain": [
       "Text(0.5, 1.0, 'Our estimates of the ΔG and m-value from this data\\nare heavily correlated and poorly-determined')"
      ]
     },
     "execution_count": 20,
     "metadata": {},
     "output_type": "execute_result"
    },
    {
     "data": {
      "image/png": "[encoded data removed]",
      "text/plain": [
       "<Figure size 432x288 with 1 Axes>"
      ]
     },
     "metadata": {
      "needs_background": "light"
     },
     "output_type": "display_data"
    }
   ],
   "source": [
    "# Let's take this covariance matrix at its face and histogram up a bunch of samples from a bivariate normal\n",
    "# distribution to understand the approximate joint distribution of our parameter estimates\n",
    "# NumPy makes the sampling easy:\n",
    "draws = np.random.multivariate_normal(popt[-2:], pcov[-2:, -2:], 100000)\n",
    "# And matplotlib lets us directly draw a 2D histogram:\n",
    "plt.hist2d(draws[:,0], draws[:,1], bins = 400, cmap = 'binary')\n",
    "plt.xlabel(\"m-value (kcal/mol/M)\")\n",
    "plt.ylabel(\"ΔG (kcal/mol)\")\n",
    "plt.title(\"Our estimates of the ΔG and m-value from this data\\nare heavily correlated and poorly-determined\")\n",
    "\n",
    "# Hopefully it is now obvious why we should stick to fitting just the deltaG (or equivalently Cm) at fixed m-value"
   ]
  },
  {
   "cell_type": "code",
   "execution_count": 21,
   "metadata": {},
   "outputs": [
    {
     "name": "stderr",
     "output_type": "stream",
     "text": [
      "100%|██████████| 100256/100256 [02:50<00:00, 587.14it/s]\n"
     ]
    }
   ],
   "source": [
    "# Let's be a bit more rigorous using Bayesian inference\n",
    "# We'll stick to nonlinear-least squares. This prescribes a normal distribution of measurements around predictions\n",
    "# We'll import the affine-invariant Markov Chain Monte Carlo (MCMC) sampler from the module emcee (\"the hammer\")\n",
    "import emcee\n",
    "# We can use it in the same way we would use a simple Metropolis-Hastings algorithm\n",
    "# This means that we do not need to normalize our probabilities, as only ratios of probabilities matter\n",
    "\n",
    "# This function is just the log-likelihood for a normal distribution with mean of our function and sigma to be fit\n",
    "# Sigma2 is the variance due to measurement error in the y direction and is the same for all measurements\n",
    "# The parameters must be the first argument for emcee\n",
    "def log_likelihood(theta, x, y): # We have to wrap up our parameters into a single list, we'll call it theta\n",
    "    b, c, m, dg, sigma2 = theta # We'll now take the individual parameter values back out of the list\n",
    "    ypred = func(x, b, c, m, dg)\n",
    "    return -0.5 * (np.sum(np.square(y - ypred) / sigma2 + np.log(2 * np.pi * sigma2)))\n",
    "\n",
    "# Let's use uniform priors. We'll return 0 (log 1) everywhere inside our bounds, and negative infinity elsewhere\n",
    "# We'll allow b and c be -256 to 0, m be 0 to 3, deltaG be 0 to 30, and the nuisance sigma2 be 0 to 1000\n",
    "def log_prior(theta):\n",
    "    b, c, m, dg, sigma2 = theta\n",
    "    if -256 <= b <= 0 and -256 <= c <= 0 and 0 < m < 3 and 0 < dg <= 30 and 0 < sigma2 < 1000:\n",
    "        return 0.0\n",
    "    return -np.inf\n",
    "\n",
    "# Our posterior probability from Bayes' theorem is now prior * likelihood,\n",
    "# so the log probability is simply the sum of log_prior and log_probability\n",
    "def log_probability(theta, x, y):\n",
    "    lp = log_prior(theta)\n",
    "    if not np.isfinite(lp):\n",
    "        return -np.inf\n",
    "    return lp + log_likelihood(theta, x, y)\n",
    "# Note: because our prior is uniform, we don't actually need lp in the above line, but I've kept it for clarity\n",
    "\n",
    "# We are going to use 32 walkers and need starting parameters for each walker\n",
    "# We'll add a tiny bit of normally-distributed noise around the optimized parameters from curve_fit:\n",
    "init = [*popt, 1] + 1e-4 * np.random.randn(32, 5)\n",
    "\n",
    "# And we'll create the sampler object with 32 walkers, 5 parameters, our log probability function, and data\n",
    "sampler = emcee.EnsembleSampler(32, 5, log_probability, args=(ureaconcentration[1:14], intensities))\n",
    "# Now we'll run it for 100256 steps (and throw out the returned state as _ for the sake of avoiding ugly output)\n",
    "_ = sampler.run_mcmc(init, 100256, progress=True)"
   ]
  },
  {
   "cell_type": "code",
   "execution_count": 22,
   "metadata": {},
   "outputs": [
    {
     "name": "stdout",
     "output_type": "stream",
     "text": [
      "95% confidence interval on m: 1.17-1.90\n",
      "95% confidence interval on ΔG: 8.66-14.01\n",
      "Correlation between m and ΔG: 0.99\n"
     ]
    },
    {
     "data": {
      "image/png": "[encoded data removed]",
      "text/plain": [
       "<Figure size 432x288 with 1 Axes>"
      ]
     },
     "metadata": {
      "needs_background": "light"
     },
     "output_type": "display_data"
    }
   ],
   "source": [
    "samples = sampler.get_chain(discard = 256) # We'll blindly discard the first 256 samples as burn-in/equilibration\n",
    "# Samples has shape (walkers, steps, parameters), we care about the value for a parameter over all walkers/steps\n",
    "# so we will index as [:,:,i] and use the flatten() method to collapse the values into a 1-D array\n",
    "# We will draw the plot with roughly the same bounds as our plot of the normal approximation\n",
    "plt.hist2d(samples[:,:,2].flatten(), samples[:,:,3].flatten(),\n",
    "           range = [[np.min(draws[:,0]), np.max(draws[:,0])],[np.min(draws[:,1]), np.max(draws[:,1])]],\n",
    "           bins = 400, cmap = 'binary')\n",
    "plt.xlabel(\"m-value (kcal/mol/M)\")\n",
    "plt.ylabel(\"ΔG (kcal/mol)\")\n",
    "plt.title(\"The posterior distribution of ΔG and m-value\\nfrom Bayesian inference on the least-squares problem\")\n",
    "# np.quantile will make it simple to get a 95% confidence interval (2.5% - 97.5%)\n",
    "print(\"95%% confidence interval on m: %.2f-%.2f\" %\n",
    "      (np.quantile(samples[:,:,2].flatten(), 0.025), np.quantile(samples[:,:,2].flatten(), 0.975)))\n",
    "print(\"95%% confidence interval on ΔG: %.2f-%.2f\" %\n",
    "      (np.quantile(samples[:,:,3].flatten(), 0.025), np.quantile(samples[:,:,3].flatten(), 0.975)))\n",
    "# And we can easily calculate the correlation coefficent between m and deltaG using np.corrcoef\n",
    "print(\"Correlation between m and ΔG: %.2f\" %\n",
    "      (np.corrcoef(samples[:,:,2].flatten(), samples[:,:,3].flatten())[0,1]))"
   ]
  },
  {
   "cell_type": "code",
   "execution_count": 23,
   "metadata": {},
   "outputs": [
    {
     "name": "stdout",
     "output_type": "stream",
     "text": [
      "95% confidence interval on ΔG: 11.35-11.98\n"
     ]
    },
    {
     "data": {
      "image/png": "[encoded data removed]",
      "text/plain": [
       "<Figure size 432x288 with 1 Axes>"
      ]
     },
     "metadata": {
      "needs_background": "light"
     },
     "output_type": "display_data"
    }
   ],
   "source": [
    "# Now that it is abundantly clear that we should not be fitting the m-value, you might be tempted to redo the\n",
    "# MCMC sampling with our function where the m-value is fixed. But the distribution of deltaG at a fixed m-value\n",
    "# is already contained within our joint posterior distribution!\n",
    "\n",
    "# We'll grab all of our sampled deltaGs where m was within 1e-4 of the previously-determined value\n",
    "previousm = 1.579\n",
    "# np.nonzero() will give us all of the indices where m is less than our upper bound and greater than our lower\n",
    "selectionarray = np.nonzero((samples[:,:,2].flatten() < previousm + 1e-4) &\n",
    "                            (samples[:,:,2].flatten() > previousm - 1e-4))\n",
    "# And we can simply index the deltaG NumPy array using this NumPy array of indices\n",
    "plt.hist(samples[:,:,3].flatten()[selectionarray], bins = 32)\n",
    "plt.xlabel(\"ΔG (kcal/mol)\")\n",
    "plt.ylabel(\"Samples within 1e-4 of\\nm = 1.579 kcal/mol/M\")\n",
    "plt.title(\"The conditional distribution of ΔG with fixed m-value\")\n",
    "print(\"95%% confidence interval on ΔG with fixed m-value: %.2f-%.2f\" %\n",
    "      (np.quantile(samples[:,:,3].flatten()[selectionarray], 0.025),\n",
    "       np.quantile(samples[:,:,3].flatten()[selectionarray], 0.975)))"
   ]
  }
 ],
 "metadata": {
  "kernelspec": {
   "display_name": "Python 3",
   "language": "python",
   "name": "python3"
  },
  "language_info": {
   "codemirror_mode": {
    "name": "ipython",
    "version": 3
   },
   "file_extension": ".py",
   "mimetype": "text/x-python",
   "name": "python",
   "nbconvert_exporter": "python",
   "pygments_lexer": "ipython3",
   "version": "3.6.10"
  }
 },
 "nbformat": 4,
 "nbformat_minor": 2
}
