{
  "nbformat": 4,
  "nbformat_minor": 0,
  "metadata": {
    "colab": {
      "name": "argon_demo.ipynb",
      "provenance": [],
      "collapsed_sections": [],
      "authorship_tag": "ABX9TyOkM6AZBsEFY/5qVvxazTp9"
    },
    "kernelspec": {
      "name": "python3",
      "display_name": "Python 3"
    }
  },
  "cells": [
    {
      "cell_type": "code",
      "metadata": {
        "id": "TR9tcyrqt2wS",
        "colab_type": "code",
        "colab": {
          "base_uri": "https://localhost:8080/",
          "height": 1000
        },
        "outputId": "cf4b3b7b-b497-4b84-cbf7-1260cd049b1f"
      },
      "source": [
        "import sys\n",
        "from urllib.request import urlretrieve\n",
        "\n",
        "# Check if Colab is still running Python 3.6.x:\n",
        "if not (sys.version_info.major == 3 and sys.version_info.minor == 6):\n",
        "    print(\"This notebook is specific to Python 3.6.x\")\n",
        "    sys.exit(1)\n",
        "\n",
        "# Download Miniconda installer, specifically the last version targeting 3.6.x:\n",
        "urlretrieve(\"https://repo.anaconda.com/miniconda/Miniconda3-4.5.4-Linux-x86_64.\"\n",
        "            \"sh\", filename = \"miniconda.sh\")\n",
        "# Install Miniconda:\n",
        "!bash miniconda.sh -bfp /usr/local/\n",
        "# Use conda to install Psi4:\n",
        "!conda install -c psi4 psi4 python=3.6 -y\n",
        "\n",
        "# Add conda package install location to PATH so we can import psi4 in Python:\n",
        "sys.path.append(\"/usr/local/lib/python3.6/site-packages\")"
      ],
      "execution_count": 1,
      "outputs": [
        {
          "output_type": "stream",
          "text": [
            "PREFIX=/usr/local\n",
            "installing: python-3.6.5-hc3d631a_2 ...\n",
            "Python 3.6.5 :: Anaconda, Inc.\n",
            "installing: ca-certificates-2018.03.07-0 ...\n",
            "installing: conda-env-2.6.0-h36134e3_1 ...\n",
            "installing: libgcc-ng-7.2.0-hdf63c60_3 ...\n",
            "installing: libstdcxx-ng-7.2.0-hdf63c60_3 ...\n",
            "installing: libffi-3.2.1-hd88cf55_4 ...\n",
            "installing: ncurses-6.1-hf484d3e_0 ...\n",
            "installing: openssl-1.0.2o-h20670df_0 ...\n",
            "installing: tk-8.6.7-hc745277_3 ...\n",
            "installing: xz-5.2.4-h14c3975_4 ...\n",
            "installing: yaml-0.1.7-had09818_2 ...\n",
            "installing: zlib-1.2.11-ha838bed_2 ...\n",
            "installing: libedit-3.1.20170329-h6b74fdf_2 ...\n",
            "installing: readline-7.0-ha6073c6_4 ...\n",
            "installing: sqlite-3.23.1-he433501_0 ...\n",
            "installing: asn1crypto-0.24.0-py36_0 ...\n",
            "installing: certifi-2018.4.16-py36_0 ...\n",
            "installing: chardet-3.0.4-py36h0f667ec_1 ...\n",
            "installing: idna-2.6-py36h82fb2a8_1 ...\n",
            "installing: pycosat-0.6.3-py36h0a5515d_0 ...\n",
            "installing: pycparser-2.18-py36hf9f622e_1 ...\n",
            "installing: pysocks-1.6.8-py36_0 ...\n",
            "installing: ruamel_yaml-0.15.37-py36h14c3975_2 ...\n",
            "installing: six-1.11.0-py36h372c433_1 ...\n",
            "installing: cffi-1.11.5-py36h9745a5d_0 ...\n",
            "installing: setuptools-39.2.0-py36_0 ...\n",
            "installing: cryptography-2.2.2-py36h14c3975_0 ...\n",
            "installing: wheel-0.31.1-py36_0 ...\n",
            "installing: pip-10.0.1-py36_0 ...\n",
            "installing: pyopenssl-18.0.0-py36_0 ...\n",
            "installing: urllib3-1.22-py36hbe7ace6_0 ...\n",
            "installing: requests-2.18.4-py36he2e5f8d_1 ...\n",
            "installing: conda-4.5.4-py36_0 ...\n",
            "installation finished.\n",
            "WARNING:\n",
            "    You currently have a PYTHONPATH environment variable set. This may cause\n",
            "    unexpected behavior when running the Python interpreter in Miniconda3.\n",
            "    For best results, please verify that your PYTHONPATH only points to\n",
            "    directories of packages that are compatible with the Python interpreter\n",
            "    in Miniconda3: /usr/local\n",
            "Solving environment: - \b\b\\ \b\b| \b\b/ \b\b- \b\b\\ \b\b| \b\b/ \b\b- \b\b\\ \b\b| \b\b/ \b\b- \b\b\\ \b\b| \b\b/ \b\b- \b\b\\ \b\b| \b\b/ \b\b- \b\b\\ \b\b| \b\b/ \b\b- \b\b\\ \b\b| \b\b/ \b\b- \b\b\\ \b\b| \b\b/ \b\b- \b\b\\ \b\b| \b\b/ \b\b- \b\b\\ \b\b| \b\b/ \b\b- \b\b\\ \b\b| \b\b/ \b\b- \b\b\\ \b\b| \b\b/ \b\b- \b\b\\ \b\b| \b\b/ \b\b- \b\b\\ \b\b| \b\b/ \b\b- \b\b\\ \b\b| \b\b/ \b\b- \b\b\\ \b\b| \b\b/ \b\b- \b\b\\ \b\b| \b\b/ \b\b- \b\b\\ \b\b| \b\b/ \b\b- \b\b\\ \b\b| \b\b/ \b\b- \b\b\\ \b\b| \b\b/ \b\b- \b\b\\ \b\b| \b\b/ \b\b- \b\b\\ \b\b| \b\b/ \b\b- \b\b\\ \b\b| \b\b/ \b\b- \b\b\\ \b\b| \b\b/ \b\b- \b\b\\ \b\b| \b\b/ \b\b- \b\b\\ \b\b| \b\b/ \b\b- \b\b\\ \b\b| \b\b/ \b\b- \b\b\\ \b\b| \b\b/ \b\b- \b\b\\ \b\b| \b\b/ \b\b- \b\b\\ \b\b| \b\b/ \b\b- \b\b\\ \b\b| \b\b/ \b\b- \b\b\\ \b\b| \b\b/ \b\b- \b\b\\ \b\b| \b\b/ \b\b- \b\b\\ \b\b| \b\b/ \b\b- \b\b\\ \b\b| \b\b/ \b\b- \b\b\\ \b\b| \b\b/ \b\b- \b\b\\ \b\b| \b\b/ \b\b- \b\b\\ \b\b| \b\b/ \b\b- \b\b\\ \b\b| \b\b/ \b\b- \b\b\\ \b\b| \b\b/ \b\b- \b\b\\ \b\b| \b\b/ \b\b- \b\b\\ \b\b| \b\b/ \b\b- \b\b\\ \b\b| \b\b/ \b\b- \b\b\\ \b\b| \b\b/ \b\b- \b\b\\ \b\b| \b\b/ \b\b- \b\b\\ \b\b| \b\b/ \b\bdone\n",
            "\n",
            "\n",
            "==> WARNING: A newer version of conda exists. <==\n",
            "  current version: 4.5.4\n",
            "  latest version: 4.8.4\n",
            "\n",
            "Please update conda by running\n",
            "\n",
            "    $ conda update -n base conda\n",
            "\n",
            "\n",
            "\n",
            "## Package Plan ##\n",
            "\n",
            "  environment location: /usr/local\n",
            "\n",
            "  added / updated specs: \n",
            "    - psi4\n",
            "    - python=3.6\n",
            "\n",
            "\n",
            "The following packages will be downloaded:\n",
            "\n",
            "    package                    |            build\n",
            "    ---------------------------|-----------------\n",
            "    libffi-3.3                 |       he6710b0_2          54 KB\n",
            "    zlib-1.2.11                |       h7b6447c_3         120 KB\n",
            "    libedit-3.1.20191231       |       h14c3975_1         121 KB\n",
            "    mkl-2020.1                 |              217       200.5 MB\n",
            "    wcwidth-0.2.5              |             py_0          37 KB\n",
            "    pydantic-1.3               |   py36h516909a_0         1.8 MB  psi4\n",
            "    openssl-1.1.1g             |       h7b6447c_0         3.8 MB\n",
            "    ncurses-6.2                |       he6710b0_1         1.1 MB\n",
            "    dkh-1.2                    |       h173d85e_2         407 KB  psi4\n",
            "    importlib_metadata-1.7.0   |                0          11 KB\n",
            "    networkx-2.4               |             py_1         1.2 MB\n",
            "    more-itertools-8.4.0       |             py_0          40 KB\n",
            "    pcmsolver-1.2.1            |   py36h8733eb9_0         2.0 MB  psi4\n",
            "    hdf5-1.10.2                |       hba1933b_1         5.2 MB\n",
            "    libgfortran-ng-7.3.0       |       hdf63c60_0         1.3 MB\n",
            "    atomicwrites-1.4.0         |             py_0          11 KB\n",
            "    pip-20.2.2                 |           py36_0         2.0 MB\n",
            "    numpy-base-1.19.1          |   py36hfa32c7d_0         5.2 MB\n",
            "    libxc-4.3.4                |       h7b6447c_0         6.1 MB  psi4\n",
            "    setuptools-49.6.0          |           py36_0         927 KB\n",
            "    mkl-service-2.3.0          |   py36he904b0f_0         208 KB\n",
            "    gdma-2.2.6                 |       h0e1e685_6         762 KB  psi4\n",
            "    tk-8.6.10                  |       hbc83047_0         3.2 MB\n",
            "    ca-certificates-2020.6.24  |                0         133 KB\n",
            "    python-3.6.10              |       h7579374_2        33.9 MB\n",
            "    zipp-3.1.0                 |             py_0          13 KB\n",
            "    intel-openmp-2020.1        |              217         940 KB\n",
            "    blas-1.0                   |              mkl           6 KB\n",
            "    mkl_random-1.1.1           |   py36h0573a6f_0         382 KB\n",
            "    attrs-19.3.0               |             py_0          39 KB\n",
            "    numpy-1.19.1               |   py36hbc911f0_0          20 KB\n",
            "    pint-0.10                  |             py_0         160 KB  psi4\n",
            "    dataclasses-0.6            |             py_0          15 KB  psi4\n",
            "    six-1.15.0                 |             py_0          13 KB\n",
            "    pluggy-0.13.1              |           py36_0          32 KB\n",
            "    py-1.9.0                   |             py_0          78 KB\n",
            "    decorator-4.4.2            |             py_0          14 KB\n",
            "    libint-1.2.1               |       hb4a4fd4_6       138.5 MB  psi4\n",
            "    gau2grid-1.3.1             |       h035aef0_0         695 KB  psi4\n",
            "    certifi-2020.6.20          |           py36_0         160 KB\n",
            "    wheel-0.34.2               |           py36_0          49 KB\n",
            "    libgcc-ng-9.1.0            |       hdf63c60_0         8.1 MB\n",
            "    xz-5.2.5                   |       h7b6447c_0         438 KB\n",
            "    deepdiff-3.3.0             |           py36_1          40 KB  psi4\n",
            "    pyparsing-2.4.7            |             py_0          64 KB\n",
            "    packaging-20.4             |             py_0          35 KB\n",
            "    chemps2-1.8.9              |       h8c3debe_0         2.3 MB  psi4\n",
            "    readline-8.0               |       h7b6447c_0         428 KB\n",
            "    pytest-4.6.11              |           py36_0         367 KB\n",
            "    psi4-1.3.2+ecbda83         |   py36h34e5639_1        26.5 MB  psi4\n",
            "    _libgcc_mutex-0.1          |             main           3 KB\n",
            "    simint-0.7                 |       h642920c_1         9.6 MB  psi4\n",
            "    sqlite-3.32.3              |       h62c20be_0         2.0 MB\n",
            "    jsonpickle-0.9.6           |           py36_0          45 KB  psi4\n",
            "    libstdcxx-ng-9.1.0         |       hdf63c60_0         4.0 MB\n",
            "    mkl_fft-1.1.0              |   py36h23d657b_0         159 KB\n",
            "    ambit-0.3                  |       h137fa24_1         474 KB  psi4\n",
            "    ld_impl_linux-64-2.33.1    |       h53a641e_7         645 KB\n",
            "    qcelemental-0.15.1         |             py_0         216 KB  psi4\n",
            "    importlib-metadata-1.7.0   |           py36_0          51 KB\n",
            "    ------------------------------------------------------------\n",
            "                                           Total:       466.7 MB\n",
            "\n",
            "The following NEW packages will be INSTALLED:\n",
            "\n",
            "    _libgcc_mutex:      0.1-main                         \n",
            "    ambit:              0.3-h137fa24_1               psi4\n",
            "    atomicwrites:       1.4.0-py_0                       \n",
            "    attrs:              19.3.0-py_0                      \n",
            "    blas:               1.0-mkl                          \n",
            "    chemps2:            1.8.9-h8c3debe_0             psi4\n",
            "    dataclasses:        0.6-py_0                     psi4\n",
            "    decorator:          4.4.2-py_0                       \n",
            "    deepdiff:           3.3.0-py36_1                 psi4\n",
            "    dkh:                1.2-h173d85e_2               psi4\n",
            "    gau2grid:           1.3.1-h035aef0_0             psi4\n",
            "    gdma:               2.2.6-h0e1e685_6             psi4\n",
            "    hdf5:               1.10.2-hba1933b_1                \n",
            "    importlib-metadata: 1.7.0-py36_0                     \n",
            "    importlib_metadata: 1.7.0-0                          \n",
            "    intel-openmp:       2020.1-217                       \n",
            "    jsonpickle:         0.9.6-py36_0                 psi4\n",
            "    ld_impl_linux-64:   2.33.1-h53a641e_7                \n",
            "    libgfortran-ng:     7.3.0-hdf63c60_0                 \n",
            "    libint:             1.2.1-hb4a4fd4_6             psi4\n",
            "    libxc:              4.3.4-h7b6447c_0             psi4\n",
            "    mkl:                2020.1-217                       \n",
            "    mkl-service:        2.3.0-py36he904b0f_0             \n",
            "    mkl_fft:            1.1.0-py36h23d657b_0             \n",
            "    mkl_random:         1.1.1-py36h0573a6f_0             \n",
            "    more-itertools:     8.4.0-py_0                       \n",
            "    networkx:           2.4-py_1                         \n",
            "    numpy:              1.19.1-py36hbc911f0_0            \n",
            "    numpy-base:         1.19.1-py36hfa32c7d_0            \n",
            "    packaging:          20.4-py_0                        \n",
            "    pcmsolver:          1.2.1-py36h8733eb9_0         psi4\n",
            "    pint:               0.10-py_0                    psi4\n",
            "    pluggy:             0.13.1-py36_0                    \n",
            "    psi4:               1.3.2+ecbda83-py36h34e5639_1 psi4\n",
            "    py:                 1.9.0-py_0                       \n",
            "    pydantic:           1.3-py36h516909a_0           psi4\n",
            "    pyparsing:          2.4.7-py_0                       \n",
            "    pytest:             4.6.11-py36_0                    \n",
            "    qcelemental:        0.15.1-py_0                  psi4\n",
            "    simint:             0.7-h642920c_1               psi4\n",
            "    wcwidth:            0.2.5-py_0                       \n",
            "    zipp:               3.1.0-py_0                       \n",
            "\n",
            "The following packages will be UPDATED:\n",
            "\n",
            "    ca-certificates:    2018.03.07-0                      --> 2020.6.24-0            \n",
            "    certifi:            2018.4.16-py36_0                  --> 2020.6.20-py36_0       \n",
            "    libedit:            3.1.20170329-h6b74fdf_2           --> 3.1.20191231-h14c3975_1\n",
            "    libffi:             3.2.1-hd88cf55_4                  --> 3.3-he6710b0_2         \n",
            "    libgcc-ng:          7.2.0-hdf63c60_3                  --> 9.1.0-hdf63c60_0       \n",
            "    libstdcxx-ng:       7.2.0-hdf63c60_3                  --> 9.1.0-hdf63c60_0       \n",
            "    ncurses:            6.1-hf484d3e_0                    --> 6.2-he6710b0_1         \n",
            "    openssl:            1.0.2o-h20670df_0                 --> 1.1.1g-h7b6447c_0      \n",
            "    pip:                10.0.1-py36_0                     --> 20.2.2-py36_0          \n",
            "    python:             3.6.5-hc3d631a_2                  --> 3.6.10-h7579374_2      \n",
            "    readline:           7.0-ha6073c6_4                    --> 8.0-h7b6447c_0         \n",
            "    setuptools:         39.2.0-py36_0                     --> 49.6.0-py36_0          \n",
            "    six:                1.11.0-py36h372c433_1             --> 1.15.0-py_0            \n",
            "    sqlite:             3.23.1-he433501_0                 --> 3.32.3-h62c20be_0      \n",
            "    tk:                 8.6.7-hc745277_3                  --> 8.6.10-hbc83047_0      \n",
            "    wheel:              0.31.1-py36_0                     --> 0.34.2-py36_0          \n",
            "    xz:                 5.2.4-h14c3975_4                  --> 5.2.5-h7b6447c_0       \n",
            "    zlib:               1.2.11-ha838bed_2                 --> 1.2.11-h7b6447c_3      \n",
            "\n",
            "\n",
            "Downloading and Extracting Packages\n",
            "libffi-3.3           |   54 KB | : 100% 1.0/1 [00:00<00:00, 20.32it/s]\n",
            "zlib-1.2.11          |  120 KB | : 100% 1.0/1 [00:00<00:00, 17.77it/s]\n",
            "libedit-3.1.20191231 |  121 KB | : 100% 1.0/1 [00:00<00:00, 19.23it/s]\n",
            "mkl-2020.1           | 200.5 MB | : 100% 1.0/1 [00:42<00:00, 42.35s/it]                \n",
            "wcwidth-0.2.5        |   37 KB | : 100% 1.0/1 [00:00<00:00, 17.64it/s]\n",
            "pydantic-1.3         |  1.8 MB | : 100% 1.0/1 [00:02<00:00,  2.24s/it]               \n",
            "openssl-1.1.1g       |  3.8 MB | : 100% 1.0/1 [00:00<00:00,  1.34it/s]               \n",
            "ncurses-6.2          |  1.1 MB | : 100% 1.0/1 [00:00<00:00,  1.10it/s]               \n",
            "dkh-1.2              |  407 KB | : 100% 1.0/1 [00:01<00:00,  1.66s/it]               \n",
            "importlib_metadata-1 |   11 KB | : 100% 1.0/1 [00:00<00:00, 43.33it/s]\n",
            "networkx-2.4         |  1.2 MB | : 100% 1.0/1 [00:00<00:00,  2.26it/s]               \n",
            "more-itertools-8.4.0 |   40 KB | : 100% 1.0/1 [00:00<00:00, 28.95it/s]\n",
            "pcmsolver-1.2.1      |  2.0 MB | : 100% 1.0/1 [00:02<00:00,  2.19s/it]               \n",
            "hdf5-1.10.2          |  5.2 MB | : 100% 1.0/1 [00:01<00:00,  1.03s/it]               \n",
            "libgfortran-ng-7.3.0 |  1.3 MB | : 100% 1.0/1 [00:00<00:00,  3.25it/s]               \n",
            "atomicwrites-1.4.0   |   11 KB | : 100% 1.0/1 [00:00<00:00, 43.35it/s]\n",
            "pip-20.2.2           |  2.0 MB | : 100% 1.0/1 [00:00<00:00,  1.48it/s]               \n",
            "numpy-base-1.19.1    |  5.2 MB | : 100% 1.0/1 [00:01<00:00,  1.40s/it]               \n",
            "libxc-4.3.4          |  6.1 MB | : 100% 1.0/1 [00:03<00:00,  3.09s/it]               \n",
            "setuptools-49.6.0    |  927 KB | : 100% 1.0/1 [00:00<00:00,  3.25it/s]               \n",
            "mkl-service-2.3.0    |  208 KB | : 100% 1.0/1 [00:00<00:00, 15.17it/s]\n",
            "gdma-2.2.6           |  762 KB | : 100% 1.0/1 [00:01<00:00,  1.78s/it]               \n",
            "tk-8.6.10            |  3.2 MB | : 100% 1.0/1 [00:00<00:00,  1.35it/s]              \n",
            "ca-certificates-2020 |  133 KB | : 100% 1.0/1 [00:00<00:00, 16.74it/s]\n",
            "python-3.6.10        | 33.9 MB | : 100% 1.0/1 [00:05<00:00,  5.55s/it]               \n",
            "zipp-3.1.0           |   13 KB | : 100% 1.0/1 [00:00<00:00, 28.12it/s]\n",
            "intel-openmp-2020.1  |  940 KB | : 100% 1.0/1 [00:00<00:00,  5.29it/s]              \n",
            "blas-1.0             |    6 KB | : 100% 1.0/1 [00:00<00:00, 34.45it/s]\n",
            "mkl_random-1.1.1     |  382 KB | : 100% 1.0/1 [00:00<00:00, 10.90it/s]\n",
            "attrs-19.3.0         |   39 KB | : 100% 1.0/1 [00:00<00:00, 30.71it/s]\n",
            "numpy-1.19.1         |   20 KB | : 100% 1.0/1 [00:00<00:00, 35.97it/s]\n",
            "pint-0.10            |  160 KB | : 100% 1.0/1 [00:01<00:00,  1.56s/it]               \n",
            "dataclasses-0.6      |   15 KB | : 100% 1.0/1 [00:01<00:00,  1.11s/it]               \n",
            "six-1.15.0           |   13 KB | : 100% 1.0/1 [00:00<00:00, 42.85it/s]\n",
            "pluggy-0.13.1        |   32 KB | : 100% 1.0/1 [00:00<00:00,  3.79it/s]               \n",
            "py-1.9.0             |   78 KB | : 100% 1.0/1 [00:00<00:00, 17.78it/s]\n",
            "decorator-4.4.2      |   14 KB | : 100% 1.0/1 [00:00<00:00, 43.01it/s]\n",
            "libint-1.2.1         | 138.5 MB | : 100% 1.0/1 [00:46<00:00, 46.05s/it]                \n",
            "gau2grid-1.3.1       |  695 KB | : 100% 1.0/1 [00:01<00:00,  1.92s/it]               \n",
            "certifi-2020.6.20    |  160 KB | : 100% 1.0/1 [00:00<00:00, 17.45it/s]\n",
            "wheel-0.34.2         |   49 KB | : 100% 1.0/1 [00:00<00:00, 26.98it/s]\n",
            "libgcc-ng-9.1.0      |  8.1 MB | : 100% 1.0/1 [00:01<00:00,  1.45s/it]               \n",
            "xz-5.2.5             |  438 KB | : 100% 1.0/1 [00:00<00:00,  7.23it/s]               \n",
            "deepdiff-3.3.0       |   40 KB | : 100% 1.0/1 [00:01<00:00,  1.21s/it]               \n",
            "pyparsing-2.4.7      |   64 KB | : 100% 1.0/1 [00:00<00:00, 28.51it/s]\n",
            "packaging-20.4       |   35 KB | : 100% 1.0/1 [00:00<00:00, 25.48it/s]\n",
            "chemps2-1.8.9        |  2.3 MB | : 100% 1.0/1 [00:02<00:00,  2.46s/it]               \n",
            "readline-8.0         |  428 KB | : 100% 1.0/1 [00:00<00:00,  8.26it/s]\n",
            "pytest-4.6.11        |  367 KB | : 100% 1.0/1 [00:00<00:00,  7.38it/s]               \n",
            "psi4-1.3.2+ecbda83   | 26.5 MB | : 100% 1.0/1 [00:10<00:00, 10.97s/it]               \n",
            "_libgcc_mutex-0.1    |    3 KB | : 100% 1.0/1 [00:00<00:00, 44.09it/s]\n",
            "simint-0.7           |  9.6 MB | : 100% 1.0/1 [00:04<00:00,  4.33s/it]               \n",
            "sqlite-3.32.3        |  2.0 MB | : 100% 1.0/1 [00:00<00:00,  2.69it/s]               \n",
            "jsonpickle-0.9.6     |   45 KB | : 100% 1.0/1 [00:01<00:00,  1.19s/it]               \n",
            "libstdcxx-ng-9.1.0   |  4.0 MB | : 100% 1.0/1 [00:00<00:00,  1.36it/s]               \n",
            "mkl_fft-1.1.0        |  159 KB | : 100% 1.0/1 [00:00<00:00, 16.98it/s]\n",
            "ambit-0.3            |  474 KB | : 100% 1.0/1 [00:01<00:00,  1.56s/it]               \n",
            "ld_impl_linux-64-2.3 |  645 KB | : 100% 1.0/1 [00:00<00:00,  5.98it/s]              \n",
            "qcelemental-0.15.1   |  216 KB | : 100% 1.0/1 [00:01<00:00,  1.61s/it]               \n",
            "importlib-metadata-1 |   51 KB | : 100% 1.0/1 [00:00<00:00, 26.45it/s]\n",
            "Preparing transaction: \\ \b\b| \b\b/ \b\b- \b\b\\ \b\b| \b\b/ \b\b- \b\b\\ \b\bdone\n",
            "Verifying transaction: / \b\b- \b\b\\ \b\b| \b\b/ \b\b- \b\b\\ \b\b| \b\b/ \b\b- \b\b\\ \b\b| \b\b/ \b\b- \b\b\\ \b\b| \b\b/ \b\b- \b\b\\ \b\b| \b\b/ \b\b- \b\b\\ \b\b| \b\b/ \b\b- \b\b\\ \b\b| \b\b/ \b\b- \b\b\\ \b\b| \b\b/ \b\b- \b\b\\ \b\b| \b\b/ \b\b- \b\b\\ \b\b| \b\b/ \b\b- \b\b\\ \b\b| \b\b/ \b\b- \b\b\\ \b\b| \b\b/ \b\b- \b\b\\ \b\b| \b\b/ \b\b- \b\bdone\n",
            "Executing transaction: | \b\b/ \b\b- \b\b\\ \b\b| \b\b/ \b\b- \b\b\\ \b\b| \b\b/ \b\b- \b\b\\ \b\b| \b\b/ \b\b- \b\b\\ \b\b| \b\b/ \b\b- \b\b\\ \b\b| \b\b/ \b\b- \b\b\\ \b\b| \b\b/ \b\b- \b\b\\ \b\b| \b\b/ \b\b- \b\b\\ \b\b| \b\b/ \b\b- \b\b\\ \b\b| \b\b/ \b\b- \b\b\\ \b\b| \b\b/ \b\b- \b\b\\ \b\b| \b\b/ \b\b- \b\b\\ \b\b| \b\b/ \b\b- \b\b\\ \b\b| \b\b/ \b\b- \b\b\\ \b\b| \b\b/ \b\b- \b\b\\ \b\b| \b\b/ \b\b- \b\b\\ \b\b| \b\b/ \b\b- \b\b\\ \b\b| \b\b/ \b\b- \b\b\\ \b\b| \b\b/ \b\b- \b\b\\ \b\b| \b\b/ \b\b- \b\b\\ \b\b| \b\b/ \b\b- \b\b\\ \b\b| \b\b/ \b\b- \b\b\\ \b\b| \b\b/ \b\b- \b\b\\ \b\b| \b\b/ \b\b- \b\b\\ \b\b| \b\b/ \b\b- \b\b\\ \b\b| \b\b/ \b\b- \b\b\\ \b\b| \b\b/ \b\b- \b\b\\ \b\b| \b\b/ \b\b- \b\b\\ \b\b| \b\b/ \b\b- \b\b\\ \b\b| \b\b/ \b\b- \b\b\\ \b\b| \b\b/ \b\b- \b\b\\ \b\b| \b\b/ \b\b- \b\b\\ \b\b| \b\b/ \b\b- \b\b\\ \b\b| \b\b/ \b\b- \b\b\\ \b\b| \b\b/ \b\b- \b\b\\ \b\b| \b\b/ \b\b- \b\b\\ \b\b| \b\b/ \b\b- \b\b\\ \b\b| \b\b/ \b\b- \b\b\\ \b\b| \b\b/ \b\b- \b\b\\ \b\b| \b\b/ \b\b- \b\b\\ \b\b| \b\b/ \b\b- \b\b\\ \b\b| \b\b/ \b\b- \b\b\\ \b\b| \b\b/ \b\b- \b\b\\ \b\b| \b\b/ \b\b- \b\b\\ \b\b| \b\b/ \b\b- \b\b\\ \b\b| \b\b/ \b\b- \b\b\\ \b\b| \b\b/ \b\b- \b\b\\ \b\b| \b\b/ \b\b- \b\b\\ \b\b| \b\b/ \b\b- \b\b\\ \b\b| \b\b/ \b\b- \b\b\\ \b\b| \b\b/ \b\b- \b\b\\ \b\b| \b\b/ \b\b- \b\b\\ \b\b| \b\b/ \b\b- \b\b\\ \b\b| \b\b/ \b\b- \b\b\\ \b\b| \b\b/ \b\b- \b\b\\ \b\b| \b\b/ \b\b- \b\b\\ \b\b| \b\b/ \b\b- \b\b\\ \b\b| \b\b/ \b\b- \b\b\\ \b\b| \b\b/ \b\b- \b\b\\ \b\b| \b\b/ \b\b- \b\b\\ \b\b| \b\b/ \b\b- \b\b\\ \b\b| \b\b/ \b\b- \b\b\\ \b\b| \b\b/ \b\b- \b\b\\ \b\b| \b\b/ \b\b- \b\b\\ \b\b| \b\b/ \b\b- \b\b\\ \b\b| \b\b/ \b\b- \b\b\\ \b\b| \b\b/ \b\b- \b\b\\ \b\b| \b\b/ \b\b- \b\b\\ \b\b| \b\b/ \b\b- \b\b\\ \b\b| \b\b/ \b\b- \b\b\\ \b\b| \b\b/ \b\b- \b\b\\ \b\b| \b\b/ \b\b- \b\b\\ \b\b| \b\b/ \b\b- \b\b\\ \b\b| \b\b/ \b\b- \b\b\\ \b\b| \b\b/ \b\b- \b\b\\ \b\b| \b\b/ \b\b- \b\b\\ \b\b| \b\b/ \b\b- \b\b\\ \b\b| \b\b/ \b\b- \b\b\\ \b\b| \b\b/ \b\b- \b\b\\ \b\b| \b\b/ \b\b- \b\b\\ \b\b| \b\b/ \b\b- \b\b\\ \b\b| \b\b/ \b\b- \b\b\\ \b\b| \b\b/ \b\b- \b\b\\ \b\b| \b\b/ \b\b- \b\b\\ \b\b| \b\b/ \b\b- \b\b\\ \b\b| \b\b/ \b\b- \b\b\\ \b\b| \b\b/ \b\b- \b\b\\ \b\b| \b\b/ \b\b- \b\b\\ \b\b| \b\b/ \b\b- \b\b\\ \b\b| \b\b/ \b\b- \b\b\\ \b\b| \b\b/ \b\b- \b\b\\ \b\b| \b\b/ \b\b- \b\b\\ \b\b| \b\b/ \b\b- \b\b\\ \b\b| \b\b/ \b\b- \b\b\\ \b\b| \b\b/ \b\b- \b\b\\ \b\b| \b\b/ \b\b- \b\b\\ \b\b| \b\b/ \b\b- \b\b\\ \b\b| \b\b/ \b\b- \b\b\\ \b\b| \b\b/ \b\b- \b\b\\ \b\b| \b\b/ \b\b- \b\b\\ \b\b| \b\b/ \b\b- \b\b\\ \b\b| \b\b/ \b\b- \b\b\\ \b\b| \b\b/ \b\b- \b\b\\ \b\b| \b\b/ \b\b- \b\b\\ \b\b| \b\b/ \b\b- \b\b\\ \b\b| \b\b/ \b\b- \b\b\\ \b\b| \b\b/ \b\b- \b\b\\ \b\b| \b\b/ \b\b- \b\b\\ \b\b| \b\b/ \b\b- \b\b\\ \b\b| \b\b/ \b\b- \b\b\\ \b\b| \b\b/ \b\b- \b\b\\ \b\b| \b\b/ \b\b- \b\b\\ \b\b| \b\b/ \b\b- \b\b\\ \b\b| \b\b/ \b\b- \b\b\\ \b\b| \b\b/ \b\b- \b\b\\ \b\b| \b\b/ \b\b- \b\b\\ \b\b| \b\b/ \b\b- \b\b\\ \b\b| \b\b/ \b\b- \b\b\\ \b\b| \b\b/ \b\b- \b\b\\ \b\b| \b\b/ \b\b- \b\b\\ \b\b| \b\b/ \b\b- \b\b\\ \b\b| \b\b/ \b\b- \b\b\\ \b\b| \b\b/ \b\b- \b\b\\ \b\b| \b\b/ \b\b- \b\b\\ \b\b| \b\b/ \b\b- \b\b\\ \b\b| \b\b/ \b\b- \b\b\\ \b\b| \b\b/ \b\b- \b\b\\ \b\b| \b\b/ \b\b- \b\b\\ \b\b| \b\b/ \b\b- \b\b\\ \b\b| \b\b/ \b\b- \b\b\\ \b\b| \b\b/ \b\b- \b\b\\ \b\b| \b\b/ \b\b- \b\b\\ \b\b| \b\b/ \b\b- \b\b\\ \b\b| \b\b/ \b\b- \b\b\\ \b\b| \b\b/ \b\b- \b\b\\ \b\b| \b\b/ \b\b- \b\b\\ \b\b| \b\b/ \b\b- \b\b\\ \b\b| \b\b/ \b\b- \b\b\\ \b\b| \b\b/ \b\b- \b\b\\ \b\b| \b\b/ \b\b- \b\b\\ \b\b| \b\b/ \b\b- \b\b\\ \b\b| \b\b/ \b\b- \b\b\\ \b\b| \b\b/ \b\b- \b\b\\ \b\b| \b\b/ \b\b- \b\b\\ \b\b| \b\b/ \b\b- \b\b\\ \b\b| \b\b/ \b\b- \b\b\\ \b\b| \b\b/ \b\b- \b\b\\ \b\b| \b\b/ \b\b- \b\b\\ \b\b| \b\b/ \b\b- \b\b\\ \b\b| \b\b/ \b\b- \b\b\\ \b\b| \b\b/ \b\b- \b\b\\ \b\b| \b\b/ \b\b- \b\b\\ \b\b| \b\b/ \b\b- \b\b\\ \b\b| \b\b/ \b\b- \b\b\\ \b\b| \b\b/ \b\b- \b\b\\ \b\b| \b\b/ \b\b- \b\b\\ \b\b| \b\b/ \b\b- \b\b\\ \b\b| \b\b/ \b\b- \b\b\\ \b\b| \b\b/ \b\b- \b\b\\ \b\b| \b\b/ \b\b- \b\b\\ \b\b| \b\b/ \b\b- \b\b\\ \b\bdone\n"
          ],
          "name": "stdout"
        }
      ]
    },
    {
      "cell_type": "code",
      "metadata": {
        "id": "JQzOZq7nwyIc",
        "colab_type": "code",
        "colab": {}
      },
      "source": [
        "import numpy as np\n",
        "import psi4\n",
        "\n",
        "# Let Psi4 use 10/12 GB of memory on the typical Colab:\n",
        "psi4.set_memory(\"10 GB\")\n",
        "\n",
        "# Create a bunch of interatomic distances, in angstroms, where we would like\n",
        "# to evaluate the energy of our Argon dimer:\n",
        "distances = np.linspace(3, 6, 16)\n",
        "\n",
        "# Choose a reasonable basis set to represent the wavefunction:\n",
        "psi4.set_options({\"basis\": \"aug-cc-pVTZ\"})"
      ],
      "execution_count": 2,
      "outputs": []
    },
    {
      "cell_type": "code",
      "metadata": {
        "id": "LggKgBE7xfR8",
        "colab_type": "code",
        "colab": {}
      },
      "source": [
        "# Let's first compute the approximate energy of an isolated Argon atom, that is\n",
        "# the energy of 18 electrons bound to a +18e point charge:\n",
        "monomer = psi4.geometry(\"Ar\")\n",
        "\n",
        "# We'll use a modern, general-purpose density functional theory (DFT)\n",
        "# functional, developed at Berkeley in the Martin Head-Gordon group:\n",
        "monomer_energy = psi4.energy(\"wB97X-V\", molecule = monomer)\n",
        "# Unfortunately, disk space is very limited on Colab, so we have to make sure\n",
        "# temporary files are immediately deleted after each Psi4 run:\n",
        "psi4.core.clean()\n",
        "\n",
        "# Convert resulting energy from Hartrees to kJ/mol:\n",
        "monomer_energy *= psi4.constants.hartree2kJmol"
      ],
      "execution_count": 3,
      "outputs": []
    },
    {
      "cell_type": "code",
      "metadata": {
        "id": "cZx4zwLJJhqz",
        "colab_type": "code",
        "colab": {}
      },
      "source": [
        "results = []\n",
        "\n",
        "# Loop over each distance in distances:\n",
        "for distance in distances:\n",
        "    # Create two argon atoms separated by this distance:\n",
        "    dimer = psi4.geometry(\"\"\"\n",
        "    Ar\n",
        "    Ar 1 \"\"\" + str(distance))\n",
        "    # Compute the energy of this system, convert it to kJ/mol, and subtract\n",
        "    # twice the isolated Ar energy:\n",
        "    results.append(psi4.constants.hartree2kJmol\n",
        "                   * psi4.energy(\"wB97X-V\", molecule = dimer, bsse = \"CP\")\n",
        "                   - 2 * monomer_energy)\n",
        "    psi4.core.clean()"
      ],
      "execution_count": 4,
      "outputs": []
    },
    {
      "cell_type": "code",
      "metadata": {
        "id": "dODhH-tOytsM",
        "colab_type": "code",
        "colab": {
          "base_uri": "https://localhost:8080/",
          "height": 313
        },
        "outputId": "2d3f3aec-927d-427b-9185-b447e6f79a91"
      },
      "source": [
        "# Instruct IPython to display matplotlib plots directly in the notebook output:\n",
        "%matplotlib inline\n",
        "from matplotlib import pyplot as plt\n",
        "\n",
        "# Create a horizontal line at y = 0 for reference:\n",
        "plt.axhline(0, linestyle = \"dashed\", color = \"black\", alpha = 0.3)\n",
        "# Plot the energies and label the plot axes:\n",
        "plt.plot(distances, results)\n",
        "plt.title(\"Argon dimer energy\")\n",
        "plt.xlabel(\"nuclear distance (angstroms)\")\n",
        "plt.ylabel(\"dimer energy - 2 * monomer energy (kJ/mol)\")"
      ],
      "execution_count": 5,
      "outputs": [
        {
          "output_type": "execute_result",
          "data": {
            "text/plain": [
              "Text(0, 0.5, 'dimer energy - 2 * monomer energy (kJ/mol)')"
            ]
          },
          "metadata": {
            "tags": []
          },
          "execution_count": 5
        },
        {
          "output_type": "display_data",
          "data": {
            "image/png": "[encoded data removed]",
            "text/plain": [
              "<Figure size 432x288 with 1 Axes>"
            ]
          },
          "metadata": {
            "tags": [],
            "needs_background": "light"
          }
        }
      ]
    },
    {
      "cell_type": "code",
      "metadata": {
        "id": "ns82Pgqo9HyH",
        "colab_type": "code",
        "colab": {
          "base_uri": "https://localhost:8080/",
          "height": 35
        },
        "outputId": "1118dd39-ba7d-491b-daa9-f64c83ef0de3"
      },
      "source": [
        "# We can also try to decompose the interaction energy into different\n",
        "# components, in this case using symmetry-adapted perturbation theory (SAPT).\n",
        "# For the method used here, we'll need to calculate a correction factor, which\n",
        "# turns out to be the sum of the ionization energy and the highest occupied\n",
        "# molecular orbital (HOMO) energy.\n",
        "\n",
        "# Experimental value from NIST Chemistry WebBook:\n",
        "Ar_ionization_energy = 15.759 / psi4.constants.hartree2ev\n",
        "\n",
        "# Compute the isolated Ar energy and store the resulting wavefunction using the\n",
        "# PBE0 density functional, which is traditionally used for SAPT(DFT):\n",
        "monomer_energy, monomer_wavefunction = psi4.energy(\"PBE0\",\n",
        "                                                   molecule = monomer,\n",
        "                                                   return_wfn = True)\n",
        "psi4.core.clean()\n",
        "\n",
        "# Grab the HOMO energy from this wavefunction object:\n",
        "HOMO_energy = monomer_wavefunction.epsilon_a_subset(\"AO\", \"ALL\").\\\n",
        "                  np[monomer_wavefunction.nalpha() - 1]\n",
        "\n",
        "# Store and print the correction factor:\n",
        "GRAC_shift = Ar_ionization_energy + HOMO_energy\n",
        "print(\"GRAC shift: \" + str(GRAC_shift) + \" hartrees\")"
      ],
      "execution_count": 6,
      "outputs": [
        {
          "output_type": "stream",
          "text": [
            "GRAC shift: 0.13853566570003517 hartrees\n"
          ],
          "name": "stdout"
        }
      ]
    },
    {
      "cell_type": "code",
      "metadata": {
        "id": "V41RAje5Xfm7",
        "colab_type": "code",
        "colab": {}
      },
      "source": [
        "results_sapt = []\n",
        "results_sapt_decomposed = []\n",
        "\n",
        "# Specify the correction factor and density functional for SAPT:\n",
        "psi4.set_options({\"basis\": \"aug-cc-pVTZ\", \"SAPT_DFT_functional\": \"PBE0\",\n",
        "                  \"SAPT_DFT_GRAC_shift_a\": GRAC_shift,\n",
        "                  \"SAPT_DFT_GRAC_shift_b\": GRAC_shift})\n",
        "\n",
        "for distance in distances:\n",
        "    psi4.set_module_options(\"SCF\", {\"reference\": \"RHF\"})\n",
        "    dimer = psi4.geometry(\"\"\"\n",
        "    Ar\n",
        "    --\n",
        "    Ar 1 \"\"\" + str(distance))\n",
        "    # Store the total interaction energy, converted to kJ/mol:\n",
        "    results_sapt.append(psi4.constants.hartree2kJmol\n",
        "                        * psi4.energy(\"SAPT(DFT)\", molecule = dimer))\n",
        "    # Also store the individual energy components from this decomposition:\n",
        "    results_sapt_decomposed.append([psi4.constants.hartree2kJmol\n",
        "                                    * psi4.core.variable(' '.join([\"SAPT\", term,\n",
        "                                                                   \"ENERGY\"]))\n",
        "                                    for term in\n",
        "                                    [\"ELST\", \"EXCH\", \"DISP\", \"IND\"]])\n",
        "    psi4.core.clean()"
      ],
      "execution_count": 7,
      "outputs": []
    },
    {
      "cell_type": "code",
      "metadata": {
        "id": "v1Fvz2COyYku",
        "colab_type": "code",
        "colab": {
          "base_uri": "https://localhost:8080/",
          "height": 313
        },
        "outputId": "cb38b314-df2f-4ee2-88f2-7cf897ac14b3"
      },
      "source": [
        "# Again plot a line at y = 0 for reference, but exclude it from the legend:\n",
        "plt.axhline(0, linestyle = \"dashed\", color = \"black\", alpha = 0.3,\n",
        "            label='_nolegend_')\n",
        "plt.plot(distances, results_sapt)\n",
        "for i in range(4):\n",
        "    plt.plot(distances, np.array(results_sapt_decomposed)[:,i])\n",
        "plt.title(\"Argon dimer energy decomposition\")\n",
        "plt.xlabel(\"nuclear distance (angstroms)\")\n",
        "plt.ylabel(\"interaction energy (kJ/mol)\")\n",
        "\n",
        "# Create a legend:\n",
        "plt.legend([\"total\", \"electrostatics\", \"exchange\", \"dispersion\", \"induction\"])\n",
        "\n",
        "# Focus the plot on just the interesting region of the decomposition:\n",
        "plt.xlim(3, 6)\n",
        "plt.ylim(-4, 8)"
      ],
      "execution_count": 8,
      "outputs": [
        {
          "output_type": "execute_result",
          "data": {
            "text/plain": [
              "(-4.0, 8.0)"
            ]
          },
          "metadata": {
            "tags": []
          },
          "execution_count": 8
        },
        {
          "output_type": "display_data",
          "data": {
            "image/png": "[encoded data removed]",
            "text/plain": [
              "<Figure size 432x288 with 1 Axes>"
            ]
          },
          "metadata": {
            "tags": [],
            "needs_background": "light"
          }
        }
      ]
    },
    {
      "cell_type": "code",
      "metadata": {
        "id": "q-ULAkJWbYzd",
        "colab_type": "code",
        "colab": {
          "base_uri": "https://localhost:8080/",
          "height": 367
        },
        "outputId": "18b9b56f-5ff6-4155-c44c-cc54a1b53419"
      },
      "source": [
        "from scipy.optimize import curve_fit\n",
        "\n",
        "# For simulations, a Lennard-Jones potential is often used to approximate the\n",
        "# exchange (Pauli repulsion) and dispersion (attractive) interactions. Let's\n",
        "# define a function to compute the Lennard-Jones potential:\n",
        "def lennard_jones(r, depth, r_minimum):\n",
        "    return depth * ((r_minimum / r) ** 12 - 2 * (r_minimum / r) ** 6)\n",
        "\n",
        "# Fit depth and r_minimum parameters by minimizing the sum of squared errors:\n",
        "parameters_optimized, parameters_covariance = curve_fit(lennard_jones,\n",
        "                                                        distances,\n",
        "                                                        results,\n",
        "                                                        p0 = (1, 4))\n",
        "\n",
        "print(\"Optimized parameters:\")\n",
        "print(\"depth: \" + str(parameters_optimized[0]) + \" kJ/mol\")\n",
        "print(\"r_minimum: \" + str(parameters_optimized[1]) + \" angstroms\")\n",
        "\n",
        "# Create a bunch of points at which to evaluate the function for plotting:\n",
        "xvals = np.linspace(3, 6, 10000)\n",
        "# And actually evalute the function value at each point in the NumPy array:\n",
        "yvals = lennard_jones(xvals, *parameters_optimized)\n",
        "\n",
        "# We'll plot the energies and the fitted Lennard-Jones potential together\n",
        "# to get an idea of how well it approximates the Argon-Argon interaction:\n",
        "plt.scatter(distances, results, label = \"ωB97X-V energies\")\n",
        "plt.plot(xvals, yvals, color = 'C1', label = \"Lennard-Jones least-squares fit\")\n",
        "plt.title(\"Argon dimer Lennard-Jones approximation\")\n",
        "plt.xlabel(\"nuclear distance (angstroms)\")\n",
        "plt.ylabel(\"interaction energy (kJ/mol)\")\n",
        "plt.legend()"
      ],
      "execution_count": 9,
      "outputs": [
        {
          "output_type": "stream",
          "text": [
            "Optimized parameters:\n",
            "depth: 1.050768652916631 kJ/mol\n",
            "r_minimum: 3.7973463229590854 angstroms\n"
          ],
          "name": "stdout"
        },
        {
          "output_type": "execute_result",
          "data": {
            "text/plain": [
              "<matplotlib.legend.Legend at 0x7f9006a0eb38>"
            ]
          },
          "metadata": {
            "tags": []
          },
          "execution_count": 9
        },
        {
          "output_type": "display_data",
          "data": {
            "image/png": "[encoded data removed]",
            "text/plain": [
              "<Figure size 432x288 with 1 Axes>"
            ]
          },
          "metadata": {
            "tags": [],
            "needs_background": "light"
          }
        }
      ]
    }
  ]
}